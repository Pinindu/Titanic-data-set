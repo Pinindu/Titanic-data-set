{
 "cells": [
  {
   "cell_type": "markdown",
   "metadata": {},
   "source": [
    "## Predict survival on the titanic"
   ]
  },
  {
   "cell_type": "code",
   "execution_count": 1,
   "metadata": {},
   "outputs": [],
   "source": [
    "#---------Steps------------\n",
    "\n",
    "#Define the problem statement\n",
    "#Collect the Data\n",
    "#Exploratory data analysis\n",
    "#Feature Engineering\n",
    "#Feature Selection\n",
    "#Modeling \n",
    "#Testing"
   ]
  },
  {
   "cell_type": "markdown",
   "metadata": {},
   "source": [
    "## The Challenge\n",
    "\n",
    "Build a predictive model that answers the question: “what sorts of people were more likely to survive?” using passenger data (ie name, age, gender, socio-economic class, etc)."
   ]
  },
  {
   "cell_type": "code",
   "execution_count": 2,
   "metadata": {},
   "outputs": [],
   "source": [
    "#Data Set\n",
    "import pandas as pd\n",
    "train=pd.read_csv('train.csv') \n",
    "test=pd.read_csv('test.csv')     "
   ]
  },
  {
   "cell_type": "code",
   "execution_count": 3,
   "metadata": {},
   "outputs": [
    {
     "data": {
      "text/html": [
       "<div>\n",
       "<style scoped>\n",
       "    .dataframe tbody tr th:only-of-type {\n",
       "        vertical-align: middle;\n",
       "    }\n",
       "\n",
       "    .dataframe tbody tr th {\n",
       "        vertical-align: top;\n",
       "    }\n",
       "\n",
       "    .dataframe thead th {\n",
       "        text-align: right;\n",
       "    }\n",
       "</style>\n",
       "<table border=\"1\" class=\"dataframe\">\n",
       "  <thead>\n",
       "    <tr style=\"text-align: right;\">\n",
       "      <th></th>\n",
       "      <th>PassengerId</th>\n",
       "      <th>Survived</th>\n",
       "      <th>Pclass</th>\n",
       "      <th>Name</th>\n",
       "      <th>Sex</th>\n",
       "      <th>Age</th>\n",
       "      <th>SibSp</th>\n",
       "      <th>Parch</th>\n",
       "      <th>Ticket</th>\n",
       "      <th>Fare</th>\n",
       "      <th>Cabin</th>\n",
       "      <th>Embarked</th>\n",
       "    </tr>\n",
       "  </thead>\n",
       "  <tbody>\n",
       "    <tr>\n",
       "      <th>0</th>\n",
       "      <td>1</td>\n",
       "      <td>0</td>\n",
       "      <td>3</td>\n",
       "      <td>Braund, Mr. Owen Harris</td>\n",
       "      <td>male</td>\n",
       "      <td>22.0</td>\n",
       "      <td>1</td>\n",
       "      <td>0</td>\n",
       "      <td>A/5 21171</td>\n",
       "      <td>7.2500</td>\n",
       "      <td>NaN</td>\n",
       "      <td>S</td>\n",
       "    </tr>\n",
       "    <tr>\n",
       "      <th>1</th>\n",
       "      <td>2</td>\n",
       "      <td>1</td>\n",
       "      <td>1</td>\n",
       "      <td>Cumings, Mrs. John Bradley (Florence Briggs Th...</td>\n",
       "      <td>female</td>\n",
       "      <td>38.0</td>\n",
       "      <td>1</td>\n",
       "      <td>0</td>\n",
       "      <td>PC 17599</td>\n",
       "      <td>71.2833</td>\n",
       "      <td>C85</td>\n",
       "      <td>C</td>\n",
       "    </tr>\n",
       "    <tr>\n",
       "      <th>2</th>\n",
       "      <td>3</td>\n",
       "      <td>1</td>\n",
       "      <td>3</td>\n",
       "      <td>Heikkinen, Miss. Laina</td>\n",
       "      <td>female</td>\n",
       "      <td>26.0</td>\n",
       "      <td>0</td>\n",
       "      <td>0</td>\n",
       "      <td>STON/O2. 3101282</td>\n",
       "      <td>7.9250</td>\n",
       "      <td>NaN</td>\n",
       "      <td>S</td>\n",
       "    </tr>\n",
       "    <tr>\n",
       "      <th>3</th>\n",
       "      <td>4</td>\n",
       "      <td>1</td>\n",
       "      <td>1</td>\n",
       "      <td>Futrelle, Mrs. Jacques Heath (Lily May Peel)</td>\n",
       "      <td>female</td>\n",
       "      <td>35.0</td>\n",
       "      <td>1</td>\n",
       "      <td>0</td>\n",
       "      <td>113803</td>\n",
       "      <td>53.1000</td>\n",
       "      <td>C123</td>\n",
       "      <td>S</td>\n",
       "    </tr>\n",
       "    <tr>\n",
       "      <th>4</th>\n",
       "      <td>5</td>\n",
       "      <td>0</td>\n",
       "      <td>3</td>\n",
       "      <td>Allen, Mr. William Henry</td>\n",
       "      <td>male</td>\n",
       "      <td>35.0</td>\n",
       "      <td>0</td>\n",
       "      <td>0</td>\n",
       "      <td>373450</td>\n",
       "      <td>8.0500</td>\n",
       "      <td>NaN</td>\n",
       "      <td>S</td>\n",
       "    </tr>\n",
       "  </tbody>\n",
       "</table>\n",
       "</div>"
      ],
      "text/plain": [
       "   PassengerId  Survived  Pclass  \\\n",
       "0            1         0       3   \n",
       "1            2         1       1   \n",
       "2            3         1       3   \n",
       "3            4         1       1   \n",
       "4            5         0       3   \n",
       "\n",
       "                                                Name     Sex   Age  SibSp  \\\n",
       "0                            Braund, Mr. Owen Harris    male  22.0      1   \n",
       "1  Cumings, Mrs. John Bradley (Florence Briggs Th...  female  38.0      1   \n",
       "2                             Heikkinen, Miss. Laina  female  26.0      0   \n",
       "3       Futrelle, Mrs. Jacques Heath (Lily May Peel)  female  35.0      1   \n",
       "4                           Allen, Mr. William Henry    male  35.0      0   \n",
       "\n",
       "   Parch            Ticket     Fare Cabin Embarked  \n",
       "0      0         A/5 21171   7.2500   NaN        S  \n",
       "1      0          PC 17599  71.2833   C85        C  \n",
       "2      0  STON/O2. 3101282   7.9250   NaN        S  \n",
       "3      0            113803  53.1000  C123        S  \n",
       "4      0            373450   8.0500   NaN        S  "
      ]
     },
     "execution_count": 3,
     "metadata": {},
     "output_type": "execute_result"
    }
   ],
   "source": [
    "train.head()"
   ]
  },
  {
   "cell_type": "markdown",
   "metadata": {},
   "source": [
    "### Data Description\n",
    "\n",
    "#### Survived : 0=No ,1=Yes\n",
    "#### Pclass : Ticket Class\n",
    "#### SibSp  : # of sibilings\t\n",
    "#### Parch : # of Parents\n",
    "#### Ticket : Ticket no\n",
    "#### Cabin : Cabin No\n",
    "#### Embarked : Port of embarkation"
   ]
  },
  {
   "cell_type": "code",
   "execution_count": 4,
   "metadata": {},
   "outputs": [
    {
     "data": {
      "text/plain": [
       "(891, 12)"
      ]
     },
     "execution_count": 4,
     "metadata": {},
     "output_type": "execute_result"
    }
   ],
   "source": [
    "#Size\n",
    "train.shape"
   ]
  },
  {
   "cell_type": "code",
   "execution_count": 5,
   "metadata": {},
   "outputs": [
    {
     "data": {
      "text/plain": [
       "(418, 11)"
      ]
     },
     "execution_count": 5,
     "metadata": {},
     "output_type": "execute_result"
    }
   ],
   "source": [
    "#Size\n",
    "test.shape"
   ]
  },
  {
   "cell_type": "code",
   "execution_count": 6,
   "metadata": {},
   "outputs": [
    {
     "name": "stdout",
     "output_type": "stream",
     "text": [
      "<class 'pandas.core.frame.DataFrame'>\n",
      "RangeIndex: 891 entries, 0 to 890\n",
      "Data columns (total 12 columns):\n",
      "PassengerId    891 non-null int64\n",
      "Survived       891 non-null int64\n",
      "Pclass         891 non-null int64\n",
      "Name           891 non-null object\n",
      "Sex            891 non-null object\n",
      "Age            714 non-null float64\n",
      "SibSp          891 non-null int64\n",
      "Parch          891 non-null int64\n",
      "Ticket         891 non-null object\n",
      "Fare           891 non-null float64\n",
      "Cabin          204 non-null object\n",
      "Embarked       889 non-null object\n",
      "dtypes: float64(2), int64(5), object(5)\n",
      "memory usage: 83.7+ KB\n"
     ]
    }
   ],
   "source": [
    "train.info()\n",
    "#looking at the deatils of the details,can see Age column and Cabin columns have some missing values."
   ]
  },
  {
   "cell_type": "code",
   "execution_count": 7,
   "metadata": {},
   "outputs": [
    {
     "name": "stdout",
     "output_type": "stream",
     "text": [
      "<class 'pandas.core.frame.DataFrame'>\n",
      "RangeIndex: 418 entries, 0 to 417\n",
      "Data columns (total 11 columns):\n",
      "PassengerId    418 non-null int64\n",
      "Pclass         418 non-null int64\n",
      "Name           418 non-null object\n",
      "Sex            418 non-null object\n",
      "Age            332 non-null float64\n",
      "SibSp          418 non-null int64\n",
      "Parch          418 non-null int64\n",
      "Ticket         418 non-null object\n",
      "Fare           417 non-null float64\n",
      "Cabin          91 non-null object\n",
      "Embarked       418 non-null object\n",
      "dtypes: float64(2), int64(4), object(5)\n",
      "memory usage: 36.0+ KB\n"
     ]
    }
   ],
   "source": [
    "test.info()\n",
    "#looking at the deatils of the details,can see Age column, Fare column  and Cabin columns have some missing values."
   ]
  },
  {
   "cell_type": "code",
   "execution_count": 8,
   "metadata": {},
   "outputs": [
    {
     "data": {
      "text/plain": [
       "PassengerId      0\n",
       "Survived         0\n",
       "Pclass           0\n",
       "Name             0\n",
       "Sex              0\n",
       "Age            177\n",
       "SibSp            0\n",
       "Parch            0\n",
       "Ticket           0\n",
       "Fare             0\n",
       "Cabin          687\n",
       "Embarked         2\n",
       "dtype: int64"
      ]
     },
     "execution_count": 8,
     "metadata": {},
     "output_type": "execute_result"
    }
   ],
   "source": [
    "train.isnull().sum()\n",
    "#amount of missing values for each column"
   ]
  },
  {
   "cell_type": "code",
   "execution_count": 9,
   "metadata": {},
   "outputs": [
    {
     "data": {
      "text/plain": [
       "PassengerId    False\n",
       "Survived       False\n",
       "Pclass         False\n",
       "Name           False\n",
       "Sex            False\n",
       "Age             True\n",
       "SibSp          False\n",
       "Parch          False\n",
       "Ticket         False\n",
       "Fare           False\n",
       "Cabin           True\n",
       "Embarked        True\n",
       "dtype: bool"
      ]
     },
     "execution_count": 9,
     "metadata": {},
     "output_type": "execute_result"
    }
   ],
   "source": [
    "train.isna().any()"
   ]
  },
  {
   "cell_type": "code",
   "execution_count": 10,
   "metadata": {},
   "outputs": [
    {
     "data": {
      "text/plain": [
       "PassengerId      0\n",
       "Pclass           0\n",
       "Name             0\n",
       "Sex              0\n",
       "Age             86\n",
       "SibSp            0\n",
       "Parch            0\n",
       "Ticket           0\n",
       "Fare             1\n",
       "Cabin          327\n",
       "Embarked         0\n",
       "dtype: int64"
      ]
     },
     "execution_count": 10,
     "metadata": {},
     "output_type": "execute_result"
    }
   ],
   "source": [
    "test.isnull().sum()\n",
    "#amount of missing values for each column"
   ]
  },
  {
   "cell_type": "code",
   "execution_count": 11,
   "metadata": {},
   "outputs": [
    {
     "data": {
      "text/plain": [
       "PassengerId    False\n",
       "Survived       False\n",
       "Pclass         False\n",
       "Name           False\n",
       "Sex            False\n",
       "Age             True\n",
       "SibSp          False\n",
       "Parch          False\n",
       "Ticket         False\n",
       "Fare           False\n",
       "Cabin           True\n",
       "Embarked        True\n",
       "dtype: bool"
      ]
     },
     "execution_count": 11,
     "metadata": {},
     "output_type": "execute_result"
    }
   ],
   "source": [
    "train.isna().any()"
   ]
  },
  {
   "cell_type": "markdown",
   "metadata": {},
   "source": [
    "### Data Visualization "
   ]
  },
  {
   "cell_type": "code",
   "execution_count": 12,
   "metadata": {},
   "outputs": [],
   "source": [
    "import matplotlib.pyplot as plt\n",
    "%matplotlib inline\n",
    "import seaborn as sns\n",
    "sns.set()#seaborn defaults\n"
   ]
  },
  {
   "cell_type": "code",
   "execution_count": 13,
   "metadata": {},
   "outputs": [
    {
     "data": {
      "text/plain": [
       "PassengerId    False\n",
       "Survived       False\n",
       "Pclass         False\n",
       "Name           False\n",
       "Sex            False\n",
       "Age             True\n",
       "SibSp          False\n",
       "Parch          False\n",
       "Ticket         False\n",
       "Fare           False\n",
       "Cabin           True\n",
       "Embarked        True\n",
       "dtype: bool"
      ]
     },
     "execution_count": 13,
     "metadata": {},
     "output_type": "execute_result"
    }
   ],
   "source": [
    "train.isna().any()"
   ]
  },
  {
   "cell_type": "markdown",
   "metadata": {},
   "source": [
    "#### Bar charts "
   ]
  },
  {
   "cell_type": "code",
   "execution_count": 14,
   "metadata": {},
   "outputs": [],
   "source": [
    "#-------Categorical Features----------\n",
    "\n",
    "#Pclass\n",
    "#sex\n",
    "#Sibsp\n",
    "#Parch\n",
    "#Embarked\n",
    "#Cabin"
   ]
  },
  {
   "cell_type": "code",
   "execution_count": 15,
   "metadata": {},
   "outputs": [],
   "source": [
    "def bar_chart(feature):\n",
    "    survived=train[train['Survived']==1][feature].value_counts()\n",
    "    dead=train[train['Survived']==0][feature].value_counts()\n",
    "    df=pd.DataFrame([survived,dead])\n",
    "    df.index=['Survived','Dead']\n",
    "    df.plot(kind='bar',stacked=True,figsize=(10,5))"
   ]
  },
  {
   "cell_type": "code",
   "execution_count": 16,
   "metadata": {},
   "outputs": [
    {
     "data": {
      "image/png": "[encoded data removed]",
      "text/plain": [
       "<Figure size 720x360 with 1 Axes>"
      ]
     },
     "metadata": {},
     "output_type": "display_data"
    }
   ],
   "source": [
    "bar_chart('Sex')\n"
   ]
  },
  {
   "cell_type": "code",
   "execution_count": 17,
   "metadata": {},
   "outputs": [
    {
     "data": {
      "text/plain": [
       "PassengerId    False\n",
       "Survived       False\n",
       "Pclass         False\n",
       "Name           False\n",
       "Sex            False\n",
       "Age             True\n",
       "SibSp          False\n",
       "Parch          False\n",
       "Ticket         False\n",
       "Fare           False\n",
       "Cabin           True\n",
       "Embarked        True\n",
       "dtype: bool"
      ]
     },
     "execution_count": 17,
     "metadata": {},
     "output_type": "execute_result"
    }
   ],
   "source": [
    "train.isna().any()"
   ]
  },
  {
   "cell_type": "markdown",
   "metadata": {},
   "source": [
    "it shows that the survived women count is larger than men."
   ]
  },
  {
   "cell_type": "code",
   "execution_count": 18,
   "metadata": {},
   "outputs": [
    {
     "data": {
      "image/png": "[encoded data removed]",
      "text/plain": [
       "<Figure size 720x360 with 1 Axes>"
      ]
     },
     "metadata": {},
     "output_type": "display_data"
    }
   ],
   "source": [
    "bar_chart('Pclass')"
   ]
  },
  {
   "cell_type": "markdown",
   "metadata": {},
   "source": [
    "#### first class survived amount is higher and the death amount is low.\n",
    "#### Third class survived amount is higher than 2nd class  and the death amount is larger than both other two classes."
   ]
  },
  {
   "cell_type": "code",
   "execution_count": 19,
   "metadata": {},
   "outputs": [
    {
     "data": {
      "image/png": "[encoded data removed]",
      "text/plain": [
       "<Figure size 720x360 with 1 Axes>"
      ]
     },
     "metadata": {},
     "output_type": "display_data"
    }
   ],
   "source": [
    "bar_chart('SibSp')"
   ]
  },
  {
   "cell_type": "code",
   "execution_count": 20,
   "metadata": {},
   "outputs": [
    {
     "data": {
      "image/png": "[encoded data removed]",
      "text/plain": [
       "<Figure size 720x360 with 1 Axes>"
      ]
     },
     "metadata": {},
     "output_type": "display_data"
    }
   ],
   "source": [
    "bar_chart('Parch')"
   ]
  },
  {
   "cell_type": "code",
   "execution_count": 21,
   "metadata": {
    "scrolled": false
   },
   "outputs": [
    {
     "data": {
      "image/png": "[encoded data removed]",
      "text/plain": [
       "<Figure size 720x360 with 1 Axes>"
      ]
     },
     "metadata": {},
     "output_type": "display_data"
    }
   ],
   "source": [
    "bar_chart('Embarked')"
   ]
  },
  {
   "cell_type": "code",
   "execution_count": 22,
   "metadata": {},
   "outputs": [
    {
     "data": {
      "text/plain": [
       "PassengerId    False\n",
       "Survived       False\n",
       "Pclass         False\n",
       "Name           False\n",
       "Sex            False\n",
       "Age             True\n",
       "SibSp          False\n",
       "Parch          False\n",
       "Ticket         False\n",
       "Fare           False\n",
       "Cabin           True\n",
       "Embarked        True\n",
       "dtype: bool"
      ]
     },
     "execution_count": 22,
     "metadata": {},
     "output_type": "execute_result"
    }
   ],
   "source": [
    "train.isna().any()"
   ]
  },
  {
   "cell_type": "markdown",
   "metadata": {},
   "source": [
    "## Feature Engineering"
   ]
  },
  {
   "cell_type": "code",
   "execution_count": 23,
   "metadata": {},
   "outputs": [],
   "source": [
    "#create features that make ML Algorithms work \n",
    "#in here empty fields filled with data by using some techniques."
   ]
  },
  {
   "cell_type": "code",
   "execution_count": 24,
   "metadata": {},
   "outputs": [],
   "source": [
    "#Filterout the relavant data from the name column"
   ]
  },
  {
   "cell_type": "code",
   "execution_count": 25,
   "metadata": {},
   "outputs": [
    {
     "data": {
      "text/plain": [
       "PassengerId    False\n",
       "Survived       False\n",
       "Pclass         False\n",
       "Name           False\n",
       "Sex            False\n",
       "Age             True\n",
       "SibSp          False\n",
       "Parch          False\n",
       "Ticket         False\n",
       "Fare           False\n",
       "Cabin           True\n",
       "Embarked        True\n",
       "dtype: bool"
      ]
     },
     "execution_count": 25,
     "metadata": {},
     "output_type": "execute_result"
    }
   ],
   "source": [
    "train.isna().any()"
   ]
  },
  {
   "cell_type": "code",
   "execution_count": 26,
   "metadata": {},
   "outputs": [],
   "source": [
    "train_test_data=[train,test] # combining test and train datsets\n",
    "\n",
    "for dataset in train_test_data:\n",
    "    dataset['Title']=dataset['Name'].str.extract('([A-Za-z]+)\\.',expand=False)"
   ]
  },
  {
   "cell_type": "code",
   "execution_count": 27,
   "metadata": {
    "scrolled": true
   },
   "outputs": [
    {
     "data": {
      "text/plain": [
       "Mr          517\n",
       "Miss        182\n",
       "Mrs         125\n",
       "Master       40\n",
       "Dr            7\n",
       "Rev           6\n",
       "Col           2\n",
       "Mlle          2\n",
       "Major         2\n",
       "Lady          1\n",
       "Don           1\n",
       "Sir           1\n",
       "Mme           1\n",
       "Jonkheer      1\n",
       "Ms            1\n",
       "Countess      1\n",
       "Capt          1\n",
       "Name: Title, dtype: int64"
      ]
     },
     "execution_count": 27,
     "metadata": {},
     "output_type": "execute_result"
    }
   ],
   "source": [
    "train['Title'].value_counts()"
   ]
  },
  {
   "cell_type": "code",
   "execution_count": 28,
   "metadata": {},
   "outputs": [
    {
     "data": {
      "text/plain": [
       "PassengerId    False\n",
       "Survived       False\n",
       "Pclass         False\n",
       "Name           False\n",
       "Sex            False\n",
       "Age             True\n",
       "SibSp          False\n",
       "Parch          False\n",
       "Ticket         False\n",
       "Fare           False\n",
       "Cabin           True\n",
       "Embarked        True\n",
       "Title          False\n",
       "dtype: bool"
      ]
     },
     "execution_count": 28,
     "metadata": {},
     "output_type": "execute_result"
    }
   ],
   "source": [
    "train.isna().any()"
   ]
  },
  {
   "cell_type": "code",
   "execution_count": 29,
   "metadata": {
    "scrolled": true
   },
   "outputs": [
    {
     "data": {
      "text/plain": [
       "Mr        240\n",
       "Miss       78\n",
       "Mrs        72\n",
       "Master     21\n",
       "Col         2\n",
       "Rev         2\n",
       "Dr          1\n",
       "Ms          1\n",
       "Dona        1\n",
       "Name: Title, dtype: int64"
      ]
     },
     "execution_count": 29,
     "metadata": {},
     "output_type": "execute_result"
    }
   ],
   "source": [
    "test['Title'].value_counts()"
   ]
  },
  {
   "cell_type": "code",
   "execution_count": 30,
   "metadata": {},
   "outputs": [
    {
     "data": {
      "text/plain": [
       "False"
      ]
     },
     "execution_count": 30,
     "metadata": {},
     "output_type": "execute_result"
    }
   ],
   "source": [
    "train['Title'].isna().any()"
   ]
  },
  {
   "cell_type": "markdown",
   "metadata": {},
   "source": [
    "#### in this case just considering on Mr,Mrs,Miss and others as 4 groups.\n",
    "\n",
    "#### Mr values known as 0\n",
    "#### Miss values known as 1\n",
    "#### Mrs values known as 2\n",
    "#### Others values known as 3"
   ]
  },
  {
   "cell_type": "code",
   "execution_count": 31,
   "metadata": {},
   "outputs": [],
   "source": [
    "title_mapping = {\"Mr\":0,\"Miss\":1,\"Mrs\":2,\"Master\":3,\"Dr\":3,\"Rev\":3,\"Col\":3,\"Major\":3,\"Mlle\":3,\"Countess\":3,\"Ms\":3,\"Lady\":3,\"Jonkheer\":3,\"Don\":3,\"Dona\":3,\"Mme\":3,\"Capt\":3,\"Sir\":3}\n",
    "for dataset in train_test_data:\n",
    "    dataset['Title']=dataset['Title'].map(title_mapping)"
   ]
  },
  {
   "cell_type": "code",
   "execution_count": 32,
   "metadata": {},
   "outputs": [
    {
     "data": {
      "text/plain": [
       "False"
      ]
     },
     "execution_count": 32,
     "metadata": {},
     "output_type": "execute_result"
    }
   ],
   "source": [
    "train['Title'].isna().any()"
   ]
  },
  {
   "cell_type": "code",
   "execution_count": 33,
   "metadata": {},
   "outputs": [
    {
     "data": {
      "text/html": [
       "<div>\n",
       "<style scoped>\n",
       "    .dataframe tbody tr th:only-of-type {\n",
       "        vertical-align: middle;\n",
       "    }\n",
       "\n",
       "    .dataframe tbody tr th {\n",
       "        vertical-align: top;\n",
       "    }\n",
       "\n",
       "    .dataframe thead th {\n",
       "        text-align: right;\n",
       "    }\n",
       "</style>\n",
       "<table border=\"1\" class=\"dataframe\">\n",
       "  <thead>\n",
       "    <tr style=\"text-align: right;\">\n",
       "      <th></th>\n",
       "      <th>PassengerId</th>\n",
       "      <th>Survived</th>\n",
       "      <th>Pclass</th>\n",
       "      <th>Name</th>\n",
       "      <th>Sex</th>\n",
       "      <th>Age</th>\n",
       "      <th>SibSp</th>\n",
       "      <th>Parch</th>\n",
       "      <th>Ticket</th>\n",
       "      <th>Fare</th>\n",
       "      <th>Cabin</th>\n",
       "      <th>Embarked</th>\n",
       "      <th>Title</th>\n",
       "    </tr>\n",
       "  </thead>\n",
       "  <tbody>\n",
       "    <tr>\n",
       "      <th>0</th>\n",
       "      <td>1</td>\n",
       "      <td>0</td>\n",
       "      <td>3</td>\n",
       "      <td>Braund, Mr. Owen Harris</td>\n",
       "      <td>male</td>\n",
       "      <td>22.0</td>\n",
       "      <td>1</td>\n",
       "      <td>0</td>\n",
       "      <td>A/5 21171</td>\n",
       "      <td>7.2500</td>\n",
       "      <td>NaN</td>\n",
       "      <td>S</td>\n",
       "      <td>0</td>\n",
       "    </tr>\n",
       "    <tr>\n",
       "      <th>1</th>\n",
       "      <td>2</td>\n",
       "      <td>1</td>\n",
       "      <td>1</td>\n",
       "      <td>Cumings, Mrs. John Bradley (Florence Briggs Th...</td>\n",
       "      <td>female</td>\n",
       "      <td>38.0</td>\n",
       "      <td>1</td>\n",
       "      <td>0</td>\n",
       "      <td>PC 17599</td>\n",
       "      <td>71.2833</td>\n",
       "      <td>C85</td>\n",
       "      <td>C</td>\n",
       "      <td>2</td>\n",
       "    </tr>\n",
       "    <tr>\n",
       "      <th>2</th>\n",
       "      <td>3</td>\n",
       "      <td>1</td>\n",
       "      <td>3</td>\n",
       "      <td>Heikkinen, Miss. Laina</td>\n",
       "      <td>female</td>\n",
       "      <td>26.0</td>\n",
       "      <td>0</td>\n",
       "      <td>0</td>\n",
       "      <td>STON/O2. 3101282</td>\n",
       "      <td>7.9250</td>\n",
       "      <td>NaN</td>\n",
       "      <td>S</td>\n",
       "      <td>1</td>\n",
       "    </tr>\n",
       "    <tr>\n",
       "      <th>3</th>\n",
       "      <td>4</td>\n",
       "      <td>1</td>\n",
       "      <td>1</td>\n",
       "      <td>Futrelle, Mrs. Jacques Heath (Lily May Peel)</td>\n",
       "      <td>female</td>\n",
       "      <td>35.0</td>\n",
       "      <td>1</td>\n",
       "      <td>0</td>\n",
       "      <td>113803</td>\n",
       "      <td>53.1000</td>\n",
       "      <td>C123</td>\n",
       "      <td>S</td>\n",
       "      <td>2</td>\n",
       "    </tr>\n",
       "    <tr>\n",
       "      <th>4</th>\n",
       "      <td>5</td>\n",
       "      <td>0</td>\n",
       "      <td>3</td>\n",
       "      <td>Allen, Mr. William Henry</td>\n",
       "      <td>male</td>\n",
       "      <td>35.0</td>\n",
       "      <td>0</td>\n",
       "      <td>0</td>\n",
       "      <td>373450</td>\n",
       "      <td>8.0500</td>\n",
       "      <td>NaN</td>\n",
       "      <td>S</td>\n",
       "      <td>0</td>\n",
       "    </tr>\n",
       "  </tbody>\n",
       "</table>\n",
       "</div>"
      ],
      "text/plain": [
       "   PassengerId  Survived  Pclass  \\\n",
       "0            1         0       3   \n",
       "1            2         1       1   \n",
       "2            3         1       3   \n",
       "3            4         1       1   \n",
       "4            5         0       3   \n",
       "\n",
       "                                                Name     Sex   Age  SibSp  \\\n",
       "0                            Braund, Mr. Owen Harris    male  22.0      1   \n",
       "1  Cumings, Mrs. John Bradley (Florence Briggs Th...  female  38.0      1   \n",
       "2                             Heikkinen, Miss. Laina  female  26.0      0   \n",
       "3       Futrelle, Mrs. Jacques Heath (Lily May Peel)  female  35.0      1   \n",
       "4                           Allen, Mr. William Henry    male  35.0      0   \n",
       "\n",
       "   Parch            Ticket     Fare Cabin Embarked  Title  \n",
       "0      0         A/5 21171   7.2500   NaN        S      0  \n",
       "1      0          PC 17599  71.2833   C85        C      2  \n",
       "2      0  STON/O2. 3101282   7.9250   NaN        S      1  \n",
       "3      0            113803  53.1000  C123        S      2  \n",
       "4      0            373450   8.0500   NaN        S      0  "
      ]
     },
     "execution_count": 33,
     "metadata": {},
     "output_type": "execute_result"
    }
   ],
   "source": [
    "train.head()"
   ]
  },
  {
   "cell_type": "code",
   "execution_count": 34,
   "metadata": {},
   "outputs": [],
   "source": [
    "#title column have numerical values and can use it for calculations now"
   ]
  },
  {
   "cell_type": "code",
   "execution_count": 35,
   "metadata": {},
   "outputs": [
    {
     "data": {
      "text/html": [
       "<div>\n",
       "<style scoped>\n",
       "    .dataframe tbody tr th:only-of-type {\n",
       "        vertical-align: middle;\n",
       "    }\n",
       "\n",
       "    .dataframe tbody tr th {\n",
       "        vertical-align: top;\n",
       "    }\n",
       "\n",
       "    .dataframe thead th {\n",
       "        text-align: right;\n",
       "    }\n",
       "</style>\n",
       "<table border=\"1\" class=\"dataframe\">\n",
       "  <thead>\n",
       "    <tr style=\"text-align: right;\">\n",
       "      <th></th>\n",
       "      <th>PassengerId</th>\n",
       "      <th>Survived</th>\n",
       "      <th>Pclass</th>\n",
       "      <th>Name</th>\n",
       "      <th>Sex</th>\n",
       "      <th>Age</th>\n",
       "      <th>SibSp</th>\n",
       "      <th>Parch</th>\n",
       "      <th>Ticket</th>\n",
       "      <th>Fare</th>\n",
       "      <th>Cabin</th>\n",
       "      <th>Embarked</th>\n",
       "      <th>Title</th>\n",
       "    </tr>\n",
       "  </thead>\n",
       "  <tbody>\n",
       "    <tr>\n",
       "      <th>0</th>\n",
       "      <td>1</td>\n",
       "      <td>0</td>\n",
       "      <td>3</td>\n",
       "      <td>Braund, Mr. Owen Harris</td>\n",
       "      <td>male</td>\n",
       "      <td>22.0</td>\n",
       "      <td>1</td>\n",
       "      <td>0</td>\n",
       "      <td>A/5 21171</td>\n",
       "      <td>7.2500</td>\n",
       "      <td>NaN</td>\n",
       "      <td>S</td>\n",
       "      <td>0</td>\n",
       "    </tr>\n",
       "    <tr>\n",
       "      <th>1</th>\n",
       "      <td>2</td>\n",
       "      <td>1</td>\n",
       "      <td>1</td>\n",
       "      <td>Cumings, Mrs. John Bradley (Florence Briggs Th...</td>\n",
       "      <td>female</td>\n",
       "      <td>38.0</td>\n",
       "      <td>1</td>\n",
       "      <td>0</td>\n",
       "      <td>PC 17599</td>\n",
       "      <td>71.2833</td>\n",
       "      <td>C85</td>\n",
       "      <td>C</td>\n",
       "      <td>2</td>\n",
       "    </tr>\n",
       "    <tr>\n",
       "      <th>2</th>\n",
       "      <td>3</td>\n",
       "      <td>1</td>\n",
       "      <td>3</td>\n",
       "      <td>Heikkinen, Miss. Laina</td>\n",
       "      <td>female</td>\n",
       "      <td>26.0</td>\n",
       "      <td>0</td>\n",
       "      <td>0</td>\n",
       "      <td>STON/O2. 3101282</td>\n",
       "      <td>7.9250</td>\n",
       "      <td>NaN</td>\n",
       "      <td>S</td>\n",
       "      <td>1</td>\n",
       "    </tr>\n",
       "    <tr>\n",
       "      <th>3</th>\n",
       "      <td>4</td>\n",
       "      <td>1</td>\n",
       "      <td>1</td>\n",
       "      <td>Futrelle, Mrs. Jacques Heath (Lily May Peel)</td>\n",
       "      <td>female</td>\n",
       "      <td>35.0</td>\n",
       "      <td>1</td>\n",
       "      <td>0</td>\n",
       "      <td>113803</td>\n",
       "      <td>53.1000</td>\n",
       "      <td>C123</td>\n",
       "      <td>S</td>\n",
       "      <td>2</td>\n",
       "    </tr>\n",
       "    <tr>\n",
       "      <th>4</th>\n",
       "      <td>5</td>\n",
       "      <td>0</td>\n",
       "      <td>3</td>\n",
       "      <td>Allen, Mr. William Henry</td>\n",
       "      <td>male</td>\n",
       "      <td>35.0</td>\n",
       "      <td>0</td>\n",
       "      <td>0</td>\n",
       "      <td>373450</td>\n",
       "      <td>8.0500</td>\n",
       "      <td>NaN</td>\n",
       "      <td>S</td>\n",
       "      <td>0</td>\n",
       "    </tr>\n",
       "  </tbody>\n",
       "</table>\n",
       "</div>"
      ],
      "text/plain": [
       "   PassengerId  Survived  Pclass  \\\n",
       "0            1         0       3   \n",
       "1            2         1       1   \n",
       "2            3         1       3   \n",
       "3            4         1       1   \n",
       "4            5         0       3   \n",
       "\n",
       "                                                Name     Sex   Age  SibSp  \\\n",
       "0                            Braund, Mr. Owen Harris    male  22.0      1   \n",
       "1  Cumings, Mrs. John Bradley (Florence Briggs Th...  female  38.0      1   \n",
       "2                             Heikkinen, Miss. Laina  female  26.0      0   \n",
       "3       Futrelle, Mrs. Jacques Heath (Lily May Peel)  female  35.0      1   \n",
       "4                           Allen, Mr. William Henry    male  35.0      0   \n",
       "\n",
       "   Parch            Ticket     Fare Cabin Embarked  Title  \n",
       "0      0         A/5 21171   7.2500   NaN        S      0  \n",
       "1      0          PC 17599  71.2833   C85        C      2  \n",
       "2      0  STON/O2. 3101282   7.9250   NaN        S      1  \n",
       "3      0            113803  53.1000  C123        S      2  \n",
       "4      0            373450   8.0500   NaN        S      0  "
      ]
     },
     "execution_count": 35,
     "metadata": {},
     "output_type": "execute_result"
    }
   ],
   "source": [
    "train.head()"
   ]
  },
  {
   "cell_type": "code",
   "execution_count": 36,
   "metadata": {},
   "outputs": [
    {
     "data": {
      "text/plain": [
       "False"
      ]
     },
     "execution_count": 36,
     "metadata": {},
     "output_type": "execute_result"
    }
   ],
   "source": [
    "train['Title'].isna().any()"
   ]
  },
  {
   "cell_type": "code",
   "execution_count": 37,
   "metadata": {},
   "outputs": [
    {
     "data": {
      "image/png": "[encoded data removed]",
      "text/plain": [
       "<Figure size 720x360 with 1 Axes>"
      ]
     },
     "metadata": {},
     "output_type": "display_data"
    }
   ],
   "source": [
    "bar_chart('Title')"
   ]
  },
  {
   "cell_type": "code",
   "execution_count": 38,
   "metadata": {},
   "outputs": [],
   "source": [
    "#### Mr values known as 0\n",
    "#### Miss values known as 1\n",
    "#### Mrs values known as 2\n",
    "#### Others values known as 3\n",
    "\n",
    "# so we can see most of Mr's were dead."
   ]
  },
  {
   "cell_type": "code",
   "execution_count": 39,
   "metadata": {},
   "outputs": [],
   "source": [
    "# after getting the information which want from name column,we can drop the name column."
   ]
  },
  {
   "cell_type": "code",
   "execution_count": 40,
   "metadata": {},
   "outputs": [],
   "source": [
    "train.drop('Name',axis=1,inplace=True)\n",
    "test.drop('Name',axis=1,inplace=True)"
   ]
  },
  {
   "cell_type": "code",
   "execution_count": 41,
   "metadata": {},
   "outputs": [
    {
     "data": {
      "text/html": [
       "<div>\n",
       "<style scoped>\n",
       "    .dataframe tbody tr th:only-of-type {\n",
       "        vertical-align: middle;\n",
       "    }\n",
       "\n",
       "    .dataframe tbody tr th {\n",
       "        vertical-align: top;\n",
       "    }\n",
       "\n",
       "    .dataframe thead th {\n",
       "        text-align: right;\n",
       "    }\n",
       "</style>\n",
       "<table border=\"1\" class=\"dataframe\">\n",
       "  <thead>\n",
       "    <tr style=\"text-align: right;\">\n",
       "      <th></th>\n",
       "      <th>PassengerId</th>\n",
       "      <th>Survived</th>\n",
       "      <th>Pclass</th>\n",
       "      <th>Sex</th>\n",
       "      <th>Age</th>\n",
       "      <th>SibSp</th>\n",
       "      <th>Parch</th>\n",
       "      <th>Ticket</th>\n",
       "      <th>Fare</th>\n",
       "      <th>Cabin</th>\n",
       "      <th>Embarked</th>\n",
       "      <th>Title</th>\n",
       "    </tr>\n",
       "  </thead>\n",
       "  <tbody>\n",
       "    <tr>\n",
       "      <th>0</th>\n",
       "      <td>1</td>\n",
       "      <td>0</td>\n",
       "      <td>3</td>\n",
       "      <td>male</td>\n",
       "      <td>22.0</td>\n",
       "      <td>1</td>\n",
       "      <td>0</td>\n",
       "      <td>A/5 21171</td>\n",
       "      <td>7.2500</td>\n",
       "      <td>NaN</td>\n",
       "      <td>S</td>\n",
       "      <td>0</td>\n",
       "    </tr>\n",
       "    <tr>\n",
       "      <th>1</th>\n",
       "      <td>2</td>\n",
       "      <td>1</td>\n",
       "      <td>1</td>\n",
       "      <td>female</td>\n",
       "      <td>38.0</td>\n",
       "      <td>1</td>\n",
       "      <td>0</td>\n",
       "      <td>PC 17599</td>\n",
       "      <td>71.2833</td>\n",
       "      <td>C85</td>\n",
       "      <td>C</td>\n",
       "      <td>2</td>\n",
       "    </tr>\n",
       "    <tr>\n",
       "      <th>2</th>\n",
       "      <td>3</td>\n",
       "      <td>1</td>\n",
       "      <td>3</td>\n",
       "      <td>female</td>\n",
       "      <td>26.0</td>\n",
       "      <td>0</td>\n",
       "      <td>0</td>\n",
       "      <td>STON/O2. 3101282</td>\n",
       "      <td>7.9250</td>\n",
       "      <td>NaN</td>\n",
       "      <td>S</td>\n",
       "      <td>1</td>\n",
       "    </tr>\n",
       "    <tr>\n",
       "      <th>3</th>\n",
       "      <td>4</td>\n",
       "      <td>1</td>\n",
       "      <td>1</td>\n",
       "      <td>female</td>\n",
       "      <td>35.0</td>\n",
       "      <td>1</td>\n",
       "      <td>0</td>\n",
       "      <td>113803</td>\n",
       "      <td>53.1000</td>\n",
       "      <td>C123</td>\n",
       "      <td>S</td>\n",
       "      <td>2</td>\n",
       "    </tr>\n",
       "    <tr>\n",
       "      <th>4</th>\n",
       "      <td>5</td>\n",
       "      <td>0</td>\n",
       "      <td>3</td>\n",
       "      <td>male</td>\n",
       "      <td>35.0</td>\n",
       "      <td>0</td>\n",
       "      <td>0</td>\n",
       "      <td>373450</td>\n",
       "      <td>8.0500</td>\n",
       "      <td>NaN</td>\n",
       "      <td>S</td>\n",
       "      <td>0</td>\n",
       "    </tr>\n",
       "  </tbody>\n",
       "</table>\n",
       "</div>"
      ],
      "text/plain": [
       "   PassengerId  Survived  Pclass     Sex   Age  SibSp  Parch  \\\n",
       "0            1         0       3    male  22.0      1      0   \n",
       "1            2         1       1  female  38.0      1      0   \n",
       "2            3         1       3  female  26.0      0      0   \n",
       "3            4         1       1  female  35.0      1      0   \n",
       "4            5         0       3    male  35.0      0      0   \n",
       "\n",
       "             Ticket     Fare Cabin Embarked  Title  \n",
       "0         A/5 21171   7.2500   NaN        S      0  \n",
       "1          PC 17599  71.2833   C85        C      2  \n",
       "2  STON/O2. 3101282   7.9250   NaN        S      1  \n",
       "3            113803  53.1000  C123        S      2  \n",
       "4            373450   8.0500   NaN        S      0  "
      ]
     },
     "execution_count": 41,
     "metadata": {},
     "output_type": "execute_result"
    }
   ],
   "source": [
    "train.head()"
   ]
  },
  {
   "cell_type": "code",
   "execution_count": 42,
   "metadata": {},
   "outputs": [
    {
     "data": {
      "text/html": [
       "<div>\n",
       "<style scoped>\n",
       "    .dataframe tbody tr th:only-of-type {\n",
       "        vertical-align: middle;\n",
       "    }\n",
       "\n",
       "    .dataframe tbody tr th {\n",
       "        vertical-align: top;\n",
       "    }\n",
       "\n",
       "    .dataframe thead th {\n",
       "        text-align: right;\n",
       "    }\n",
       "</style>\n",
       "<table border=\"1\" class=\"dataframe\">\n",
       "  <thead>\n",
       "    <tr style=\"text-align: right;\">\n",
       "      <th></th>\n",
       "      <th>PassengerId</th>\n",
       "      <th>Pclass</th>\n",
       "      <th>Sex</th>\n",
       "      <th>Age</th>\n",
       "      <th>SibSp</th>\n",
       "      <th>Parch</th>\n",
       "      <th>Ticket</th>\n",
       "      <th>Fare</th>\n",
       "      <th>Cabin</th>\n",
       "      <th>Embarked</th>\n",
       "      <th>Title</th>\n",
       "    </tr>\n",
       "  </thead>\n",
       "  <tbody>\n",
       "    <tr>\n",
       "      <th>0</th>\n",
       "      <td>892</td>\n",
       "      <td>3</td>\n",
       "      <td>male</td>\n",
       "      <td>34.5</td>\n",
       "      <td>0</td>\n",
       "      <td>0</td>\n",
       "      <td>330911</td>\n",
       "      <td>7.8292</td>\n",
       "      <td>NaN</td>\n",
       "      <td>Q</td>\n",
       "      <td>0</td>\n",
       "    </tr>\n",
       "    <tr>\n",
       "      <th>1</th>\n",
       "      <td>893</td>\n",
       "      <td>3</td>\n",
       "      <td>female</td>\n",
       "      <td>47.0</td>\n",
       "      <td>1</td>\n",
       "      <td>0</td>\n",
       "      <td>363272</td>\n",
       "      <td>7.0000</td>\n",
       "      <td>NaN</td>\n",
       "      <td>S</td>\n",
       "      <td>2</td>\n",
       "    </tr>\n",
       "    <tr>\n",
       "      <th>2</th>\n",
       "      <td>894</td>\n",
       "      <td>2</td>\n",
       "      <td>male</td>\n",
       "      <td>62.0</td>\n",
       "      <td>0</td>\n",
       "      <td>0</td>\n",
       "      <td>240276</td>\n",
       "      <td>9.6875</td>\n",
       "      <td>NaN</td>\n",
       "      <td>Q</td>\n",
       "      <td>0</td>\n",
       "    </tr>\n",
       "    <tr>\n",
       "      <th>3</th>\n",
       "      <td>895</td>\n",
       "      <td>3</td>\n",
       "      <td>male</td>\n",
       "      <td>27.0</td>\n",
       "      <td>0</td>\n",
       "      <td>0</td>\n",
       "      <td>315154</td>\n",
       "      <td>8.6625</td>\n",
       "      <td>NaN</td>\n",
       "      <td>S</td>\n",
       "      <td>0</td>\n",
       "    </tr>\n",
       "    <tr>\n",
       "      <th>4</th>\n",
       "      <td>896</td>\n",
       "      <td>3</td>\n",
       "      <td>female</td>\n",
       "      <td>22.0</td>\n",
       "      <td>1</td>\n",
       "      <td>1</td>\n",
       "      <td>3101298</td>\n",
       "      <td>12.2875</td>\n",
       "      <td>NaN</td>\n",
       "      <td>S</td>\n",
       "      <td>2</td>\n",
       "    </tr>\n",
       "  </tbody>\n",
       "</table>\n",
       "</div>"
      ],
      "text/plain": [
       "   PassengerId  Pclass     Sex   Age  SibSp  Parch   Ticket     Fare Cabin  \\\n",
       "0          892       3    male  34.5      0      0   330911   7.8292   NaN   \n",
       "1          893       3  female  47.0      1      0   363272   7.0000   NaN   \n",
       "2          894       2    male  62.0      0      0   240276   9.6875   NaN   \n",
       "3          895       3    male  27.0      0      0   315154   8.6625   NaN   \n",
       "4          896       3  female  22.0      1      1  3101298  12.2875   NaN   \n",
       "\n",
       "  Embarked  Title  \n",
       "0        Q      0  \n",
       "1        S      2  \n",
       "2        Q      0  \n",
       "3        S      0  \n",
       "4        S      2  "
      ]
     },
     "execution_count": 42,
     "metadata": {},
     "output_type": "execute_result"
    }
   ],
   "source": [
    "test.head()"
   ]
  },
  {
   "cell_type": "code",
   "execution_count": 43,
   "metadata": {},
   "outputs": [],
   "source": [
    "#after droping name column,there is some other valuble data in the dataset,which is string.The column \"Sex\".So we have to convert its values in to numerical mode."
   ]
  },
  {
   "cell_type": "code",
   "execution_count": 44,
   "metadata": {},
   "outputs": [],
   "source": [
    "Gender_mapping = {\"male\":0,\"female\":1}\n",
    "for dataset in train_test_data:\n",
    "    dataset['Sex']=dataset['Sex'].map(Gender_mapping)"
   ]
  },
  {
   "cell_type": "code",
   "execution_count": 45,
   "metadata": {},
   "outputs": [
    {
     "data": {
      "image/png": "[encoded data removed]",
      "text/plain": [
       "<Figure size 720x360 with 1 Axes>"
      ]
     },
     "metadata": {},
     "output_type": "display_data"
    }
   ],
   "source": [
    "bar_chart('Sex')"
   ]
  },
  {
   "cell_type": "code",
   "execution_count": 46,
   "metadata": {},
   "outputs": [],
   "source": [
    "# male:0,  female:1\n",
    "# Most of men couldn't survived."
   ]
  },
  {
   "cell_type": "markdown",
   "metadata": {},
   "source": [
    "### There were some values missing in age column.We have to get some average vlue for that."
   ]
  },
  {
   "cell_type": "code",
   "execution_count": 47,
   "metadata": {},
   "outputs": [
    {
     "data": {
      "text/html": [
       "<div>\n",
       "<style scoped>\n",
       "    .dataframe tbody tr th:only-of-type {\n",
       "        vertical-align: middle;\n",
       "    }\n",
       "\n",
       "    .dataframe tbody tr th {\n",
       "        vertical-align: top;\n",
       "    }\n",
       "\n",
       "    .dataframe thead th {\n",
       "        text-align: right;\n",
       "    }\n",
       "</style>\n",
       "<table border=\"1\" class=\"dataframe\">\n",
       "  <thead>\n",
       "    <tr style=\"text-align: right;\">\n",
       "      <th></th>\n",
       "      <th>PassengerId</th>\n",
       "      <th>Survived</th>\n",
       "      <th>Pclass</th>\n",
       "      <th>Sex</th>\n",
       "      <th>Age</th>\n",
       "      <th>SibSp</th>\n",
       "      <th>Parch</th>\n",
       "      <th>Ticket</th>\n",
       "      <th>Fare</th>\n",
       "      <th>Cabin</th>\n",
       "      <th>Embarked</th>\n",
       "      <th>Title</th>\n",
       "    </tr>\n",
       "  </thead>\n",
       "  <tbody>\n",
       "    <tr>\n",
       "      <th>0</th>\n",
       "      <td>1</td>\n",
       "      <td>0</td>\n",
       "      <td>3</td>\n",
       "      <td>0</td>\n",
       "      <td>22.0</td>\n",
       "      <td>1</td>\n",
       "      <td>0</td>\n",
       "      <td>A/5 21171</td>\n",
       "      <td>7.2500</td>\n",
       "      <td>NaN</td>\n",
       "      <td>S</td>\n",
       "      <td>0</td>\n",
       "    </tr>\n",
       "    <tr>\n",
       "      <th>1</th>\n",
       "      <td>2</td>\n",
       "      <td>1</td>\n",
       "      <td>1</td>\n",
       "      <td>1</td>\n",
       "      <td>38.0</td>\n",
       "      <td>1</td>\n",
       "      <td>0</td>\n",
       "      <td>PC 17599</td>\n",
       "      <td>71.2833</td>\n",
       "      <td>C85</td>\n",
       "      <td>C</td>\n",
       "      <td>2</td>\n",
       "    </tr>\n",
       "    <tr>\n",
       "      <th>2</th>\n",
       "      <td>3</td>\n",
       "      <td>1</td>\n",
       "      <td>3</td>\n",
       "      <td>1</td>\n",
       "      <td>26.0</td>\n",
       "      <td>0</td>\n",
       "      <td>0</td>\n",
       "      <td>STON/O2. 3101282</td>\n",
       "      <td>7.9250</td>\n",
       "      <td>NaN</td>\n",
       "      <td>S</td>\n",
       "      <td>1</td>\n",
       "    </tr>\n",
       "    <tr>\n",
       "      <th>3</th>\n",
       "      <td>4</td>\n",
       "      <td>1</td>\n",
       "      <td>1</td>\n",
       "      <td>1</td>\n",
       "      <td>35.0</td>\n",
       "      <td>1</td>\n",
       "      <td>0</td>\n",
       "      <td>113803</td>\n",
       "      <td>53.1000</td>\n",
       "      <td>C123</td>\n",
       "      <td>S</td>\n",
       "      <td>2</td>\n",
       "    </tr>\n",
       "    <tr>\n",
       "      <th>4</th>\n",
       "      <td>5</td>\n",
       "      <td>0</td>\n",
       "      <td>3</td>\n",
       "      <td>0</td>\n",
       "      <td>35.0</td>\n",
       "      <td>0</td>\n",
       "      <td>0</td>\n",
       "      <td>373450</td>\n",
       "      <td>8.0500</td>\n",
       "      <td>NaN</td>\n",
       "      <td>S</td>\n",
       "      <td>0</td>\n",
       "    </tr>\n",
       "    <tr>\n",
       "      <th>5</th>\n",
       "      <td>6</td>\n",
       "      <td>0</td>\n",
       "      <td>3</td>\n",
       "      <td>0</td>\n",
       "      <td>NaN</td>\n",
       "      <td>0</td>\n",
       "      <td>0</td>\n",
       "      <td>330877</td>\n",
       "      <td>8.4583</td>\n",
       "      <td>NaN</td>\n",
       "      <td>Q</td>\n",
       "      <td>0</td>\n",
       "    </tr>\n",
       "    <tr>\n",
       "      <th>6</th>\n",
       "      <td>7</td>\n",
       "      <td>0</td>\n",
       "      <td>1</td>\n",
       "      <td>0</td>\n",
       "      <td>54.0</td>\n",
       "      <td>0</td>\n",
       "      <td>0</td>\n",
       "      <td>17463</td>\n",
       "      <td>51.8625</td>\n",
       "      <td>E46</td>\n",
       "      <td>S</td>\n",
       "      <td>0</td>\n",
       "    </tr>\n",
       "    <tr>\n",
       "      <th>7</th>\n",
       "      <td>8</td>\n",
       "      <td>0</td>\n",
       "      <td>3</td>\n",
       "      <td>0</td>\n",
       "      <td>2.0</td>\n",
       "      <td>3</td>\n",
       "      <td>1</td>\n",
       "      <td>349909</td>\n",
       "      <td>21.0750</td>\n",
       "      <td>NaN</td>\n",
       "      <td>S</td>\n",
       "      <td>3</td>\n",
       "    </tr>\n",
       "    <tr>\n",
       "      <th>8</th>\n",
       "      <td>9</td>\n",
       "      <td>1</td>\n",
       "      <td>3</td>\n",
       "      <td>1</td>\n",
       "      <td>27.0</td>\n",
       "      <td>0</td>\n",
       "      <td>2</td>\n",
       "      <td>347742</td>\n",
       "      <td>11.1333</td>\n",
       "      <td>NaN</td>\n",
       "      <td>S</td>\n",
       "      <td>2</td>\n",
       "    </tr>\n",
       "    <tr>\n",
       "      <th>9</th>\n",
       "      <td>10</td>\n",
       "      <td>1</td>\n",
       "      <td>2</td>\n",
       "      <td>1</td>\n",
       "      <td>14.0</td>\n",
       "      <td>1</td>\n",
       "      <td>0</td>\n",
       "      <td>237736</td>\n",
       "      <td>30.0708</td>\n",
       "      <td>NaN</td>\n",
       "      <td>C</td>\n",
       "      <td>2</td>\n",
       "    </tr>\n",
       "    <tr>\n",
       "      <th>10</th>\n",
       "      <td>11</td>\n",
       "      <td>1</td>\n",
       "      <td>3</td>\n",
       "      <td>1</td>\n",
       "      <td>4.0</td>\n",
       "      <td>1</td>\n",
       "      <td>1</td>\n",
       "      <td>PP 9549</td>\n",
       "      <td>16.7000</td>\n",
       "      <td>G6</td>\n",
       "      <td>S</td>\n",
       "      <td>1</td>\n",
       "    </tr>\n",
       "    <tr>\n",
       "      <th>11</th>\n",
       "      <td>12</td>\n",
       "      <td>1</td>\n",
       "      <td>1</td>\n",
       "      <td>1</td>\n",
       "      <td>58.0</td>\n",
       "      <td>0</td>\n",
       "      <td>0</td>\n",
       "      <td>113783</td>\n",
       "      <td>26.5500</td>\n",
       "      <td>C103</td>\n",
       "      <td>S</td>\n",
       "      <td>1</td>\n",
       "    </tr>\n",
       "  </tbody>\n",
       "</table>\n",
       "</div>"
      ],
      "text/plain": [
       "    PassengerId  Survived  Pclass  Sex   Age  SibSp  Parch            Ticket  \\\n",
       "0             1         0       3    0  22.0      1      0         A/5 21171   \n",
       "1             2         1       1    1  38.0      1      0          PC 17599   \n",
       "2             3         1       3    1  26.0      0      0  STON/O2. 3101282   \n",
       "3             4         1       1    1  35.0      1      0            113803   \n",
       "4             5         0       3    0  35.0      0      0            373450   \n",
       "5             6         0       3    0   NaN      0      0            330877   \n",
       "6             7         0       1    0  54.0      0      0             17463   \n",
       "7             8         0       3    0   2.0      3      1            349909   \n",
       "8             9         1       3    1  27.0      0      2            347742   \n",
       "9            10         1       2    1  14.0      1      0            237736   \n",
       "10           11         1       3    1   4.0      1      1           PP 9549   \n",
       "11           12         1       1    1  58.0      0      0            113783   \n",
       "\n",
       "       Fare Cabin Embarked  Title  \n",
       "0    7.2500   NaN        S      0  \n",
       "1   71.2833   C85        C      2  \n",
       "2    7.9250   NaN        S      1  \n",
       "3   53.1000  C123        S      2  \n",
       "4    8.0500   NaN        S      0  \n",
       "5    8.4583   NaN        Q      0  \n",
       "6   51.8625   E46        S      0  \n",
       "7   21.0750   NaN        S      3  \n",
       "8   11.1333   NaN        S      2  \n",
       "9   30.0708   NaN        C      2  \n",
       "10  16.7000    G6        S      1  \n",
       "11  26.5500  C103        S      1  "
      ]
     },
     "execution_count": 47,
     "metadata": {},
     "output_type": "execute_result"
    }
   ],
   "source": [
    "train.head(12)"
   ]
  },
  {
   "cell_type": "code",
   "execution_count": 48,
   "metadata": {},
   "outputs": [],
   "source": [
    "#for getting median age value,have to consider about the persons title[Mr/Mrs/Miss/Other]\n",
    "train[\"Age\"].fillna(train.groupby(\"Title\")[\"Age\"].transform(\"median\"),inplace=True)\n",
    "test[\"Age\"].fillna(test.groupby(\"Title\")[\"Age\"].transform(\"median\"),inplace=True)"
   ]
  },
  {
   "cell_type": "code",
   "execution_count": 49,
   "metadata": {},
   "outputs": [
    {
     "data": {
      "image/png": "[encoded data removed]",
      "text/plain": [
       "<Figure size 919.55x216 with 1 Axes>"
      ]
     },
     "metadata": {},
     "output_type": "display_data"
    }
   ],
   "source": [
    "facet=sns.FacetGrid(train,hue='Survived',aspect=4)\n",
    "facet.map(sns.kdeplot,'Age',shade=True)\n",
    "facet.set(xlim=(0,train['Age'].max()))\n",
    "facet.add_legend()\n",
    "plt.show()"
   ]
  },
  {
   "cell_type": "code",
   "execution_count": 50,
   "metadata": {},
   "outputs": [
    {
     "data": {
      "text/plain": [
       "(0.0, 20.0)"
      ]
     },
     "execution_count": 50,
     "metadata": {},
     "output_type": "execute_result"
    },
    {
     "data": {
      "image/png": "[encoded data removed]",
      "text/plain": [
       "<Figure size 919.55x216 with 1 Axes>"
      ]
     },
     "metadata": {},
     "output_type": "display_data"
    }
   ],
   "source": [
    "facet=sns.FacetGrid(train,hue='Survived',aspect=4)\n",
    "facet.map(sns.kdeplot,'Age',shade=True)\n",
    "facet.set(xlim=(0,train['Age'].max()))\n",
    "facet.add_legend()\n",
    "plt.xlim(0,20)\n"
   ]
  },
  {
   "cell_type": "code",
   "execution_count": 51,
   "metadata": {},
   "outputs": [
    {
     "data": {
      "text/plain": [
       "(20.0, 30.0)"
      ]
     },
     "execution_count": 51,
     "metadata": {},
     "output_type": "execute_result"
    },
    {
     "data": {
      "image/png": "[encoded data removed]",
      "text/plain": [
       "<Figure size 919.55x216 with 1 Axes>"
      ]
     },
     "metadata": {},
     "output_type": "display_data"
    }
   ],
   "source": [
    "facet=sns.FacetGrid(train,hue='Survived',aspect=4)\n",
    "facet.map(sns.kdeplot,'Age',shade=True)\n",
    "facet.set(xlim=(0,train['Age'].max()))\n",
    "facet.add_legend()\n",
    "plt.xlim(20,30)"
   ]
  },
  {
   "cell_type": "code",
   "execution_count": 52,
   "metadata": {},
   "outputs": [
    {
     "data": {
      "text/plain": [
       "(30.0, 40.0)"
      ]
     },
     "execution_count": 52,
     "metadata": {},
     "output_type": "execute_result"
    },
    {
     "data": {
      "image/png": "[encoded data removed]",
      "text/plain": [
       "<Figure size 919.55x216 with 1 Axes>"
      ]
     },
     "metadata": {},
     "output_type": "display_data"
    }
   ],
   "source": [
    "facet=sns.FacetGrid(train,hue='Survived',aspect=4)\n",
    "facet.map(sns.kdeplot,'Age',shade=True)\n",
    "facet.set(xlim=(0,train['Age'].max()))\n",
    "facet.add_legend()\n",
    "plt.xlim(30,40)"
   ]
  },
  {
   "cell_type": "code",
   "execution_count": 53,
   "metadata": {},
   "outputs": [
    {
     "data": {
      "text/plain": [
       "(40.0, 60.0)"
      ]
     },
     "execution_count": 53,
     "metadata": {},
     "output_type": "execute_result"
    },
    {
     "data": {
      "image/png": "[encoded data removed]",
      "text/plain": [
       "<Figure size 919.55x216 with 1 Axes>"
      ]
     },
     "metadata": {},
     "output_type": "display_data"
    }
   ],
   "source": [
    "facet=sns.FacetGrid(train,hue='Survived',aspect=4)\n",
    "facet.map(sns.kdeplot,'Age',shade=True)\n",
    "facet.set(xlim=(0,train['Age'].max()))\n",
    "facet.add_legend()\n",
    "plt.xlim(40,60)"
   ]
  },
  {
   "cell_type": "code",
   "execution_count": 54,
   "metadata": {},
   "outputs": [
    {
     "data": {
      "text/plain": [
       "(60.0, 80.0)"
      ]
     },
     "execution_count": 54,
     "metadata": {},
     "output_type": "execute_result"
    },
    {
     "data": {
      "image/png": "[encoded data removed]",
      "text/plain": [
       "<Figure size 919.55x216 with 1 Axes>"
      ]
     },
     "metadata": {},
     "output_type": "display_data"
    }
   ],
   "source": [
    "facet=sns.FacetGrid(train,hue='Survived',aspect=4)\n",
    "facet.map(sns.kdeplot,'Age',shade=True)\n",
    "facet.set(xlim=(0,train['Age'].max()))\n",
    "facet.add_legend()\n",
    "plt.xlim(60)"
   ]
  },
  {
   "cell_type": "code",
   "execution_count": 55,
   "metadata": {
    "scrolled": true
   },
   "outputs": [
    {
     "name": "stdout",
     "output_type": "stream",
     "text": [
      "<class 'pandas.core.frame.DataFrame'>\n",
      "RangeIndex: 891 entries, 0 to 890\n",
      "Data columns (total 12 columns):\n",
      "PassengerId    891 non-null int64\n",
      "Survived       891 non-null int64\n",
      "Pclass         891 non-null int64\n",
      "Sex            891 non-null int64\n",
      "Age            891 non-null float64\n",
      "SibSp          891 non-null int64\n",
      "Parch          891 non-null int64\n",
      "Ticket         891 non-null object\n",
      "Fare           891 non-null float64\n",
      "Cabin          204 non-null object\n",
      "Embarked       889 non-null object\n",
      "Title          891 non-null int64\n",
      "dtypes: float64(2), int64(7), object(3)\n",
      "memory usage: 83.7+ KB\n"
     ]
    }
   ],
   "source": [
    "train.info()"
   ]
  },
  {
   "cell_type": "code",
   "execution_count": 56,
   "metadata": {
    "scrolled": true
   },
   "outputs": [
    {
     "name": "stdout",
     "output_type": "stream",
     "text": [
      "<class 'pandas.core.frame.DataFrame'>\n",
      "RangeIndex: 418 entries, 0 to 417\n",
      "Data columns (total 11 columns):\n",
      "PassengerId    418 non-null int64\n",
      "Pclass         418 non-null int64\n",
      "Sex            418 non-null int64\n",
      "Age            418 non-null float64\n",
      "SibSp          418 non-null int64\n",
      "Parch          418 non-null int64\n",
      "Ticket         418 non-null object\n",
      "Fare           417 non-null float64\n",
      "Cabin          91 non-null object\n",
      "Embarked       418 non-null object\n",
      "Title          418 non-null int64\n",
      "dtypes: float64(2), int64(6), object(3)\n",
      "memory usage: 36.0+ KB\n"
     ]
    }
   ],
   "source": [
    "test.info()"
   ]
  },
  {
   "cell_type": "code",
   "execution_count": 57,
   "metadata": {},
   "outputs": [],
   "source": [
    "#creating just age groups is not helpful in this manner.we have to convert them in to some numerical age in some categorical way.\n",
    "#for that case considering ,\n",
    "\n",
    "#child: 0\n",
    "#young: 1\n",
    "#adult: 2\n",
    "#mid-age: 3\n",
    "#senior: 4"
   ]
  },
  {
   "cell_type": "code",
   "execution_count": 58,
   "metadata": {},
   "outputs": [
    {
     "data": {
      "text/plain": [
       "False"
      ]
     },
     "execution_count": 58,
     "metadata": {},
     "output_type": "execute_result"
    }
   ],
   "source": [
    "dataset['Age'].isna().any()"
   ]
  },
  {
   "cell_type": "code",
   "execution_count": 59,
   "metadata": {},
   "outputs": [],
   "source": [
    "for dataset in train_test_data:\n",
    "    dataset.loc[ dataset['Age'] <= 16, 'Age'] = 0\n",
    "    dataset.loc[(dataset['Age'] > 16) & (dataset['Age'] <= 26), 'Age'] = 1\n",
    "    dataset.loc[(dataset['Age'] > 26) & (dataset['Age'] <= 36), 'Age'] = 2\n",
    "    dataset.loc[(dataset['Age'] > 36) & (dataset['Age'] <= 62), 'Age'] = 3\n",
    "    dataset.loc[ dataset['Age'] > 62, 'Age'] = 4"
   ]
  },
  {
   "cell_type": "code",
   "execution_count": 60,
   "metadata": {},
   "outputs": [
    {
     "data": {
      "text/html": [
       "<div>\n",
       "<style scoped>\n",
       "    .dataframe tbody tr th:only-of-type {\n",
       "        vertical-align: middle;\n",
       "    }\n",
       "\n",
       "    .dataframe tbody tr th {\n",
       "        vertical-align: top;\n",
       "    }\n",
       "\n",
       "    .dataframe thead th {\n",
       "        text-align: right;\n",
       "    }\n",
       "</style>\n",
       "<table border=\"1\" class=\"dataframe\">\n",
       "  <thead>\n",
       "    <tr style=\"text-align: right;\">\n",
       "      <th></th>\n",
       "      <th>PassengerId</th>\n",
       "      <th>Survived</th>\n",
       "      <th>Pclass</th>\n",
       "      <th>Sex</th>\n",
       "      <th>Age</th>\n",
       "      <th>SibSp</th>\n",
       "      <th>Parch</th>\n",
       "      <th>Ticket</th>\n",
       "      <th>Fare</th>\n",
       "      <th>Cabin</th>\n",
       "      <th>Embarked</th>\n",
       "      <th>Title</th>\n",
       "    </tr>\n",
       "  </thead>\n",
       "  <tbody>\n",
       "    <tr>\n",
       "      <th>0</th>\n",
       "      <td>1</td>\n",
       "      <td>0</td>\n",
       "      <td>3</td>\n",
       "      <td>0</td>\n",
       "      <td>1.0</td>\n",
       "      <td>1</td>\n",
       "      <td>0</td>\n",
       "      <td>A/5 21171</td>\n",
       "      <td>7.2500</td>\n",
       "      <td>NaN</td>\n",
       "      <td>S</td>\n",
       "      <td>0</td>\n",
       "    </tr>\n",
       "    <tr>\n",
       "      <th>1</th>\n",
       "      <td>2</td>\n",
       "      <td>1</td>\n",
       "      <td>1</td>\n",
       "      <td>1</td>\n",
       "      <td>3.0</td>\n",
       "      <td>1</td>\n",
       "      <td>0</td>\n",
       "      <td>PC 17599</td>\n",
       "      <td>71.2833</td>\n",
       "      <td>C85</td>\n",
       "      <td>C</td>\n",
       "      <td>2</td>\n",
       "    </tr>\n",
       "    <tr>\n",
       "      <th>2</th>\n",
       "      <td>3</td>\n",
       "      <td>1</td>\n",
       "      <td>3</td>\n",
       "      <td>1</td>\n",
       "      <td>1.0</td>\n",
       "      <td>0</td>\n",
       "      <td>0</td>\n",
       "      <td>STON/O2. 3101282</td>\n",
       "      <td>7.9250</td>\n",
       "      <td>NaN</td>\n",
       "      <td>S</td>\n",
       "      <td>1</td>\n",
       "    </tr>\n",
       "    <tr>\n",
       "      <th>3</th>\n",
       "      <td>4</td>\n",
       "      <td>1</td>\n",
       "      <td>1</td>\n",
       "      <td>1</td>\n",
       "      <td>2.0</td>\n",
       "      <td>1</td>\n",
       "      <td>0</td>\n",
       "      <td>113803</td>\n",
       "      <td>53.1000</td>\n",
       "      <td>C123</td>\n",
       "      <td>S</td>\n",
       "      <td>2</td>\n",
       "    </tr>\n",
       "    <tr>\n",
       "      <th>4</th>\n",
       "      <td>5</td>\n",
       "      <td>0</td>\n",
       "      <td>3</td>\n",
       "      <td>0</td>\n",
       "      <td>2.0</td>\n",
       "      <td>0</td>\n",
       "      <td>0</td>\n",
       "      <td>373450</td>\n",
       "      <td>8.0500</td>\n",
       "      <td>NaN</td>\n",
       "      <td>S</td>\n",
       "      <td>0</td>\n",
       "    </tr>\n",
       "  </tbody>\n",
       "</table>\n",
       "</div>"
      ],
      "text/plain": [
       "   PassengerId  Survived  Pclass  Sex  Age  SibSp  Parch            Ticket  \\\n",
       "0            1         0       3    0  1.0      1      0         A/5 21171   \n",
       "1            2         1       1    1  3.0      1      0          PC 17599   \n",
       "2            3         1       3    1  1.0      0      0  STON/O2. 3101282   \n",
       "3            4         1       1    1  2.0      1      0            113803   \n",
       "4            5         0       3    0  2.0      0      0            373450   \n",
       "\n",
       "      Fare Cabin Embarked  Title  \n",
       "0   7.2500   NaN        S      0  \n",
       "1  71.2833   C85        C      2  \n",
       "2   7.9250   NaN        S      1  \n",
       "3  53.1000  C123        S      2  \n",
       "4   8.0500   NaN        S      0  "
      ]
     },
     "execution_count": 60,
     "metadata": {},
     "output_type": "execute_result"
    }
   ],
   "source": [
    "train.head()"
   ]
  },
  {
   "cell_type": "code",
   "execution_count": 61,
   "metadata": {},
   "outputs": [
    {
     "data": {
      "image/png": "[encoded data removed]",
      "text/plain": [
       "<Figure size 720x360 with 1 Axes>"
      ]
     },
     "metadata": {},
     "output_type": "display_data"
    }
   ],
   "source": [
    "bar_chart('Age')"
   ]
  },
  {
   "cell_type": "markdown",
   "metadata": {},
   "source": [
    "### Embarked\n",
    "#### filling missing values"
   ]
  },
  {
   "cell_type": "code",
   "execution_count": 62,
   "metadata": {},
   "outputs": [
    {
     "data": {
      "text/plain": [
       "<AxesSubplot:>"
      ]
     },
     "execution_count": 62,
     "metadata": {},
     "output_type": "execute_result"
    },
    {
     "data": {
      "image/png": "[encoded data removed]",
      "text/plain": [
       "<Figure size 720x360 with 1 Axes>"
      ]
     },
     "metadata": {},
     "output_type": "display_data"
    }
   ],
   "source": [
    "Pclass1 = train[train['Pclass']==1]['Embarked'].value_counts()\n",
    "Pclass2 = train[train['Pclass']==2]['Embarked'].value_counts()\n",
    "Pclass3 = train[train['Pclass']==3]['Embarked'].value_counts()\n",
    "df = pd.DataFrame([Pclass1, Pclass2, Pclass3])\n",
    "df.index = ['1st class','2nd class', '3rd class']\n",
    "df.plot(kind='bar',stacked=True, figsize=(10,5))"
   ]
  },
  {
   "cell_type": "code",
   "execution_count": 63,
   "metadata": {},
   "outputs": [],
   "source": [
    "#more than 50% of 1st class are from S embark\n",
    "#more than 50% of 2nd class are from S embark\n",
    "#more than 50% of 3rd class are from S embark"
   ]
  },
  {
   "cell_type": "code",
   "execution_count": 64,
   "metadata": {},
   "outputs": [],
   "source": [
    "for dataset in train_test_data:\n",
    "    dataset['Embarked'] = dataset['Embarked'].fillna('S')"
   ]
  },
  {
   "cell_type": "code",
   "execution_count": 65,
   "metadata": {},
   "outputs": [
    {
     "data": {
      "text/html": [
       "<div>\n",
       "<style scoped>\n",
       "    .dataframe tbody tr th:only-of-type {\n",
       "        vertical-align: middle;\n",
       "    }\n",
       "\n",
       "    .dataframe tbody tr th {\n",
       "        vertical-align: top;\n",
       "    }\n",
       "\n",
       "    .dataframe thead th {\n",
       "        text-align: right;\n",
       "    }\n",
       "</style>\n",
       "<table border=\"1\" class=\"dataframe\">\n",
       "  <thead>\n",
       "    <tr style=\"text-align: right;\">\n",
       "      <th></th>\n",
       "      <th>PassengerId</th>\n",
       "      <th>Survived</th>\n",
       "      <th>Pclass</th>\n",
       "      <th>Sex</th>\n",
       "      <th>Age</th>\n",
       "      <th>SibSp</th>\n",
       "      <th>Parch</th>\n",
       "      <th>Ticket</th>\n",
       "      <th>Fare</th>\n",
       "      <th>Cabin</th>\n",
       "      <th>Embarked</th>\n",
       "      <th>Title</th>\n",
       "    </tr>\n",
       "  </thead>\n",
       "  <tbody>\n",
       "    <tr>\n",
       "      <th>0</th>\n",
       "      <td>1</td>\n",
       "      <td>0</td>\n",
       "      <td>3</td>\n",
       "      <td>0</td>\n",
       "      <td>1.0</td>\n",
       "      <td>1</td>\n",
       "      <td>0</td>\n",
       "      <td>A/5 21171</td>\n",
       "      <td>7.2500</td>\n",
       "      <td>NaN</td>\n",
       "      <td>S</td>\n",
       "      <td>0</td>\n",
       "    </tr>\n",
       "    <tr>\n",
       "      <th>1</th>\n",
       "      <td>2</td>\n",
       "      <td>1</td>\n",
       "      <td>1</td>\n",
       "      <td>1</td>\n",
       "      <td>3.0</td>\n",
       "      <td>1</td>\n",
       "      <td>0</td>\n",
       "      <td>PC 17599</td>\n",
       "      <td>71.2833</td>\n",
       "      <td>C85</td>\n",
       "      <td>C</td>\n",
       "      <td>2</td>\n",
       "    </tr>\n",
       "    <tr>\n",
       "      <th>2</th>\n",
       "      <td>3</td>\n",
       "      <td>1</td>\n",
       "      <td>3</td>\n",
       "      <td>1</td>\n",
       "      <td>1.0</td>\n",
       "      <td>0</td>\n",
       "      <td>0</td>\n",
       "      <td>STON/O2. 3101282</td>\n",
       "      <td>7.9250</td>\n",
       "      <td>NaN</td>\n",
       "      <td>S</td>\n",
       "      <td>1</td>\n",
       "    </tr>\n",
       "    <tr>\n",
       "      <th>3</th>\n",
       "      <td>4</td>\n",
       "      <td>1</td>\n",
       "      <td>1</td>\n",
       "      <td>1</td>\n",
       "      <td>2.0</td>\n",
       "      <td>1</td>\n",
       "      <td>0</td>\n",
       "      <td>113803</td>\n",
       "      <td>53.1000</td>\n",
       "      <td>C123</td>\n",
       "      <td>S</td>\n",
       "      <td>2</td>\n",
       "    </tr>\n",
       "    <tr>\n",
       "      <th>4</th>\n",
       "      <td>5</td>\n",
       "      <td>0</td>\n",
       "      <td>3</td>\n",
       "      <td>0</td>\n",
       "      <td>2.0</td>\n",
       "      <td>0</td>\n",
       "      <td>0</td>\n",
       "      <td>373450</td>\n",
       "      <td>8.0500</td>\n",
       "      <td>NaN</td>\n",
       "      <td>S</td>\n",
       "      <td>0</td>\n",
       "    </tr>\n",
       "  </tbody>\n",
       "</table>\n",
       "</div>"
      ],
      "text/plain": [
       "   PassengerId  Survived  Pclass  Sex  Age  SibSp  Parch            Ticket  \\\n",
       "0            1         0       3    0  1.0      1      0         A/5 21171   \n",
       "1            2         1       1    1  3.0      1      0          PC 17599   \n",
       "2            3         1       3    1  1.0      0      0  STON/O2. 3101282   \n",
       "3            4         1       1    1  2.0      1      0            113803   \n",
       "4            5         0       3    0  2.0      0      0            373450   \n",
       "\n",
       "      Fare Cabin Embarked  Title  \n",
       "0   7.2500   NaN        S      0  \n",
       "1  71.2833   C85        C      2  \n",
       "2   7.9250   NaN        S      1  \n",
       "3  53.1000  C123        S      2  \n",
       "4   8.0500   NaN        S      0  "
      ]
     },
     "execution_count": 65,
     "metadata": {},
     "output_type": "execute_result"
    }
   ],
   "source": [
    "train.head()"
   ]
  },
  {
   "cell_type": "code",
   "execution_count": 66,
   "metadata": {},
   "outputs": [],
   "source": [
    "#because most of the people embarked from the city S , filling data will be S for embarked. "
   ]
  },
  {
   "cell_type": "code",
   "execution_count": 67,
   "metadata": {},
   "outputs": [],
   "source": [
    "embarked_mapping = {\"S\": 0, \"C\":1, \"Q\":2}\n",
    "for dataset in train_test_data:\n",
    "    dataset['Embarked'] = dataset['Embarked'].map(embarked_mapping)"
   ]
  },
  {
   "cell_type": "code",
   "execution_count": 68,
   "metadata": {},
   "outputs": [
    {
     "data": {
      "text/html": [
       "<div>\n",
       "<style scoped>\n",
       "    .dataframe tbody tr th:only-of-type {\n",
       "        vertical-align: middle;\n",
       "    }\n",
       "\n",
       "    .dataframe tbody tr th {\n",
       "        vertical-align: top;\n",
       "    }\n",
       "\n",
       "    .dataframe thead th {\n",
       "        text-align: right;\n",
       "    }\n",
       "</style>\n",
       "<table border=\"1\" class=\"dataframe\">\n",
       "  <thead>\n",
       "    <tr style=\"text-align: right;\">\n",
       "      <th></th>\n",
       "      <th>PassengerId</th>\n",
       "      <th>Pclass</th>\n",
       "      <th>Sex</th>\n",
       "      <th>Age</th>\n",
       "      <th>SibSp</th>\n",
       "      <th>Parch</th>\n",
       "      <th>Ticket</th>\n",
       "      <th>Fare</th>\n",
       "      <th>Cabin</th>\n",
       "      <th>Embarked</th>\n",
       "      <th>Title</th>\n",
       "    </tr>\n",
       "  </thead>\n",
       "  <tbody>\n",
       "    <tr>\n",
       "      <th>0</th>\n",
       "      <td>892</td>\n",
       "      <td>3</td>\n",
       "      <td>0</td>\n",
       "      <td>2.0</td>\n",
       "      <td>0</td>\n",
       "      <td>0</td>\n",
       "      <td>330911</td>\n",
       "      <td>7.8292</td>\n",
       "      <td>NaN</td>\n",
       "      <td>2</td>\n",
       "      <td>0</td>\n",
       "    </tr>\n",
       "    <tr>\n",
       "      <th>1</th>\n",
       "      <td>893</td>\n",
       "      <td>3</td>\n",
       "      <td>1</td>\n",
       "      <td>3.0</td>\n",
       "      <td>1</td>\n",
       "      <td>0</td>\n",
       "      <td>363272</td>\n",
       "      <td>7.0000</td>\n",
       "      <td>NaN</td>\n",
       "      <td>0</td>\n",
       "      <td>2</td>\n",
       "    </tr>\n",
       "    <tr>\n",
       "      <th>2</th>\n",
       "      <td>894</td>\n",
       "      <td>2</td>\n",
       "      <td>0</td>\n",
       "      <td>3.0</td>\n",
       "      <td>0</td>\n",
       "      <td>0</td>\n",
       "      <td>240276</td>\n",
       "      <td>9.6875</td>\n",
       "      <td>NaN</td>\n",
       "      <td>2</td>\n",
       "      <td>0</td>\n",
       "    </tr>\n",
       "    <tr>\n",
       "      <th>3</th>\n",
       "      <td>895</td>\n",
       "      <td>3</td>\n",
       "      <td>0</td>\n",
       "      <td>2.0</td>\n",
       "      <td>0</td>\n",
       "      <td>0</td>\n",
       "      <td>315154</td>\n",
       "      <td>8.6625</td>\n",
       "      <td>NaN</td>\n",
       "      <td>0</td>\n",
       "      <td>0</td>\n",
       "    </tr>\n",
       "    <tr>\n",
       "      <th>4</th>\n",
       "      <td>896</td>\n",
       "      <td>3</td>\n",
       "      <td>1</td>\n",
       "      <td>1.0</td>\n",
       "      <td>1</td>\n",
       "      <td>1</td>\n",
       "      <td>3101298</td>\n",
       "      <td>12.2875</td>\n",
       "      <td>NaN</td>\n",
       "      <td>0</td>\n",
       "      <td>2</td>\n",
       "    </tr>\n",
       "  </tbody>\n",
       "</table>\n",
       "</div>"
      ],
      "text/plain": [
       "   PassengerId  Pclass  Sex  Age  SibSp  Parch   Ticket     Fare Cabin  \\\n",
       "0          892       3    0  2.0      0      0   330911   7.8292   NaN   \n",
       "1          893       3    1  3.0      1      0   363272   7.0000   NaN   \n",
       "2          894       2    0  3.0      0      0   240276   9.6875   NaN   \n",
       "3          895       3    0  2.0      0      0   315154   8.6625   NaN   \n",
       "4          896       3    1  1.0      1      1  3101298  12.2875   NaN   \n",
       "\n",
       "   Embarked  Title  \n",
       "0         2      0  \n",
       "1         0      2  \n",
       "2         2      0  \n",
       "3         0      0  \n",
       "4         0      2  "
      ]
     },
     "execution_count": 68,
     "metadata": {},
     "output_type": "execute_result"
    }
   ],
   "source": [
    "dataset.head()"
   ]
  },
  {
   "cell_type": "markdown",
   "metadata": {},
   "source": [
    "## Fare"
   ]
  },
  {
   "cell_type": "code",
   "execution_count": 69,
   "metadata": {},
   "outputs": [
    {
     "data": {
      "text/html": [
       "<div>\n",
       "<style scoped>\n",
       "    .dataframe tbody tr th:only-of-type {\n",
       "        vertical-align: middle;\n",
       "    }\n",
       "\n",
       "    .dataframe tbody tr th {\n",
       "        vertical-align: top;\n",
       "    }\n",
       "\n",
       "    .dataframe thead th {\n",
       "        text-align: right;\n",
       "    }\n",
       "</style>\n",
       "<table border=\"1\" class=\"dataframe\">\n",
       "  <thead>\n",
       "    <tr style=\"text-align: right;\">\n",
       "      <th></th>\n",
       "      <th>PassengerId</th>\n",
       "      <th>Survived</th>\n",
       "      <th>Pclass</th>\n",
       "      <th>Sex</th>\n",
       "      <th>Age</th>\n",
       "      <th>SibSp</th>\n",
       "      <th>Parch</th>\n",
       "      <th>Ticket</th>\n",
       "      <th>Fare</th>\n",
       "      <th>Cabin</th>\n",
       "      <th>Embarked</th>\n",
       "      <th>Title</th>\n",
       "    </tr>\n",
       "  </thead>\n",
       "  <tbody>\n",
       "    <tr>\n",
       "      <th>0</th>\n",
       "      <td>1</td>\n",
       "      <td>0</td>\n",
       "      <td>3</td>\n",
       "      <td>0</td>\n",
       "      <td>1.0</td>\n",
       "      <td>1</td>\n",
       "      <td>0</td>\n",
       "      <td>A/5 21171</td>\n",
       "      <td>7.2500</td>\n",
       "      <td>NaN</td>\n",
       "      <td>0</td>\n",
       "      <td>0</td>\n",
       "    </tr>\n",
       "    <tr>\n",
       "      <th>1</th>\n",
       "      <td>2</td>\n",
       "      <td>1</td>\n",
       "      <td>1</td>\n",
       "      <td>1</td>\n",
       "      <td>3.0</td>\n",
       "      <td>1</td>\n",
       "      <td>0</td>\n",
       "      <td>PC 17599</td>\n",
       "      <td>71.2833</td>\n",
       "      <td>C85</td>\n",
       "      <td>1</td>\n",
       "      <td>2</td>\n",
       "    </tr>\n",
       "    <tr>\n",
       "      <th>2</th>\n",
       "      <td>3</td>\n",
       "      <td>1</td>\n",
       "      <td>3</td>\n",
       "      <td>1</td>\n",
       "      <td>1.0</td>\n",
       "      <td>0</td>\n",
       "      <td>0</td>\n",
       "      <td>STON/O2. 3101282</td>\n",
       "      <td>7.9250</td>\n",
       "      <td>NaN</td>\n",
       "      <td>0</td>\n",
       "      <td>1</td>\n",
       "    </tr>\n",
       "    <tr>\n",
       "      <th>3</th>\n",
       "      <td>4</td>\n",
       "      <td>1</td>\n",
       "      <td>1</td>\n",
       "      <td>1</td>\n",
       "      <td>2.0</td>\n",
       "      <td>1</td>\n",
       "      <td>0</td>\n",
       "      <td>113803</td>\n",
       "      <td>53.1000</td>\n",
       "      <td>C123</td>\n",
       "      <td>0</td>\n",
       "      <td>2</td>\n",
       "    </tr>\n",
       "    <tr>\n",
       "      <th>4</th>\n",
       "      <td>5</td>\n",
       "      <td>0</td>\n",
       "      <td>3</td>\n",
       "      <td>0</td>\n",
       "      <td>2.0</td>\n",
       "      <td>0</td>\n",
       "      <td>0</td>\n",
       "      <td>373450</td>\n",
       "      <td>8.0500</td>\n",
       "      <td>NaN</td>\n",
       "      <td>0</td>\n",
       "      <td>0</td>\n",
       "    </tr>\n",
       "    <tr>\n",
       "      <th>5</th>\n",
       "      <td>6</td>\n",
       "      <td>0</td>\n",
       "      <td>3</td>\n",
       "      <td>0</td>\n",
       "      <td>2.0</td>\n",
       "      <td>0</td>\n",
       "      <td>0</td>\n",
       "      <td>330877</td>\n",
       "      <td>8.4583</td>\n",
       "      <td>NaN</td>\n",
       "      <td>2</td>\n",
       "      <td>0</td>\n",
       "    </tr>\n",
       "    <tr>\n",
       "      <th>6</th>\n",
       "      <td>7</td>\n",
       "      <td>0</td>\n",
       "      <td>1</td>\n",
       "      <td>0</td>\n",
       "      <td>3.0</td>\n",
       "      <td>0</td>\n",
       "      <td>0</td>\n",
       "      <td>17463</td>\n",
       "      <td>51.8625</td>\n",
       "      <td>E46</td>\n",
       "      <td>0</td>\n",
       "      <td>0</td>\n",
       "    </tr>\n",
       "    <tr>\n",
       "      <th>7</th>\n",
       "      <td>8</td>\n",
       "      <td>0</td>\n",
       "      <td>3</td>\n",
       "      <td>0</td>\n",
       "      <td>0.0</td>\n",
       "      <td>3</td>\n",
       "      <td>1</td>\n",
       "      <td>349909</td>\n",
       "      <td>21.0750</td>\n",
       "      <td>NaN</td>\n",
       "      <td>0</td>\n",
       "      <td>3</td>\n",
       "    </tr>\n",
       "    <tr>\n",
       "      <th>8</th>\n",
       "      <td>9</td>\n",
       "      <td>1</td>\n",
       "      <td>3</td>\n",
       "      <td>1</td>\n",
       "      <td>2.0</td>\n",
       "      <td>0</td>\n",
       "      <td>2</td>\n",
       "      <td>347742</td>\n",
       "      <td>11.1333</td>\n",
       "      <td>NaN</td>\n",
       "      <td>0</td>\n",
       "      <td>2</td>\n",
       "    </tr>\n",
       "    <tr>\n",
       "      <th>9</th>\n",
       "      <td>10</td>\n",
       "      <td>1</td>\n",
       "      <td>2</td>\n",
       "      <td>1</td>\n",
       "      <td>0.0</td>\n",
       "      <td>1</td>\n",
       "      <td>0</td>\n",
       "      <td>237736</td>\n",
       "      <td>30.0708</td>\n",
       "      <td>NaN</td>\n",
       "      <td>1</td>\n",
       "      <td>2</td>\n",
       "    </tr>\n",
       "    <tr>\n",
       "      <th>10</th>\n",
       "      <td>11</td>\n",
       "      <td>1</td>\n",
       "      <td>3</td>\n",
       "      <td>1</td>\n",
       "      <td>0.0</td>\n",
       "      <td>1</td>\n",
       "      <td>1</td>\n",
       "      <td>PP 9549</td>\n",
       "      <td>16.7000</td>\n",
       "      <td>G6</td>\n",
       "      <td>0</td>\n",
       "      <td>1</td>\n",
       "    </tr>\n",
       "    <tr>\n",
       "      <th>11</th>\n",
       "      <td>12</td>\n",
       "      <td>1</td>\n",
       "      <td>1</td>\n",
       "      <td>1</td>\n",
       "      <td>3.0</td>\n",
       "      <td>0</td>\n",
       "      <td>0</td>\n",
       "      <td>113783</td>\n",
       "      <td>26.5500</td>\n",
       "      <td>C103</td>\n",
       "      <td>0</td>\n",
       "      <td>1</td>\n",
       "    </tr>\n",
       "    <tr>\n",
       "      <th>12</th>\n",
       "      <td>13</td>\n",
       "      <td>0</td>\n",
       "      <td>3</td>\n",
       "      <td>0</td>\n",
       "      <td>1.0</td>\n",
       "      <td>0</td>\n",
       "      <td>0</td>\n",
       "      <td>A/5. 2151</td>\n",
       "      <td>8.0500</td>\n",
       "      <td>NaN</td>\n",
       "      <td>0</td>\n",
       "      <td>0</td>\n",
       "    </tr>\n",
       "    <tr>\n",
       "      <th>13</th>\n",
       "      <td>14</td>\n",
       "      <td>0</td>\n",
       "      <td>3</td>\n",
       "      <td>0</td>\n",
       "      <td>3.0</td>\n",
       "      <td>1</td>\n",
       "      <td>5</td>\n",
       "      <td>347082</td>\n",
       "      <td>31.2750</td>\n",
       "      <td>NaN</td>\n",
       "      <td>0</td>\n",
       "      <td>0</td>\n",
       "    </tr>\n",
       "    <tr>\n",
       "      <th>14</th>\n",
       "      <td>15</td>\n",
       "      <td>0</td>\n",
       "      <td>3</td>\n",
       "      <td>1</td>\n",
       "      <td>0.0</td>\n",
       "      <td>0</td>\n",
       "      <td>0</td>\n",
       "      <td>350406</td>\n",
       "      <td>7.8542</td>\n",
       "      <td>NaN</td>\n",
       "      <td>0</td>\n",
       "      <td>1</td>\n",
       "    </tr>\n",
       "    <tr>\n",
       "      <th>15</th>\n",
       "      <td>16</td>\n",
       "      <td>1</td>\n",
       "      <td>2</td>\n",
       "      <td>1</td>\n",
       "      <td>3.0</td>\n",
       "      <td>0</td>\n",
       "      <td>0</td>\n",
       "      <td>248706</td>\n",
       "      <td>16.0000</td>\n",
       "      <td>NaN</td>\n",
       "      <td>0</td>\n",
       "      <td>2</td>\n",
       "    </tr>\n",
       "    <tr>\n",
       "      <th>16</th>\n",
       "      <td>17</td>\n",
       "      <td>0</td>\n",
       "      <td>3</td>\n",
       "      <td>0</td>\n",
       "      <td>0.0</td>\n",
       "      <td>4</td>\n",
       "      <td>1</td>\n",
       "      <td>382652</td>\n",
       "      <td>29.1250</td>\n",
       "      <td>NaN</td>\n",
       "      <td>2</td>\n",
       "      <td>3</td>\n",
       "    </tr>\n",
       "    <tr>\n",
       "      <th>17</th>\n",
       "      <td>18</td>\n",
       "      <td>1</td>\n",
       "      <td>2</td>\n",
       "      <td>0</td>\n",
       "      <td>2.0</td>\n",
       "      <td>0</td>\n",
       "      <td>0</td>\n",
       "      <td>244373</td>\n",
       "      <td>13.0000</td>\n",
       "      <td>NaN</td>\n",
       "      <td>0</td>\n",
       "      <td>0</td>\n",
       "    </tr>\n",
       "    <tr>\n",
       "      <th>18</th>\n",
       "      <td>19</td>\n",
       "      <td>0</td>\n",
       "      <td>3</td>\n",
       "      <td>1</td>\n",
       "      <td>2.0</td>\n",
       "      <td>1</td>\n",
       "      <td>0</td>\n",
       "      <td>345763</td>\n",
       "      <td>18.0000</td>\n",
       "      <td>NaN</td>\n",
       "      <td>0</td>\n",
       "      <td>2</td>\n",
       "    </tr>\n",
       "    <tr>\n",
       "      <th>19</th>\n",
       "      <td>20</td>\n",
       "      <td>1</td>\n",
       "      <td>3</td>\n",
       "      <td>1</td>\n",
       "      <td>2.0</td>\n",
       "      <td>0</td>\n",
       "      <td>0</td>\n",
       "      <td>2649</td>\n",
       "      <td>7.2250</td>\n",
       "      <td>NaN</td>\n",
       "      <td>1</td>\n",
       "      <td>2</td>\n",
       "    </tr>\n",
       "  </tbody>\n",
       "</table>\n",
       "</div>"
      ],
      "text/plain": [
       "    PassengerId  Survived  Pclass  Sex  Age  SibSp  Parch            Ticket  \\\n",
       "0             1         0       3    0  1.0      1      0         A/5 21171   \n",
       "1             2         1       1    1  3.0      1      0          PC 17599   \n",
       "2             3         1       3    1  1.0      0      0  STON/O2. 3101282   \n",
       "3             4         1       1    1  2.0      1      0            113803   \n",
       "4             5         0       3    0  2.0      0      0            373450   \n",
       "5             6         0       3    0  2.0      0      0            330877   \n",
       "6             7         0       1    0  3.0      0      0             17463   \n",
       "7             8         0       3    0  0.0      3      1            349909   \n",
       "8             9         1       3    1  2.0      0      2            347742   \n",
       "9            10         1       2    1  0.0      1      0            237736   \n",
       "10           11         1       3    1  0.0      1      1           PP 9549   \n",
       "11           12         1       1    1  3.0      0      0            113783   \n",
       "12           13         0       3    0  1.0      0      0         A/5. 2151   \n",
       "13           14         0       3    0  3.0      1      5            347082   \n",
       "14           15         0       3    1  0.0      0      0            350406   \n",
       "15           16         1       2    1  3.0      0      0            248706   \n",
       "16           17         0       3    0  0.0      4      1            382652   \n",
       "17           18         1       2    0  2.0      0      0            244373   \n",
       "18           19         0       3    1  2.0      1      0            345763   \n",
       "19           20         1       3    1  2.0      0      0              2649   \n",
       "\n",
       "       Fare Cabin  Embarked  Title  \n",
       "0    7.2500   NaN         0      0  \n",
       "1   71.2833   C85         1      2  \n",
       "2    7.9250   NaN         0      1  \n",
       "3   53.1000  C123         0      2  \n",
       "4    8.0500   NaN         0      0  \n",
       "5    8.4583   NaN         2      0  \n",
       "6   51.8625   E46         0      0  \n",
       "7   21.0750   NaN         0      3  \n",
       "8   11.1333   NaN         0      2  \n",
       "9   30.0708   NaN         1      2  \n",
       "10  16.7000    G6         0      1  \n",
       "11  26.5500  C103         0      1  \n",
       "12   8.0500   NaN         0      0  \n",
       "13  31.2750   NaN         0      0  \n",
       "14   7.8542   NaN         0      1  \n",
       "15  16.0000   NaN         0      2  \n",
       "16  29.1250   NaN         2      3  \n",
       "17  13.0000   NaN         0      0  \n",
       "18  18.0000   NaN         0      2  \n",
       "19   7.2250   NaN         1      2  "
      ]
     },
     "execution_count": 69,
     "metadata": {},
     "output_type": "execute_result"
    }
   ],
   "source": [
    "# fill missing Fare with median fare for each Pclass\n",
    "train[\"Fare\"].fillna(train.groupby(\"Pclass\")[\"Fare\"].transform(\"median\"), inplace=True)\n",
    "test[\"Fare\"].fillna(test.groupby(\"Pclass\")[\"Fare\"].transform(\"median\"), inplace=True)\n",
    "train.head(20)"
   ]
  },
  {
   "cell_type": "code",
   "execution_count": 70,
   "metadata": {},
   "outputs": [
    {
     "data": {
      "image/png": "[encoded data removed]",
      "text/plain": [
       "<Figure size 919.55x216 with 1 Axes>"
      ]
     },
     "metadata": {},
     "output_type": "display_data"
    }
   ],
   "source": [
    "#median value for the fare\n",
    "facet = sns.FacetGrid(train, hue=\"Survived\",aspect=4)\n",
    "facet.map(sns.kdeplot,'Fare',shade= True)\n",
    "facet.set(xlim=(0, train['Fare'].max()))\n",
    "facet.add_legend()\n",
    " \n",
    "plt.show()  "
   ]
  },
  {
   "cell_type": "code",
   "execution_count": 71,
   "metadata": {},
   "outputs": [
    {
     "data": {
      "text/plain": [
       "(0.0, 20.0)"
      ]
     },
     "execution_count": 71,
     "metadata": {},
     "output_type": "execute_result"
    },
    {
     "data": {
      "image/png": "[encoded data removed]",
      "text/plain": [
       "<Figure size 919.55x216 with 1 Axes>"
      ]
     },
     "metadata": {},
     "output_type": "display_data"
    }
   ],
   "source": [
    "facet = sns.FacetGrid(train, hue=\"Survived\",aspect=4)\n",
    "facet.map(sns.kdeplot,'Fare',shade= True)\n",
    "facet.set(xlim=(0, train['Fare'].max()))\n",
    "facet.add_legend()\n",
    "plt.xlim(0, 20)"
   ]
  },
  {
   "cell_type": "code",
   "execution_count": 72,
   "metadata": {},
   "outputs": [
    {
     "data": {
      "text/plain": [
       "(0.0, 30.0)"
      ]
     },
     "execution_count": 72,
     "metadata": {},
     "output_type": "execute_result"
    },
    {
     "data": {
      "image/png": "[encoded data removed]",
      "text/plain": [
       "<Figure size 919.55x216 with 1 Axes>"
      ]
     },
     "metadata": {},
     "output_type": "display_data"
    }
   ],
   "source": [
    "facet = sns.FacetGrid(train, hue=\"Survived\",aspect=4)\n",
    "facet.map(sns.kdeplot,'Fare',shade= True)\n",
    "facet.set(xlim=(0, train['Fare'].max()))\n",
    "facet.add_legend()\n",
    "plt.xlim(0, 30)"
   ]
  },
  {
   "cell_type": "code",
   "execution_count": 73,
   "metadata": {},
   "outputs": [
    {
     "data": {
      "text/plain": [
       "(0.0, 512.3292)"
      ]
     },
     "execution_count": 73,
     "metadata": {},
     "output_type": "execute_result"
    },
    {
     "data": {
      "image/png": "[encoded data removed]",
      "text/plain": [
       "<Figure size 919.55x216 with 1 Axes>"
      ]
     },
     "metadata": {},
     "output_type": "display_data"
    }
   ],
   "source": [
    "facet = sns.FacetGrid(train, hue=\"Survived\",aspect=4)\n",
    "facet.map(sns.kdeplot,'Fare',shade= True)\n",
    "facet.set(xlim=(0, train['Fare'].max()))\n",
    "facet.add_legend()\n",
    "plt.xlim(0)"
   ]
  },
  {
   "cell_type": "code",
   "execution_count": 74,
   "metadata": {},
   "outputs": [],
   "source": [
    "for dataset in train_test_data:\n",
    "    dataset.loc[ dataset['Fare'] <= 17, 'Fare'] = 0\n",
    "    dataset.loc[(dataset['Fare'] > 17) & (dataset['Fare'] <= 30), 'Fare'] = 1\n",
    "    dataset.loc[(dataset['Fare'] > 30) & (dataset['Fare'] <= 100), 'Fare'] = 2\n",
    "    dataset.loc[ dataset['Fare'] > 100, 'Fare'] = 3"
   ]
  },
  {
   "cell_type": "code",
   "execution_count": 75,
   "metadata": {},
   "outputs": [
    {
     "data": {
      "text/html": [
       "<div>\n",
       "<style scoped>\n",
       "    .dataframe tbody tr th:only-of-type {\n",
       "        vertical-align: middle;\n",
       "    }\n",
       "\n",
       "    .dataframe tbody tr th {\n",
       "        vertical-align: top;\n",
       "    }\n",
       "\n",
       "    .dataframe thead th {\n",
       "        text-align: right;\n",
       "    }\n",
       "</style>\n",
       "<table border=\"1\" class=\"dataframe\">\n",
       "  <thead>\n",
       "    <tr style=\"text-align: right;\">\n",
       "      <th></th>\n",
       "      <th>PassengerId</th>\n",
       "      <th>Survived</th>\n",
       "      <th>Pclass</th>\n",
       "      <th>Sex</th>\n",
       "      <th>Age</th>\n",
       "      <th>SibSp</th>\n",
       "      <th>Parch</th>\n",
       "      <th>Ticket</th>\n",
       "      <th>Fare</th>\n",
       "      <th>Cabin</th>\n",
       "      <th>Embarked</th>\n",
       "      <th>Title</th>\n",
       "    </tr>\n",
       "  </thead>\n",
       "  <tbody>\n",
       "    <tr>\n",
       "      <th>0</th>\n",
       "      <td>1</td>\n",
       "      <td>0</td>\n",
       "      <td>3</td>\n",
       "      <td>0</td>\n",
       "      <td>1.0</td>\n",
       "      <td>1</td>\n",
       "      <td>0</td>\n",
       "      <td>A/5 21171</td>\n",
       "      <td>0.0</td>\n",
       "      <td>NaN</td>\n",
       "      <td>0</td>\n",
       "      <td>0</td>\n",
       "    </tr>\n",
       "    <tr>\n",
       "      <th>1</th>\n",
       "      <td>2</td>\n",
       "      <td>1</td>\n",
       "      <td>1</td>\n",
       "      <td>1</td>\n",
       "      <td>3.0</td>\n",
       "      <td>1</td>\n",
       "      <td>0</td>\n",
       "      <td>PC 17599</td>\n",
       "      <td>2.0</td>\n",
       "      <td>C85</td>\n",
       "      <td>1</td>\n",
       "      <td>2</td>\n",
       "    </tr>\n",
       "    <tr>\n",
       "      <th>2</th>\n",
       "      <td>3</td>\n",
       "      <td>1</td>\n",
       "      <td>3</td>\n",
       "      <td>1</td>\n",
       "      <td>1.0</td>\n",
       "      <td>0</td>\n",
       "      <td>0</td>\n",
       "      <td>STON/O2. 3101282</td>\n",
       "      <td>0.0</td>\n",
       "      <td>NaN</td>\n",
       "      <td>0</td>\n",
       "      <td>1</td>\n",
       "    </tr>\n",
       "    <tr>\n",
       "      <th>3</th>\n",
       "      <td>4</td>\n",
       "      <td>1</td>\n",
       "      <td>1</td>\n",
       "      <td>1</td>\n",
       "      <td>2.0</td>\n",
       "      <td>1</td>\n",
       "      <td>0</td>\n",
       "      <td>113803</td>\n",
       "      <td>2.0</td>\n",
       "      <td>C123</td>\n",
       "      <td>0</td>\n",
       "      <td>2</td>\n",
       "    </tr>\n",
       "    <tr>\n",
       "      <th>4</th>\n",
       "      <td>5</td>\n",
       "      <td>0</td>\n",
       "      <td>3</td>\n",
       "      <td>0</td>\n",
       "      <td>2.0</td>\n",
       "      <td>0</td>\n",
       "      <td>0</td>\n",
       "      <td>373450</td>\n",
       "      <td>0.0</td>\n",
       "      <td>NaN</td>\n",
       "      <td>0</td>\n",
       "      <td>0</td>\n",
       "    </tr>\n",
       "  </tbody>\n",
       "</table>\n",
       "</div>"
      ],
      "text/plain": [
       "   PassengerId  Survived  Pclass  Sex  Age  SibSp  Parch            Ticket  \\\n",
       "0            1         0       3    0  1.0      1      0         A/5 21171   \n",
       "1            2         1       1    1  3.0      1      0          PC 17599   \n",
       "2            3         1       3    1  1.0      0      0  STON/O2. 3101282   \n",
       "3            4         1       1    1  2.0      1      0            113803   \n",
       "4            5         0       3    0  2.0      0      0            373450   \n",
       "\n",
       "   Fare Cabin  Embarked  Title  \n",
       "0   0.0   NaN         0      0  \n",
       "1   2.0   C85         1      2  \n",
       "2   0.0   NaN         0      1  \n",
       "3   2.0  C123         0      2  \n",
       "4   0.0   NaN         0      0  "
      ]
     },
     "execution_count": 75,
     "metadata": {},
     "output_type": "execute_result"
    }
   ],
   "source": [
    "train.head()"
   ]
  },
  {
   "cell_type": "markdown",
   "metadata": {},
   "source": [
    "### Cabin"
   ]
  },
  {
   "cell_type": "code",
   "execution_count": 76,
   "metadata": {},
   "outputs": [
    {
     "data": {
      "text/plain": [
       "B96 B98        4\n",
       "C23 C25 C27    4\n",
       "G6             4\n",
       "F33            3\n",
       "F2             3\n",
       "              ..\n",
       "C110           1\n",
       "C148           1\n",
       "A34            1\n",
       "D49            1\n",
       "C90            1\n",
       "Name: Cabin, Length: 147, dtype: int64"
      ]
     },
     "execution_count": 76,
     "metadata": {},
     "output_type": "execute_result"
    }
   ],
   "source": [
    "train.Cabin.value_counts()"
   ]
  },
  {
   "cell_type": "code",
   "execution_count": 77,
   "metadata": {},
   "outputs": [],
   "source": [
    "for dataset in train_test_data:\n",
    "    dataset['Cabin'] = dataset['Cabin'].str[:1]"
   ]
  },
  {
   "cell_type": "code",
   "execution_count": 78,
   "metadata": {},
   "outputs": [
    {
     "data": {
      "text/plain": [
       "<AxesSubplot:>"
      ]
     },
     "execution_count": 78,
     "metadata": {},
     "output_type": "execute_result"
    },
    {
     "data": {
      "image/png": "[encoded data removed]",
      "text/plain": [
       "<Figure size 720x360 with 1 Axes>"
      ]
     },
     "metadata": {},
     "output_type": "display_data"
    }
   ],
   "source": [
    "Pclass1 = train[train['Pclass']==1]['Cabin'].value_counts()\n",
    "Pclass2 = train[train['Pclass']==2]['Cabin'].value_counts()\n",
    "Pclass3 = train[train['Pclass']==3]['Cabin'].value_counts()\n",
    "df = pd.DataFrame([Pclass1, Pclass2, Pclass3])\n",
    "df.index = ['1st class','2nd class', '3rd class']\n",
    "df.plot(kind='bar',stacked=True, figsize=(10,5))"
   ]
  },
  {
   "cell_type": "code",
   "execution_count": 79,
   "metadata": {},
   "outputs": [],
   "source": [
    "cabin_mapping = {\"A\": 0, \"B\": 0.4, \"C\": 0.8, \"D\": 1.2, \"E\": 1.6, \"F\": 2, \"G\": 2.4, \"T\": 2.8}\n",
    "for dataset in train_test_data:\n",
    "    dataset['Cabin'] = dataset['Cabin'].map(cabin_mapping)"
   ]
  },
  {
   "cell_type": "code",
   "execution_count": 80,
   "metadata": {},
   "outputs": [],
   "source": [
    "# fill missing Fare with median fare for each Pclass\n",
    "\n",
    "train[\"Cabin\"].fillna(train.groupby(\"Pclass\")[\"Cabin\"].transform(\"median\"), inplace=True)\n",
    "test[\"Cabin\"].fillna(test.groupby(\"Pclass\")[\"Cabin\"].transform(\"median\"), inplace=True)"
   ]
  },
  {
   "cell_type": "markdown",
   "metadata": {},
   "source": [
    "## FamilySize"
   ]
  },
  {
   "cell_type": "code",
   "execution_count": 81,
   "metadata": {},
   "outputs": [],
   "source": [
    "#adding kids and parents together as family\n",
    "train[\"FamilySize\"] = train[\"SibSp\"] + train[\"Parch\"] + 1\n",
    "test[\"FamilySize\"] = test[\"SibSp\"] + test[\"Parch\"] + 1"
   ]
  },
  {
   "cell_type": "code",
   "execution_count": 82,
   "metadata": {},
   "outputs": [
    {
     "data": {
      "text/plain": [
       "(0.0, 11.0)"
      ]
     },
     "execution_count": 82,
     "metadata": {},
     "output_type": "execute_result"
    },
    {
     "data": {
      "image/png": "[encoded data removed]",
      "text/plain": [
       "<Figure size 919.55x216 with 1 Axes>"
      ]
     },
     "metadata": {},
     "output_type": "display_data"
    }
   ],
   "source": [
    "facet = sns.FacetGrid(train, hue=\"Survived\",aspect=4)\n",
    "facet.map(sns.kdeplot,'FamilySize',shade= True)\n",
    "facet.set(xlim=(0, train['FamilySize'].max()))\n",
    "facet.add_legend()\n",
    "plt.xlim(0)"
   ]
  },
  {
   "cell_type": "code",
   "execution_count": 83,
   "metadata": {},
   "outputs": [],
   "source": [
    "family_mapping = {1: 0, 2: 0.4, 3: 0.8, 4: 1.2, 5: 1.6, 6: 2, 7: 2.4, 8: 2.8, 9: 3.2, 10: 3.6, 11: 4}\n",
    "for dataset in train_test_data:\n",
    "    dataset['FamilySize'] = dataset['FamilySize'].map(family_mapping)"
   ]
  },
  {
   "cell_type": "code",
   "execution_count": 84,
   "metadata": {},
   "outputs": [
    {
     "data": {
      "text/html": [
       "<div>\n",
       "<style scoped>\n",
       "    .dataframe tbody tr th:only-of-type {\n",
       "        vertical-align: middle;\n",
       "    }\n",
       "\n",
       "    .dataframe tbody tr th {\n",
       "        vertical-align: top;\n",
       "    }\n",
       "\n",
       "    .dataframe thead th {\n",
       "        text-align: right;\n",
       "    }\n",
       "</style>\n",
       "<table border=\"1\" class=\"dataframe\">\n",
       "  <thead>\n",
       "    <tr style=\"text-align: right;\">\n",
       "      <th></th>\n",
       "      <th>PassengerId</th>\n",
       "      <th>Survived</th>\n",
       "      <th>Pclass</th>\n",
       "      <th>Sex</th>\n",
       "      <th>Age</th>\n",
       "      <th>SibSp</th>\n",
       "      <th>Parch</th>\n",
       "      <th>Ticket</th>\n",
       "      <th>Fare</th>\n",
       "      <th>Cabin</th>\n",
       "      <th>Embarked</th>\n",
       "      <th>Title</th>\n",
       "      <th>FamilySize</th>\n",
       "    </tr>\n",
       "  </thead>\n",
       "  <tbody>\n",
       "    <tr>\n",
       "      <th>0</th>\n",
       "      <td>1</td>\n",
       "      <td>0</td>\n",
       "      <td>3</td>\n",
       "      <td>0</td>\n",
       "      <td>1.0</td>\n",
       "      <td>1</td>\n",
       "      <td>0</td>\n",
       "      <td>A/5 21171</td>\n",
       "      <td>0.0</td>\n",
       "      <td>2.0</td>\n",
       "      <td>0</td>\n",
       "      <td>0</td>\n",
       "      <td>0.4</td>\n",
       "    </tr>\n",
       "    <tr>\n",
       "      <th>1</th>\n",
       "      <td>2</td>\n",
       "      <td>1</td>\n",
       "      <td>1</td>\n",
       "      <td>1</td>\n",
       "      <td>3.0</td>\n",
       "      <td>1</td>\n",
       "      <td>0</td>\n",
       "      <td>PC 17599</td>\n",
       "      <td>2.0</td>\n",
       "      <td>0.8</td>\n",
       "      <td>1</td>\n",
       "      <td>2</td>\n",
       "      <td>0.4</td>\n",
       "    </tr>\n",
       "    <tr>\n",
       "      <th>2</th>\n",
       "      <td>3</td>\n",
       "      <td>1</td>\n",
       "      <td>3</td>\n",
       "      <td>1</td>\n",
       "      <td>1.0</td>\n",
       "      <td>0</td>\n",
       "      <td>0</td>\n",
       "      <td>STON/O2. 3101282</td>\n",
       "      <td>0.0</td>\n",
       "      <td>2.0</td>\n",
       "      <td>0</td>\n",
       "      <td>1</td>\n",
       "      <td>0.0</td>\n",
       "    </tr>\n",
       "    <tr>\n",
       "      <th>3</th>\n",
       "      <td>4</td>\n",
       "      <td>1</td>\n",
       "      <td>1</td>\n",
       "      <td>1</td>\n",
       "      <td>2.0</td>\n",
       "      <td>1</td>\n",
       "      <td>0</td>\n",
       "      <td>113803</td>\n",
       "      <td>2.0</td>\n",
       "      <td>0.8</td>\n",
       "      <td>0</td>\n",
       "      <td>2</td>\n",
       "      <td>0.4</td>\n",
       "    </tr>\n",
       "    <tr>\n",
       "      <th>4</th>\n",
       "      <td>5</td>\n",
       "      <td>0</td>\n",
       "      <td>3</td>\n",
       "      <td>0</td>\n",
       "      <td>2.0</td>\n",
       "      <td>0</td>\n",
       "      <td>0</td>\n",
       "      <td>373450</td>\n",
       "      <td>0.0</td>\n",
       "      <td>2.0</td>\n",
       "      <td>0</td>\n",
       "      <td>0</td>\n",
       "      <td>0.0</td>\n",
       "    </tr>\n",
       "  </tbody>\n",
       "</table>\n",
       "</div>"
      ],
      "text/plain": [
       "   PassengerId  Survived  Pclass  Sex  Age  SibSp  Parch            Ticket  \\\n",
       "0            1         0       3    0  1.0      1      0         A/5 21171   \n",
       "1            2         1       1    1  3.0      1      0          PC 17599   \n",
       "2            3         1       3    1  1.0      0      0  STON/O2. 3101282   \n",
       "3            4         1       1    1  2.0      1      0            113803   \n",
       "4            5         0       3    0  2.0      0      0            373450   \n",
       "\n",
       "   Fare  Cabin  Embarked  Title  FamilySize  \n",
       "0   0.0    2.0         0      0         0.4  \n",
       "1   2.0    0.8         1      2         0.4  \n",
       "2   0.0    2.0         0      1         0.0  \n",
       "3   2.0    0.8         0      2         0.4  \n",
       "4   0.0    2.0         0      0         0.0  "
      ]
     },
     "execution_count": 84,
     "metadata": {},
     "output_type": "execute_result"
    }
   ],
   "source": [
    "train.head()"
   ]
  },
  {
   "cell_type": "code",
   "execution_count": 85,
   "metadata": {},
   "outputs": [],
   "source": [
    "#after getting family size,Sibsp is not a some thing value,and parch also.Ticket details is not showing and data relavant for calculations.\n",
    "#so we can drop these columns and id column\n",
    "features_drop = ['Ticket', 'SibSp', 'Parch']\n",
    "train = train.drop(features_drop, axis=1)\n",
    "test = test.drop(features_drop, axis=1)\n",
    "train = train.drop(['PassengerId'], axis=1)"
   ]
  },
  {
   "cell_type": "code",
   "execution_count": 86,
   "metadata": {},
   "outputs": [
    {
     "data": {
      "text/plain": [
       "((891, 8), (891,))"
      ]
     },
     "execution_count": 86,
     "metadata": {},
     "output_type": "execute_result"
    }
   ],
   "source": [
    "train_data = train.drop('Survived', axis=1)\n",
    "target = train['Survived']\n",
    "\n",
    "train_data.shape, target.shape"
   ]
  },
  {
   "cell_type": "code",
   "execution_count": 87,
   "metadata": {},
   "outputs": [
    {
     "name": "stdout",
     "output_type": "stream",
     "text": [
      "<class 'pandas.core.frame.DataFrame'>\n",
      "RangeIndex: 891 entries, 0 to 890\n",
      "Data columns (total 8 columns):\n",
      "Pclass        891 non-null int64\n",
      "Sex           891 non-null int64\n",
      "Age           891 non-null float64\n",
      "Fare          891 non-null float64\n",
      "Cabin         891 non-null float64\n",
      "Embarked      891 non-null int64\n",
      "Title         891 non-null int64\n",
      "FamilySize    891 non-null float64\n",
      "dtypes: float64(4), int64(4)\n",
      "memory usage: 55.8 KB\n"
     ]
    }
   ],
   "source": [
    "train_data.info()"
   ]
  },
  {
   "cell_type": "code",
   "execution_count": 88,
   "metadata": {
    "scrolled": true
   },
   "outputs": [
    {
     "data": {
      "text/html": [
       "<div>\n",
       "<style scoped>\n",
       "    .dataframe tbody tr th:only-of-type {\n",
       "        vertical-align: middle;\n",
       "    }\n",
       "\n",
       "    .dataframe tbody tr th {\n",
       "        vertical-align: top;\n",
       "    }\n",
       "\n",
       "    .dataframe thead th {\n",
       "        text-align: right;\n",
       "    }\n",
       "</style>\n",
       "<table border=\"1\" class=\"dataframe\">\n",
       "  <thead>\n",
       "    <tr style=\"text-align: right;\">\n",
       "      <th></th>\n",
       "      <th>Pclass</th>\n",
       "      <th>Sex</th>\n",
       "      <th>Age</th>\n",
       "      <th>Fare</th>\n",
       "      <th>Cabin</th>\n",
       "      <th>Embarked</th>\n",
       "      <th>Title</th>\n",
       "      <th>FamilySize</th>\n",
       "    </tr>\n",
       "  </thead>\n",
       "  <tbody>\n",
       "    <tr>\n",
       "      <th>0</th>\n",
       "      <td>3</td>\n",
       "      <td>0</td>\n",
       "      <td>1.0</td>\n",
       "      <td>0.0</td>\n",
       "      <td>2.0</td>\n",
       "      <td>0</td>\n",
       "      <td>0</td>\n",
       "      <td>0.4</td>\n",
       "    </tr>\n",
       "    <tr>\n",
       "      <th>1</th>\n",
       "      <td>1</td>\n",
       "      <td>1</td>\n",
       "      <td>3.0</td>\n",
       "      <td>2.0</td>\n",
       "      <td>0.8</td>\n",
       "      <td>1</td>\n",
       "      <td>2</td>\n",
       "      <td>0.4</td>\n",
       "    </tr>\n",
       "    <tr>\n",
       "      <th>2</th>\n",
       "      <td>3</td>\n",
       "      <td>1</td>\n",
       "      <td>1.0</td>\n",
       "      <td>0.0</td>\n",
       "      <td>2.0</td>\n",
       "      <td>0</td>\n",
       "      <td>1</td>\n",
       "      <td>0.0</td>\n",
       "    </tr>\n",
       "    <tr>\n",
       "      <th>3</th>\n",
       "      <td>1</td>\n",
       "      <td>1</td>\n",
       "      <td>2.0</td>\n",
       "      <td>2.0</td>\n",
       "      <td>0.8</td>\n",
       "      <td>0</td>\n",
       "      <td>2</td>\n",
       "      <td>0.4</td>\n",
       "    </tr>\n",
       "    <tr>\n",
       "      <th>4</th>\n",
       "      <td>3</td>\n",
       "      <td>0</td>\n",
       "      <td>2.0</td>\n",
       "      <td>0.0</td>\n",
       "      <td>2.0</td>\n",
       "      <td>0</td>\n",
       "      <td>0</td>\n",
       "      <td>0.0</td>\n",
       "    </tr>\n",
       "    <tr>\n",
       "      <th>5</th>\n",
       "      <td>3</td>\n",
       "      <td>0</td>\n",
       "      <td>2.0</td>\n",
       "      <td>0.0</td>\n",
       "      <td>2.0</td>\n",
       "      <td>2</td>\n",
       "      <td>0</td>\n",
       "      <td>0.0</td>\n",
       "    </tr>\n",
       "    <tr>\n",
       "      <th>6</th>\n",
       "      <td>1</td>\n",
       "      <td>0</td>\n",
       "      <td>3.0</td>\n",
       "      <td>2.0</td>\n",
       "      <td>1.6</td>\n",
       "      <td>0</td>\n",
       "      <td>0</td>\n",
       "      <td>0.0</td>\n",
       "    </tr>\n",
       "    <tr>\n",
       "      <th>7</th>\n",
       "      <td>3</td>\n",
       "      <td>0</td>\n",
       "      <td>0.0</td>\n",
       "      <td>1.0</td>\n",
       "      <td>2.0</td>\n",
       "      <td>0</td>\n",
       "      <td>3</td>\n",
       "      <td>1.6</td>\n",
       "    </tr>\n",
       "    <tr>\n",
       "      <th>8</th>\n",
       "      <td>3</td>\n",
       "      <td>1</td>\n",
       "      <td>2.0</td>\n",
       "      <td>0.0</td>\n",
       "      <td>2.0</td>\n",
       "      <td>0</td>\n",
       "      <td>2</td>\n",
       "      <td>0.8</td>\n",
       "    </tr>\n",
       "    <tr>\n",
       "      <th>9</th>\n",
       "      <td>2</td>\n",
       "      <td>1</td>\n",
       "      <td>0.0</td>\n",
       "      <td>2.0</td>\n",
       "      <td>1.8</td>\n",
       "      <td>1</td>\n",
       "      <td>2</td>\n",
       "      <td>0.4</td>\n",
       "    </tr>\n",
       "    <tr>\n",
       "      <th>10</th>\n",
       "      <td>3</td>\n",
       "      <td>1</td>\n",
       "      <td>0.0</td>\n",
       "      <td>0.0</td>\n",
       "      <td>2.4</td>\n",
       "      <td>0</td>\n",
       "      <td>1</td>\n",
       "      <td>0.8</td>\n",
       "    </tr>\n",
       "    <tr>\n",
       "      <th>11</th>\n",
       "      <td>1</td>\n",
       "      <td>1</td>\n",
       "      <td>3.0</td>\n",
       "      <td>1.0</td>\n",
       "      <td>0.8</td>\n",
       "      <td>0</td>\n",
       "      <td>1</td>\n",
       "      <td>0.0</td>\n",
       "    </tr>\n",
       "    <tr>\n",
       "      <th>12</th>\n",
       "      <td>3</td>\n",
       "      <td>0</td>\n",
       "      <td>1.0</td>\n",
       "      <td>0.0</td>\n",
       "      <td>2.0</td>\n",
       "      <td>0</td>\n",
       "      <td>0</td>\n",
       "      <td>0.0</td>\n",
       "    </tr>\n",
       "    <tr>\n",
       "      <th>13</th>\n",
       "      <td>3</td>\n",
       "      <td>0</td>\n",
       "      <td>3.0</td>\n",
       "      <td>2.0</td>\n",
       "      <td>2.0</td>\n",
       "      <td>0</td>\n",
       "      <td>0</td>\n",
       "      <td>2.4</td>\n",
       "    </tr>\n",
       "    <tr>\n",
       "      <th>14</th>\n",
       "      <td>3</td>\n",
       "      <td>1</td>\n",
       "      <td>0.0</td>\n",
       "      <td>0.0</td>\n",
       "      <td>2.0</td>\n",
       "      <td>0</td>\n",
       "      <td>1</td>\n",
       "      <td>0.0</td>\n",
       "    </tr>\n",
       "    <tr>\n",
       "      <th>15</th>\n",
       "      <td>2</td>\n",
       "      <td>1</td>\n",
       "      <td>3.0</td>\n",
       "      <td>0.0</td>\n",
       "      <td>1.8</td>\n",
       "      <td>0</td>\n",
       "      <td>2</td>\n",
       "      <td>0.0</td>\n",
       "    </tr>\n",
       "    <tr>\n",
       "      <th>16</th>\n",
       "      <td>3</td>\n",
       "      <td>0</td>\n",
       "      <td>0.0</td>\n",
       "      <td>1.0</td>\n",
       "      <td>2.0</td>\n",
       "      <td>2</td>\n",
       "      <td>3</td>\n",
       "      <td>2.0</td>\n",
       "    </tr>\n",
       "    <tr>\n",
       "      <th>17</th>\n",
       "      <td>2</td>\n",
       "      <td>0</td>\n",
       "      <td>2.0</td>\n",
       "      <td>0.0</td>\n",
       "      <td>1.8</td>\n",
       "      <td>0</td>\n",
       "      <td>0</td>\n",
       "      <td>0.0</td>\n",
       "    </tr>\n",
       "    <tr>\n",
       "      <th>18</th>\n",
       "      <td>3</td>\n",
       "      <td>1</td>\n",
       "      <td>2.0</td>\n",
       "      <td>1.0</td>\n",
       "      <td>2.0</td>\n",
       "      <td>0</td>\n",
       "      <td>2</td>\n",
       "      <td>0.4</td>\n",
       "    </tr>\n",
       "    <tr>\n",
       "      <th>19</th>\n",
       "      <td>3</td>\n",
       "      <td>1</td>\n",
       "      <td>2.0</td>\n",
       "      <td>0.0</td>\n",
       "      <td>2.0</td>\n",
       "      <td>1</td>\n",
       "      <td>2</td>\n",
       "      <td>0.0</td>\n",
       "    </tr>\n",
       "  </tbody>\n",
       "</table>\n",
       "</div>"
      ],
      "text/plain": [
       "    Pclass  Sex  Age  Fare  Cabin  Embarked  Title  FamilySize\n",
       "0        3    0  1.0   0.0    2.0         0      0         0.4\n",
       "1        1    1  3.0   2.0    0.8         1      2         0.4\n",
       "2        3    1  1.0   0.0    2.0         0      1         0.0\n",
       "3        1    1  2.0   2.0    0.8         0      2         0.4\n",
       "4        3    0  2.0   0.0    2.0         0      0         0.0\n",
       "5        3    0  2.0   0.0    2.0         2      0         0.0\n",
       "6        1    0  3.0   2.0    1.6         0      0         0.0\n",
       "7        3    0  0.0   1.0    2.0         0      3         1.6\n",
       "8        3    1  2.0   0.0    2.0         0      2         0.8\n",
       "9        2    1  0.0   2.0    1.8         1      2         0.4\n",
       "10       3    1  0.0   0.0    2.4         0      1         0.8\n",
       "11       1    1  3.0   1.0    0.8         0      1         0.0\n",
       "12       3    0  1.0   0.0    2.0         0      0         0.0\n",
       "13       3    0  3.0   2.0    2.0         0      0         2.4\n",
       "14       3    1  0.0   0.0    2.0         0      1         0.0\n",
       "15       2    1  3.0   0.0    1.8         0      2         0.0\n",
       "16       3    0  0.0   1.0    2.0         2      3         2.0\n",
       "17       2    0  2.0   0.0    1.8         0      0         0.0\n",
       "18       3    1  2.0   1.0    2.0         0      2         0.4\n",
       "19       3    1  2.0   0.0    2.0         1      2         0.0"
      ]
     },
     "execution_count": 88,
     "metadata": {},
     "output_type": "execute_result"
    }
   ],
   "source": [
    "train_data.head(20)"
   ]
  },
  {
   "cell_type": "markdown",
   "metadata": {},
   "source": [
    "## Train Test split"
   ]
  },
  {
   "cell_type": "code",
   "execution_count": 89,
   "metadata": {},
   "outputs": [],
   "source": [
    "from sklearn.model_selection import train_test_split"
   ]
  },
  {
   "cell_type": "code",
   "execution_count": 90,
   "metadata": {},
   "outputs": [],
   "source": [
    "x_train, x_test, y_train, y_test = train_test_split(train_data, target)"
   ]
  },
  {
   "cell_type": "code",
   "execution_count": null,
   "metadata": {},
   "outputs": [],
   "source": []
  },
  {
   "cell_type": "markdown",
   "metadata": {},
   "source": [
    "## Modelling"
   ]
  },
  {
   "cell_type": "code",
   "execution_count": 91,
   "metadata": {},
   "outputs": [],
   "source": [
    "# Importing Classifier Modules\n",
    "from sklearn.naive_bayes import GaussianNB\n",
    "from sklearn.tree import DecisionTreeClassifier\n",
    "from sklearn.model_selection import cross_val_score\n",
    "import numpy as np\n",
    "from sklearn.model_selection import KFold\n",
    "from sklearn import metrics"
   ]
  },
  {
   "cell_type": "markdown",
   "metadata": {},
   "source": [
    "## GaussianNB"
   ]
  },
  {
   "cell_type": "markdown",
   "metadata": {},
   "source": [
    "### Hyper parameter tuning"
   ]
  },
  {
   "cell_type": "code",
   "execution_count": 92,
   "metadata": {},
   "outputs": [
    {
     "name": "stdout",
     "output_type": "stream",
     "text": [
      "Fitting 10 folds for each of 100 candidates, totalling 1000 fits\n"
     ]
    },
    {
     "name": "stderr",
     "output_type": "stream",
     "text": [
      "[Parallel(n_jobs=-1)]: Using backend LokyBackend with 8 concurrent workers.\n",
      "[Parallel(n_jobs=-1)]: Done  34 tasks      | elapsed:    1.8s\n",
      "[Parallel(n_jobs=-1)]: Done 920 tasks      | elapsed:    2.6s\n",
      "[Parallel(n_jobs=-1)]: Done 1000 out of 1000 | elapsed:    2.6s finished\n"
     ]
    },
    {
     "data": {
      "text/plain": [
       "GridSearchCV(cv=10, error_score=nan,\n",
       "             estimator=GaussianNB(priors=None, var_smoothing=1e-09),\n",
       "             iid='deprecated', n_jobs=-1,\n",
       "             param_grid={'var_smoothing': array([1.00000000e+00, 8.11130831e-01, 6.57933225e-01, 5.33669923e-01,\n",
       "       4.32876128e-01, 3.51119173e-01, 2.84803587e-01, 2.31012970e-01,\n",
       "       1.87381742e-01, 1.51991108e-01, 1.23284674e-01, 1.00000000e-01,\n",
       "       8.11130831e-02, 6.57...\n",
       "       5.33669923e-08, 4.32876128e-08, 3.51119173e-08, 2.84803587e-08,\n",
       "       2.31012970e-08, 1.87381742e-08, 1.51991108e-08, 1.23284674e-08,\n",
       "       1.00000000e-08, 8.11130831e-09, 6.57933225e-09, 5.33669923e-09,\n",
       "       4.32876128e-09, 3.51119173e-09, 2.84803587e-09, 2.31012970e-09,\n",
       "       1.87381742e-09, 1.51991108e-09, 1.23284674e-09, 1.00000000e-09])},\n",
       "             pre_dispatch='2*n_jobs', refit=True, return_train_score=False,\n",
       "             scoring='accuracy', verbose=1)"
      ]
     },
     "execution_count": 92,
     "metadata": {},
     "output_type": "execute_result"
    }
   ],
   "source": [
    "from sklearn.model_selection import GridSearchCV\n",
    "\n",
    "gnb = GaussianNB()\n",
    "\n",
    "param_grid = {\n",
    "    'var_smoothing': np.logspace(0,-9, num=100)\n",
    "}\n",
    "\n",
    "gs = GridSearchCV(estimator=gnb, param_grid=param_grid, cv=10, verbose=1, scoring='accuracy', n_jobs=-1)\n",
    "\n",
    "gs.fit(train_data, target)"
   ]
  },
  {
   "cell_type": "code",
   "execution_count": 93,
   "metadata": {},
   "outputs": [
    {
     "name": "stdout",
     "output_type": "stream",
     "text": [
      "Best accuracy:  0.7913108614232209\n",
      "Best parameters:  {'var_smoothing': 0.0533669923120631}\n",
      "CV results:  {'mean_fit_time': array([0.00614257, 0.00363538, 0.00365908, 0.00336618, 0.00310667,\n",
      "       0.00328944, 0.00388517, 0.00324924, 0.00365057, 0.00285776,\n",
      "       0.00324998, 0.00329499, 0.00370851, 0.0034333 , 0.00307286,\n",
      "       0.00350168, 0.00288718, 0.00307934, 0.00359368, 0.00324938,\n",
      "       0.00323267, 0.00285678, 0.00299566, 0.00313203, 0.00306935,\n",
      "       0.00304055, 0.00323651, 0.00324893, 0.00294189, 0.00303795,\n",
      "       0.00382736, 0.00338905, 0.00404513, 0.00304327, 0.00353651,\n",
      "       0.0031709 , 0.00336142, 0.00389872, 0.0043577 , 0.00345995,\n",
      "       0.0033572 , 0.00315349, 0.00309305, 0.00372124, 0.00319533,\n",
      "       0.00307353, 0.00289242, 0.00333123, 0.00370078, 0.00300994,\n",
      "       0.00503013, 0.00310445, 0.00511744, 0.00433502, 0.01116936,\n",
      "       0.00321422, 0.00331485, 0.00276186, 0.00515728, 0.00333087,\n",
      "       0.00465772, 0.00726497, 0.0031672 , 0.00267093, 0.00493069,\n",
      "       0.00308223, 0.00329554, 0.00345144, 0.00298822, 0.00287862,\n",
      "       0.00397367, 0.00325363, 0.00349457, 0.00399609, 0.00332336,\n",
      "       0.00325112, 0.00362387, 0.00312788, 0.00402169, 0.00338275,\n",
      "       0.00325119, 0.00343609, 0.00300007, 0.00334945, 0.00309746,\n",
      "       0.00267429, 0.00300009, 0.00313318, 0.00329628, 0.00305896,\n",
      "       0.00310624, 0.00321901, 0.00359402, 0.00344317, 0.00280464,\n",
      "       0.00315595, 0.00299084, 0.00302761, 0.00327125, 0.00241323]), 'std_fit_time': array([0.00680425, 0.00076099, 0.00079491, 0.00048105, 0.00065651,\n",
      "       0.00101188, 0.00094092, 0.0007884 , 0.00066264, 0.00054921,\n",
      "       0.00037118, 0.00103394, 0.00076463, 0.00092164, 0.00049417,\n",
      "       0.00167762, 0.00049976, 0.00063375, 0.00128366, 0.00035943,\n",
      "       0.00128515, 0.00053621, 0.00051496, 0.00049606, 0.00068093,\n",
      "       0.00068755, 0.00081857, 0.00121094, 0.00071663, 0.00104736,\n",
      "       0.00164149, 0.00206399, 0.00203025, 0.00067288, 0.00113123,\n",
      "       0.00055464, 0.00078093, 0.00241327, 0.00397666, 0.00070812,\n",
      "       0.00040143, 0.00058181, 0.00036942, 0.00181069, 0.00038449,\n",
      "       0.00075486, 0.00070415, 0.00087213, 0.00142814, 0.00048206,\n",
      "       0.00514678, 0.00057904, 0.00531962, 0.00343372, 0.01150113,\n",
      "       0.00073806, 0.00093384, 0.00066857, 0.00287825, 0.00051806,\n",
      "       0.00443222, 0.0111506 , 0.00077633, 0.00047563, 0.0055835 ,\n",
      "       0.00063569, 0.00133277, 0.00121856, 0.00055919, 0.00087765,\n",
      "       0.00288719, 0.00086506, 0.00192967, 0.00171051, 0.0012945 ,\n",
      "       0.00041504, 0.0008255 , 0.00057574, 0.00218324, 0.00055801,\n",
      "       0.00061569, 0.000593  , 0.00057469, 0.00086023, 0.00052886,\n",
      "       0.00063526, 0.00039505, 0.00057977, 0.0005272 , 0.00031929,\n",
      "       0.00030613, 0.00055278, 0.00082856, 0.00059039, 0.00054605,\n",
      "       0.0005937 , 0.00044354, 0.00057396, 0.00050949, 0.00045173]), 'mean_score_time': array([0.00233684, 0.00158303, 0.00224149, 0.00147886, 0.00125515,\n",
      "       0.00177212, 0.00299549, 0.00217257, 0.00147355, 0.00218129,\n",
      "       0.00173941, 0.00154068, 0.00232186, 0.00174749, 0.00138812,\n",
      "       0.00149965, 0.00173645, 0.00169709, 0.00189939, 0.0015336 ,\n",
      "       0.00157228, 0.00125909, 0.00124941, 0.0014204 , 0.00136797,\n",
      "       0.00135145, 0.00173285, 0.00345337, 0.00119615, 0.00125279,\n",
      "       0.00169177, 0.00150564, 0.00144331, 0.0014394 , 0.00139339,\n",
      "       0.0028172 , 0.00246518, 0.00394859, 0.00162122, 0.00139713,\n",
      "       0.00128429, 0.00181789, 0.00137215, 0.00127487, 0.001176  ,\n",
      "       0.00152586, 0.00138948, 0.00255249, 0.00138597, 0.00137734,\n",
      "       0.00146482, 0.00158973, 0.00142167, 0.00163486, 0.00142665,\n",
      "       0.00131507, 0.00141463, 0.00151362, 0.00247991, 0.00157521,\n",
      "       0.00200875, 0.00238118, 0.00116835, 0.00173509, 0.0012193 ,\n",
      "       0.00136073, 0.0024334 , 0.00453947, 0.00153675, 0.00139062,\n",
      "       0.00138276, 0.00156081, 0.00152304, 0.00163558, 0.00188656,\n",
      "       0.00125499, 0.00242679, 0.00160136, 0.00174649, 0.00159161,\n",
      "       0.00152302, 0.00219803, 0.00143068, 0.00160015, 0.00134118,\n",
      "       0.00155976, 0.00135095, 0.00137355, 0.00149362, 0.00124404,\n",
      "       0.00139971, 0.0014822 , 0.00172603, 0.00160534, 0.001459  ,\n",
      "       0.00152514, 0.00142074, 0.00147655, 0.00150383, 0.00148273]), 'std_score_time': array([0.00086881, 0.00055366, 0.00198555, 0.00047938, 0.00033513,\n",
      "       0.00041888, 0.00381389, 0.00142218, 0.00033265, 0.00224862,\n",
      "       0.00032281, 0.00040255, 0.00202213, 0.00069251, 0.00037892,\n",
      "       0.0005507 , 0.00056491, 0.00035863, 0.00086782, 0.00046009,\n",
      "       0.00038368, 0.00048472, 0.00034056, 0.00030172, 0.00046672,\n",
      "       0.00043995, 0.00072772, 0.00543698, 0.00052549, 0.00025912,\n",
      "       0.00052101, 0.00045201, 0.00055406, 0.00045556, 0.00058967,\n",
      "       0.00395987, 0.0030411 , 0.00501713, 0.00055127, 0.00035502,\n",
      "       0.00053457, 0.00063897, 0.00048162, 0.00046711, 0.00041354,\n",
      "       0.0005528 , 0.0005006 , 0.00355915, 0.00037645, 0.00039085,\n",
      "       0.00077507, 0.00065103, 0.00043853, 0.00045549, 0.00051473,\n",
      "       0.00034155, 0.00064364, 0.0004709 , 0.00300445, 0.00046619,\n",
      "       0.00113668, 0.00171934, 0.00038474, 0.00142976, 0.00044486,\n",
      "       0.00038727, 0.0028622 , 0.00946321, 0.00072188, 0.00054569,\n",
      "       0.0009039 , 0.00043512, 0.000533  , 0.00050242, 0.00067821,\n",
      "       0.0002882 , 0.00229465, 0.00040992, 0.00101587, 0.0004003 ,\n",
      "       0.00064973, 0.00255007, 0.00034   , 0.00042687, 0.00031734,\n",
      "       0.00049041, 0.00025952, 0.00041482, 0.00043714, 0.0001832 ,\n",
      "       0.00031769, 0.00040634, 0.00042009, 0.00058585, 0.00041806,\n",
      "       0.00052841, 0.00017492, 0.00049276, 0.00037897, 0.0003347 ]), 'param_var_smoothing': masked_array(data=[1.0, 0.8111308307896871, 0.657933224657568,\n",
      "                   0.533669923120631, 0.43287612810830584,\n",
      "                   0.3511191734215131, 0.2848035868435802,\n",
      "                   0.23101297000831597, 0.1873817422860384,\n",
      "                   0.15199110829529336, 0.12328467394420659, 0.1,\n",
      "                   0.08111308307896872, 0.0657933224657568,\n",
      "                   0.0533669923120631, 0.04328761281083057,\n",
      "                   0.03511191734215131, 0.02848035868435802,\n",
      "                   0.02310129700083159, 0.01873817422860384,\n",
      "                   0.01519911082952933, 0.012328467394420659, 0.01,\n",
      "                   0.008111308307896872, 0.006579332246575682,\n",
      "                   0.005336699231206307, 0.004328761281083057,\n",
      "                   0.003511191734215131, 0.002848035868435802,\n",
      "                   0.0023101297000831605, 0.001873817422860383,\n",
      "                   0.0015199110829529332, 0.0012328467394420659, 0.001,\n",
      "                   0.0008111308307896872, 0.0006579332246575676,\n",
      "                   0.0005336699231206307, 0.0004328761281083057,\n",
      "                   0.0003511191734215131, 0.0002848035868435802,\n",
      "                   0.0002310129700083158, 0.0001873817422860383,\n",
      "                   0.0001519911082952933, 0.0001232846739442066, 0.0001,\n",
      "                   8.111308307896872e-05, 6.579332246575683e-05,\n",
      "                   5.3366992312063123e-05, 4.328761281083062e-05,\n",
      "                   3.511191734215127e-05, 2.848035868435799e-05,\n",
      "                   2.310129700083158e-05, 1.873817422860383e-05,\n",
      "                   1.5199110829529332e-05, 1.2328467394420658e-05, 1e-05,\n",
      "                   8.111308307896873e-06, 6.579332246575683e-06,\n",
      "                   5.336699231206313e-06, 4.328761281083053e-06,\n",
      "                   3.5111917342151275e-06, 2.848035868435799e-06,\n",
      "                   2.310129700083158e-06, 1.873817422860383e-06,\n",
      "                   1.519911082952933e-06, 1.232846739442066e-06, 1e-06,\n",
      "                   8.111308307896872e-07, 6.579332246575682e-07,\n",
      "                   5.336699231206313e-07, 4.3287612810830526e-07,\n",
      "                   3.5111917342151277e-07, 2.848035868435799e-07,\n",
      "                   2.310129700083158e-07, 1.873817422860383e-07,\n",
      "                   1.519911082952933e-07, 1.232846739442066e-07, 1e-07,\n",
      "                   8.111308307896873e-08, 6.579332246575682e-08,\n",
      "                   5.336699231206302e-08, 4.3287612810830526e-08,\n",
      "                   3.5111917342151277e-08, 2.848035868435799e-08,\n",
      "                   2.310129700083158e-08, 1.873817422860383e-08,\n",
      "                   1.519911082952933e-08, 1.232846739442066e-08, 1e-08,\n",
      "                   8.111308307896856e-09, 6.579332246575682e-09,\n",
      "                   5.336699231206302e-09, 4.328761281083061e-09,\n",
      "                   3.5111917342151273e-09, 2.848035868435805e-09,\n",
      "                   2.310129700083158e-09, 1.873817422860387e-09,\n",
      "                   1.519911082952933e-09, 1.2328467394420635e-09, 1e-09],\n",
      "             mask=[False, False, False, False, False, False, False, False,\n",
      "                   False, False, False, False, False, False, False, False,\n",
      "                   False, False, False, False, False, False, False, False,\n",
      "                   False, False, False, False, False, False, False, False,\n",
      "                   False, False, False, False, False, False, False, False,\n",
      "                   False, False, False, False, False, False, False, False,\n",
      "                   False, False, False, False, False, False, False, False,\n",
      "                   False, False, False, False, False, False, False, False,\n",
      "                   False, False, False, False, False, False, False, False,\n",
      "                   False, False, False, False, False, False, False, False,\n",
      "                   False, False, False, False, False, False, False, False,\n",
      "                   False, False, False, False, False, False, False, False,\n",
      "                   False, False, False, False],\n",
      "       fill_value='?',\n",
      "            dtype=object), 'params': [{'var_smoothing': 1.0}, {'var_smoothing': 0.8111308307896871}, {'var_smoothing': 0.657933224657568}, {'var_smoothing': 0.533669923120631}, {'var_smoothing': 0.43287612810830584}, {'var_smoothing': 0.3511191734215131}, {'var_smoothing': 0.2848035868435802}, {'var_smoothing': 0.23101297000831597}, {'var_smoothing': 0.1873817422860384}, {'var_smoothing': 0.15199110829529336}, {'var_smoothing': 0.12328467394420659}, {'var_smoothing': 0.1}, {'var_smoothing': 0.08111308307896872}, {'var_smoothing': 0.0657933224657568}, {'var_smoothing': 0.0533669923120631}, {'var_smoothing': 0.04328761281083057}, {'var_smoothing': 0.03511191734215131}, {'var_smoothing': 0.02848035868435802}, {'var_smoothing': 0.02310129700083159}, {'var_smoothing': 0.01873817422860384}, {'var_smoothing': 0.01519911082952933}, {'var_smoothing': 0.012328467394420659}, {'var_smoothing': 0.01}, {'var_smoothing': 0.008111308307896872}, {'var_smoothing': 0.006579332246575682}, {'var_smoothing': 0.005336699231206307}, {'var_smoothing': 0.004328761281083057}, {'var_smoothing': 0.003511191734215131}, {'var_smoothing': 0.002848035868435802}, {'var_smoothing': 0.0023101297000831605}, {'var_smoothing': 0.001873817422860383}, {'var_smoothing': 0.0015199110829529332}, {'var_smoothing': 0.0012328467394420659}, {'var_smoothing': 0.001}, {'var_smoothing': 0.0008111308307896872}, {'var_smoothing': 0.0006579332246575676}, {'var_smoothing': 0.0005336699231206307}, {'var_smoothing': 0.0004328761281083057}, {'var_smoothing': 0.0003511191734215131}, {'var_smoothing': 0.0002848035868435802}, {'var_smoothing': 0.0002310129700083158}, {'var_smoothing': 0.0001873817422860383}, {'var_smoothing': 0.0001519911082952933}, {'var_smoothing': 0.0001232846739442066}, {'var_smoothing': 0.0001}, {'var_smoothing': 8.111308307896872e-05}, {'var_smoothing': 6.579332246575683e-05}, {'var_smoothing': 5.3366992312063123e-05}, {'var_smoothing': 4.328761281083062e-05}, {'var_smoothing': 3.511191734215127e-05}, {'var_smoothing': 2.848035868435799e-05}, {'var_smoothing': 2.310129700083158e-05}, {'var_smoothing': 1.873817422860383e-05}, {'var_smoothing': 1.5199110829529332e-05}, {'var_smoothing': 1.2328467394420658e-05}, {'var_smoothing': 1e-05}, {'var_smoothing': 8.111308307896873e-06}, {'var_smoothing': 6.579332246575683e-06}, {'var_smoothing': 5.336699231206313e-06}, {'var_smoothing': 4.328761281083053e-06}, {'var_smoothing': 3.5111917342151275e-06}, {'var_smoothing': 2.848035868435799e-06}, {'var_smoothing': 2.310129700083158e-06}, {'var_smoothing': 1.873817422860383e-06}, {'var_smoothing': 1.519911082952933e-06}, {'var_smoothing': 1.232846739442066e-06}, {'var_smoothing': 1e-06}, {'var_smoothing': 8.111308307896872e-07}, {'var_smoothing': 6.579332246575682e-07}, {'var_smoothing': 5.336699231206313e-07}, {'var_smoothing': 4.3287612810830526e-07}, {'var_smoothing': 3.5111917342151277e-07}, {'var_smoothing': 2.848035868435799e-07}, {'var_smoothing': 2.310129700083158e-07}, {'var_smoothing': 1.873817422860383e-07}, {'var_smoothing': 1.519911082952933e-07}, {'var_smoothing': 1.232846739442066e-07}, {'var_smoothing': 1e-07}, {'var_smoothing': 8.111308307896873e-08}, {'var_smoothing': 6.579332246575682e-08}, {'var_smoothing': 5.336699231206302e-08}, {'var_smoothing': 4.3287612810830526e-08}, {'var_smoothing': 3.5111917342151277e-08}, {'var_smoothing': 2.848035868435799e-08}, {'var_smoothing': 2.310129700083158e-08}, {'var_smoothing': 1.873817422860383e-08}, {'var_smoothing': 1.519911082952933e-08}, {'var_smoothing': 1.232846739442066e-08}, {'var_smoothing': 1e-08}, {'var_smoothing': 8.111308307896856e-09}, {'var_smoothing': 6.579332246575682e-09}, {'var_smoothing': 5.336699231206302e-09}, {'var_smoothing': 4.328761281083061e-09}, {'var_smoothing': 3.5111917342151273e-09}, {'var_smoothing': 2.848035868435805e-09}, {'var_smoothing': 2.310129700083158e-09}, {'var_smoothing': 1.873817422860387e-09}, {'var_smoothing': 1.519911082952933e-09}, {'var_smoothing': 1.2328467394420635e-09}, {'var_smoothing': 1e-09}], 'split0_test_score': array([0.64444444, 0.62222222, 0.64444444, 0.62222222, 0.62222222,\n",
      "       0.64444444, 0.64444444, 0.65555556, 0.66666667, 0.67777778,\n",
      "       0.68888889, 0.68888889, 0.72222222, 0.74444444, 0.73333333,\n",
      "       0.74444444, 0.74444444, 0.74444444, 0.75555556, 0.75555556,\n",
      "       0.76666667, 0.76666667, 0.76666667, 0.76666667, 0.76666667,\n",
      "       0.76666667, 0.76666667, 0.76666667, 0.76666667, 0.76666667,\n",
      "       0.76666667, 0.76666667, 0.76666667, 0.76666667, 0.76666667,\n",
      "       0.76666667, 0.76666667, 0.76666667, 0.76666667, 0.76666667,\n",
      "       0.76666667, 0.76666667, 0.76666667, 0.76666667, 0.76666667,\n",
      "       0.76666667, 0.76666667, 0.76666667, 0.76666667, 0.76666667,\n",
      "       0.76666667, 0.76666667, 0.76666667, 0.76666667, 0.76666667,\n",
      "       0.76666667, 0.76666667, 0.76666667, 0.76666667, 0.76666667,\n",
      "       0.76666667, 0.76666667, 0.76666667, 0.76666667, 0.76666667,\n",
      "       0.76666667, 0.76666667, 0.76666667, 0.76666667, 0.76666667,\n",
      "       0.76666667, 0.76666667, 0.76666667, 0.76666667, 0.76666667,\n",
      "       0.76666667, 0.76666667, 0.76666667, 0.76666667, 0.76666667,\n",
      "       0.76666667, 0.76666667, 0.76666667, 0.76666667, 0.76666667,\n",
      "       0.76666667, 0.76666667, 0.76666667, 0.76666667, 0.76666667,\n",
      "       0.76666667, 0.76666667, 0.76666667, 0.76666667, 0.76666667,\n",
      "       0.76666667, 0.76666667, 0.76666667, 0.76666667, 0.76666667]), 'split1_test_score': array([0.68539326, 0.69662921, 0.68539326, 0.68539326, 0.68539326,\n",
      "       0.66292135, 0.66292135, 0.66292135, 0.66292135, 0.70786517,\n",
      "       0.71910112, 0.75280899, 0.75280899, 0.75280899, 0.76404494,\n",
      "       0.76404494, 0.76404494, 0.76404494, 0.76404494, 0.76404494,\n",
      "       0.76404494, 0.78651685, 0.78651685, 0.78651685, 0.78651685,\n",
      "       0.78651685, 0.78651685, 0.78651685, 0.78651685, 0.78651685,\n",
      "       0.78651685, 0.7752809 , 0.7752809 , 0.7752809 , 0.7752809 ,\n",
      "       0.7752809 , 0.7752809 , 0.7752809 , 0.7752809 , 0.7752809 ,\n",
      "       0.7752809 , 0.7752809 , 0.7752809 , 0.7752809 , 0.7752809 ,\n",
      "       0.7752809 , 0.7752809 , 0.7752809 , 0.7752809 , 0.7752809 ,\n",
      "       0.7752809 , 0.7752809 , 0.7752809 , 0.7752809 , 0.7752809 ,\n",
      "       0.7752809 , 0.7752809 , 0.7752809 , 0.7752809 , 0.7752809 ,\n",
      "       0.7752809 , 0.7752809 , 0.7752809 , 0.7752809 , 0.7752809 ,\n",
      "       0.7752809 , 0.7752809 , 0.7752809 , 0.7752809 , 0.7752809 ,\n",
      "       0.7752809 , 0.7752809 , 0.7752809 , 0.7752809 , 0.7752809 ,\n",
      "       0.7752809 , 0.7752809 , 0.7752809 , 0.7752809 , 0.7752809 ,\n",
      "       0.7752809 , 0.7752809 , 0.7752809 , 0.7752809 , 0.7752809 ,\n",
      "       0.7752809 , 0.7752809 , 0.7752809 , 0.7752809 , 0.7752809 ,\n",
      "       0.7752809 , 0.7752809 , 0.7752809 , 0.7752809 , 0.7752809 ,\n",
      "       0.7752809 , 0.7752809 , 0.7752809 , 0.7752809 , 0.7752809 ]), 'split2_test_score': array([0.68539326, 0.69662921, 0.69662921, 0.69662921, 0.71910112,\n",
      "       0.71910112, 0.73033708, 0.74157303, 0.73033708, 0.75280899,\n",
      "       0.7752809 , 0.7752809 , 0.76404494, 0.75280899, 0.75280899,\n",
      "       0.75280899, 0.75280899, 0.75280899, 0.73033708, 0.73033708,\n",
      "       0.73033708, 0.73033708, 0.73033708, 0.73033708, 0.74157303,\n",
      "       0.74157303, 0.74157303, 0.74157303, 0.74157303, 0.74157303,\n",
      "       0.74157303, 0.73033708, 0.73033708, 0.73033708, 0.73033708,\n",
      "       0.73033708, 0.73033708, 0.73033708, 0.73033708, 0.73033708,\n",
      "       0.73033708, 0.73033708, 0.73033708, 0.73033708, 0.73033708,\n",
      "       0.73033708, 0.73033708, 0.73033708, 0.73033708, 0.73033708,\n",
      "       0.73033708, 0.73033708, 0.73033708, 0.73033708, 0.73033708,\n",
      "       0.73033708, 0.73033708, 0.73033708, 0.73033708, 0.73033708,\n",
      "       0.73033708, 0.73033708, 0.73033708, 0.73033708, 0.73033708,\n",
      "       0.73033708, 0.73033708, 0.73033708, 0.73033708, 0.73033708,\n",
      "       0.73033708, 0.73033708, 0.73033708, 0.73033708, 0.73033708,\n",
      "       0.73033708, 0.73033708, 0.73033708, 0.73033708, 0.73033708,\n",
      "       0.73033708, 0.73033708, 0.73033708, 0.73033708, 0.73033708,\n",
      "       0.73033708, 0.73033708, 0.73033708, 0.73033708, 0.73033708,\n",
      "       0.73033708, 0.73033708, 0.73033708, 0.73033708, 0.73033708,\n",
      "       0.73033708, 0.73033708, 0.73033708, 0.73033708, 0.73033708]), 'split3_test_score': array([0.78651685, 0.79775281, 0.7752809 , 0.76404494, 0.7752809 ,\n",
      "       0.7752809 , 0.79775281, 0.79775281, 0.7752809 , 0.78651685,\n",
      "       0.76404494, 0.7752809 , 0.7752809 , 0.7752809 , 0.7752809 ,\n",
      "       0.7752809 , 0.7752809 , 0.7752809 , 0.7752809 , 0.7752809 ,\n",
      "       0.7752809 , 0.7752809 , 0.76404494, 0.76404494, 0.76404494,\n",
      "       0.76404494, 0.76404494, 0.76404494, 0.76404494, 0.76404494,\n",
      "       0.76404494, 0.76404494, 0.76404494, 0.76404494, 0.76404494,\n",
      "       0.76404494, 0.76404494, 0.76404494, 0.76404494, 0.76404494,\n",
      "       0.76404494, 0.76404494, 0.76404494, 0.76404494, 0.76404494,\n",
      "       0.76404494, 0.76404494, 0.76404494, 0.76404494, 0.76404494,\n",
      "       0.76404494, 0.76404494, 0.76404494, 0.76404494, 0.76404494,\n",
      "       0.76404494, 0.76404494, 0.76404494, 0.76404494, 0.76404494,\n",
      "       0.76404494, 0.76404494, 0.76404494, 0.76404494, 0.76404494,\n",
      "       0.76404494, 0.76404494, 0.76404494, 0.76404494, 0.76404494,\n",
      "       0.76404494, 0.76404494, 0.76404494, 0.76404494, 0.76404494,\n",
      "       0.76404494, 0.76404494, 0.76404494, 0.76404494, 0.76404494,\n",
      "       0.76404494, 0.76404494, 0.76404494, 0.76404494, 0.76404494,\n",
      "       0.76404494, 0.76404494, 0.76404494, 0.76404494, 0.76404494,\n",
      "       0.76404494, 0.76404494, 0.76404494, 0.76404494, 0.76404494,\n",
      "       0.76404494, 0.76404494, 0.76404494, 0.76404494, 0.76404494]), 'split4_test_score': array([0.73033708, 0.74157303, 0.74157303, 0.75280899, 0.7752809 ,\n",
      "       0.7752809 , 0.80898876, 0.78651685, 0.78651685, 0.78651685,\n",
      "       0.84269663, 0.84269663, 0.84269663, 0.84269663, 0.83146067,\n",
      "       0.82022472, 0.82022472, 0.82022472, 0.82022472, 0.82022472,\n",
      "       0.82022472, 0.80898876, 0.80898876, 0.80898876, 0.80898876,\n",
      "       0.80898876, 0.80898876, 0.80898876, 0.80898876, 0.80898876,\n",
      "       0.80898876, 0.80898876, 0.80898876, 0.80898876, 0.80898876,\n",
      "       0.80898876, 0.80898876, 0.80898876, 0.80898876, 0.80898876,\n",
      "       0.80898876, 0.80898876, 0.80898876, 0.80898876, 0.80898876,\n",
      "       0.80898876, 0.80898876, 0.80898876, 0.80898876, 0.80898876,\n",
      "       0.80898876, 0.80898876, 0.80898876, 0.80898876, 0.80898876,\n",
      "       0.80898876, 0.80898876, 0.80898876, 0.80898876, 0.80898876,\n",
      "       0.80898876, 0.80898876, 0.80898876, 0.80898876, 0.80898876,\n",
      "       0.80898876, 0.80898876, 0.80898876, 0.80898876, 0.80898876,\n",
      "       0.80898876, 0.80898876, 0.80898876, 0.80898876, 0.80898876,\n",
      "       0.80898876, 0.80898876, 0.80898876, 0.80898876, 0.80898876,\n",
      "       0.80898876, 0.80898876, 0.80898876, 0.80898876, 0.80898876,\n",
      "       0.80898876, 0.80898876, 0.80898876, 0.80898876, 0.80898876,\n",
      "       0.80898876, 0.80898876, 0.80898876, 0.80898876, 0.80898876,\n",
      "       0.80898876, 0.80898876, 0.80898876, 0.80898876, 0.80898876]), 'split5_test_score': array([0.73033708, 0.73033708, 0.76404494, 0.7752809 , 0.76404494,\n",
      "       0.75280899, 0.75280899, 0.75280899, 0.74157303, 0.76404494,\n",
      "       0.76404494, 0.7752809 , 0.7752809 , 0.78651685, 0.78651685,\n",
      "       0.7752809 , 0.79775281, 0.79775281, 0.78651685, 0.78651685,\n",
      "       0.78651685, 0.7752809 , 0.7752809 , 0.7752809 , 0.76404494,\n",
      "       0.76404494, 0.76404494, 0.76404494, 0.76404494, 0.76404494,\n",
      "       0.76404494, 0.76404494, 0.76404494, 0.75280899, 0.75280899,\n",
      "       0.75280899, 0.75280899, 0.75280899, 0.75280899, 0.75280899,\n",
      "       0.75280899, 0.75280899, 0.75280899, 0.75280899, 0.75280899,\n",
      "       0.75280899, 0.75280899, 0.75280899, 0.75280899, 0.75280899,\n",
      "       0.75280899, 0.75280899, 0.75280899, 0.75280899, 0.75280899,\n",
      "       0.75280899, 0.75280899, 0.75280899, 0.75280899, 0.75280899,\n",
      "       0.75280899, 0.75280899, 0.75280899, 0.75280899, 0.75280899,\n",
      "       0.75280899, 0.75280899, 0.75280899, 0.75280899, 0.75280899,\n",
      "       0.75280899, 0.75280899, 0.75280899, 0.75280899, 0.75280899,\n",
      "       0.75280899, 0.75280899, 0.75280899, 0.75280899, 0.75280899,\n",
      "       0.75280899, 0.75280899, 0.75280899, 0.75280899, 0.75280899,\n",
      "       0.75280899, 0.75280899, 0.75280899, 0.75280899, 0.75280899,\n",
      "       0.75280899, 0.75280899, 0.75280899, 0.75280899, 0.75280899,\n",
      "       0.75280899, 0.75280899, 0.75280899, 0.75280899, 0.75280899]), 'split6_test_score': array([0.75280899, 0.7752809 , 0.80898876, 0.80898876, 0.79775281,\n",
      "       0.79775281, 0.79775281, 0.79775281, 0.79775281, 0.79775281,\n",
      "       0.80898876, 0.82022472, 0.80898876, 0.80898876, 0.80898876,\n",
      "       0.80898876, 0.80898876, 0.80898876, 0.80898876, 0.80898876,\n",
      "       0.80898876, 0.80898876, 0.80898876, 0.80898876, 0.80898876,\n",
      "       0.80898876, 0.80898876, 0.80898876, 0.80898876, 0.80898876,\n",
      "       0.80898876, 0.80898876, 0.80898876, 0.80898876, 0.80898876,\n",
      "       0.80898876, 0.80898876, 0.80898876, 0.80898876, 0.80898876,\n",
      "       0.80898876, 0.80898876, 0.80898876, 0.80898876, 0.80898876,\n",
      "       0.80898876, 0.80898876, 0.80898876, 0.80898876, 0.80898876,\n",
      "       0.80898876, 0.80898876, 0.80898876, 0.80898876, 0.80898876,\n",
      "       0.80898876, 0.80898876, 0.80898876, 0.80898876, 0.80898876,\n",
      "       0.80898876, 0.80898876, 0.80898876, 0.80898876, 0.80898876,\n",
      "       0.80898876, 0.80898876, 0.80898876, 0.80898876, 0.80898876,\n",
      "       0.80898876, 0.80898876, 0.80898876, 0.80898876, 0.80898876,\n",
      "       0.80898876, 0.80898876, 0.80898876, 0.80898876, 0.80898876,\n",
      "       0.80898876, 0.80898876, 0.80898876, 0.80898876, 0.80898876,\n",
      "       0.80898876, 0.80898876, 0.80898876, 0.80898876, 0.80898876,\n",
      "       0.80898876, 0.80898876, 0.80898876, 0.80898876, 0.80898876,\n",
      "       0.80898876, 0.80898876, 0.80898876, 0.80898876, 0.80898876]), 'split7_test_score': array([0.73033708, 0.73033708, 0.71910112, 0.73033708, 0.74157303,\n",
      "       0.75280899, 0.76404494, 0.7752809 , 0.78651685, 0.79775281,\n",
      "       0.80898876, 0.79775281, 0.79775281, 0.80898876, 0.80898876,\n",
      "       0.80898876, 0.83146067, 0.83146067, 0.83146067, 0.83146067,\n",
      "       0.83146067, 0.83146067, 0.83146067, 0.83146067, 0.83146067,\n",
      "       0.83146067, 0.83146067, 0.83146067, 0.83146067, 0.83146067,\n",
      "       0.83146067, 0.83146067, 0.83146067, 0.83146067, 0.83146067,\n",
      "       0.83146067, 0.83146067, 0.83146067, 0.83146067, 0.83146067,\n",
      "       0.83146067, 0.83146067, 0.83146067, 0.83146067, 0.83146067,\n",
      "       0.83146067, 0.83146067, 0.83146067, 0.83146067, 0.83146067,\n",
      "       0.83146067, 0.83146067, 0.83146067, 0.83146067, 0.83146067,\n",
      "       0.83146067, 0.83146067, 0.83146067, 0.83146067, 0.83146067,\n",
      "       0.83146067, 0.83146067, 0.83146067, 0.83146067, 0.83146067,\n",
      "       0.83146067, 0.83146067, 0.83146067, 0.83146067, 0.83146067,\n",
      "       0.83146067, 0.83146067, 0.83146067, 0.83146067, 0.83146067,\n",
      "       0.83146067, 0.83146067, 0.83146067, 0.83146067, 0.83146067,\n",
      "       0.83146067, 0.83146067, 0.83146067, 0.83146067, 0.83146067,\n",
      "       0.83146067, 0.83146067, 0.83146067, 0.83146067, 0.83146067,\n",
      "       0.83146067, 0.83146067, 0.83146067, 0.83146067, 0.83146067,\n",
      "       0.83146067, 0.83146067, 0.83146067, 0.83146067, 0.83146067]), 'split8_test_score': array([0.78651685, 0.7752809 , 0.7752809 , 0.76404494, 0.76404494,\n",
      "       0.76404494, 0.75280899, 0.76404494, 0.76404494, 0.7752809 ,\n",
      "       0.79775281, 0.79775281, 0.79775281, 0.80898876, 0.80898876,\n",
      "       0.79775281, 0.79775281, 0.80898876, 0.80898876, 0.80898876,\n",
      "       0.80898876, 0.80898876, 0.80898876, 0.79775281, 0.79775281,\n",
      "       0.79775281, 0.79775281, 0.79775281, 0.79775281, 0.79775281,\n",
      "       0.79775281, 0.79775281, 0.79775281, 0.79775281, 0.79775281,\n",
      "       0.79775281, 0.79775281, 0.79775281, 0.79775281, 0.79775281,\n",
      "       0.79775281, 0.79775281, 0.79775281, 0.79775281, 0.79775281,\n",
      "       0.79775281, 0.79775281, 0.79775281, 0.79775281, 0.79775281,\n",
      "       0.79775281, 0.79775281, 0.79775281, 0.79775281, 0.79775281,\n",
      "       0.79775281, 0.79775281, 0.79775281, 0.79775281, 0.79775281,\n",
      "       0.79775281, 0.79775281, 0.79775281, 0.79775281, 0.79775281,\n",
      "       0.79775281, 0.79775281, 0.79775281, 0.79775281, 0.79775281,\n",
      "       0.79775281, 0.79775281, 0.79775281, 0.79775281, 0.79775281,\n",
      "       0.79775281, 0.79775281, 0.79775281, 0.79775281, 0.79775281,\n",
      "       0.79775281, 0.79775281, 0.79775281, 0.79775281, 0.79775281,\n",
      "       0.79775281, 0.79775281, 0.79775281, 0.79775281, 0.79775281,\n",
      "       0.79775281, 0.79775281, 0.79775281, 0.79775281, 0.79775281,\n",
      "       0.79775281, 0.79775281, 0.79775281, 0.79775281, 0.79775281]), 'split9_test_score': array([0.75280899, 0.76404494, 0.7752809 , 0.7752809 , 0.78651685,\n",
      "       0.78651685, 0.79775281, 0.82022472, 0.83146067, 0.84269663,\n",
      "       0.84269663, 0.84269663, 0.82022472, 0.82022472, 0.84269663,\n",
      "       0.84269663, 0.79775281, 0.79775281, 0.79775281, 0.79775281,\n",
      "       0.79775281, 0.79775281, 0.79775281, 0.79775281, 0.79775281,\n",
      "       0.79775281, 0.79775281, 0.79775281, 0.79775281, 0.79775281,\n",
      "       0.79775281, 0.79775281, 0.79775281, 0.79775281, 0.79775281,\n",
      "       0.79775281, 0.79775281, 0.79775281, 0.79775281, 0.79775281,\n",
      "       0.79775281, 0.79775281, 0.79775281, 0.79775281, 0.79775281,\n",
      "       0.79775281, 0.79775281, 0.79775281, 0.79775281, 0.79775281,\n",
      "       0.79775281, 0.79775281, 0.79775281, 0.79775281, 0.79775281,\n",
      "       0.79775281, 0.79775281, 0.79775281, 0.79775281, 0.79775281,\n",
      "       0.79775281, 0.79775281, 0.79775281, 0.79775281, 0.79775281,\n",
      "       0.79775281, 0.79775281, 0.79775281, 0.79775281, 0.79775281,\n",
      "       0.79775281, 0.79775281, 0.79775281, 0.79775281, 0.79775281,\n",
      "       0.79775281, 0.79775281, 0.79775281, 0.79775281, 0.79775281,\n",
      "       0.79775281, 0.79775281, 0.79775281, 0.79775281, 0.79775281,\n",
      "       0.79775281, 0.79775281, 0.79775281, 0.79775281, 0.79775281,\n",
      "       0.79775281, 0.79775281, 0.79775281, 0.79775281, 0.79775281,\n",
      "       0.79775281, 0.79775281, 0.79775281, 0.79775281, 0.79775281]), 'mean_test_score': array([0.72848939, 0.73300874, 0.73860175, 0.73750312, 0.7431211 ,\n",
      "       0.74309613, 0.7509613 , 0.7554432 , 0.75430712, 0.76890137,\n",
      "       0.78124844, 0.78686642, 0.78570537, 0.79017478, 0.79131086,\n",
      "       0.78905119, 0.78905119, 0.79017478, 0.78791511, 0.78791511,\n",
      "       0.78902622, 0.78902622, 0.78790262, 0.78677903, 0.78677903,\n",
      "       0.78677903, 0.78677903, 0.78677903, 0.78677903, 0.78677903,\n",
      "       0.78677903, 0.78453184, 0.78453184, 0.78340824, 0.78340824,\n",
      "       0.78340824, 0.78340824, 0.78340824, 0.78340824, 0.78340824,\n",
      "       0.78340824, 0.78340824, 0.78340824, 0.78340824, 0.78340824,\n",
      "       0.78340824, 0.78340824, 0.78340824, 0.78340824, 0.78340824,\n",
      "       0.78340824, 0.78340824, 0.78340824, 0.78340824, 0.78340824,\n",
      "       0.78340824, 0.78340824, 0.78340824, 0.78340824, 0.78340824,\n",
      "       0.78340824, 0.78340824, 0.78340824, 0.78340824, 0.78340824,\n",
      "       0.78340824, 0.78340824, 0.78340824, 0.78340824, 0.78340824,\n",
      "       0.78340824, 0.78340824, 0.78340824, 0.78340824, 0.78340824,\n",
      "       0.78340824, 0.78340824, 0.78340824, 0.78340824, 0.78340824,\n",
      "       0.78340824, 0.78340824, 0.78340824, 0.78340824, 0.78340824,\n",
      "       0.78340824, 0.78340824, 0.78340824, 0.78340824, 0.78340824,\n",
      "       0.78340824, 0.78340824, 0.78340824, 0.78340824, 0.78340824,\n",
      "       0.78340824, 0.78340824, 0.78340824, 0.78340824, 0.78340824]), 'std_test_score': array([0.04324998, 0.04872076, 0.04846164, 0.05228277, 0.05132283,\n",
      "       0.04930302, 0.05443874, 0.05286502, 0.05217163, 0.04481444,\n",
      "       0.04731101, 0.04329666, 0.03327279, 0.03137247, 0.03325235,\n",
      "       0.03004691, 0.02741023, 0.0279685 , 0.03003138, 0.03003138,\n",
      "       0.02900146, 0.02720455, 0.02797031, 0.02731878, 0.02589532,\n",
      "       0.02589532, 0.02589532, 0.02589532, 0.02589532, 0.02589532,\n",
      "       0.02589532, 0.02815924, 0.02815924, 0.02916064, 0.02916064,\n",
      "       0.02916064, 0.02916064, 0.02916064, 0.02916064, 0.02916064,\n",
      "       0.02916064, 0.02916064, 0.02916064, 0.02916064, 0.02916064,\n",
      "       0.02916064, 0.02916064, 0.02916064, 0.02916064, 0.02916064,\n",
      "       0.02916064, 0.02916064, 0.02916064, 0.02916064, 0.02916064,\n",
      "       0.02916064, 0.02916064, 0.02916064, 0.02916064, 0.02916064,\n",
      "       0.02916064, 0.02916064, 0.02916064, 0.02916064, 0.02916064,\n",
      "       0.02916064, 0.02916064, 0.02916064, 0.02916064, 0.02916064,\n",
      "       0.02916064, 0.02916064, 0.02916064, 0.02916064, 0.02916064,\n",
      "       0.02916064, 0.02916064, 0.02916064, 0.02916064, 0.02916064,\n",
      "       0.02916064, 0.02916064, 0.02916064, 0.02916064, 0.02916064,\n",
      "       0.02916064, 0.02916064, 0.02916064, 0.02916064, 0.02916064,\n",
      "       0.02916064, 0.02916064, 0.02916064, 0.02916064, 0.02916064,\n",
      "       0.02916064, 0.02916064, 0.02916064, 0.02916064, 0.02916064]), 'rank_test_score': array([100,  99,  97,  98,  95,  96,  94,  92,  93,  91,  90,  11,  20,\n",
      "         2,   1,   4,   5,   2,   8,   8,   6,   6,  10,  12,  12,  12,\n",
      "        12,  12,  12,  12,  12,  21,  21,  23,  23,  23,  23,  23,  23,\n",
      "        23,  23,  23,  23,  23,  23,  23,  23,  23,  23,  23,  23,  23,\n",
      "        23,  23,  23,  23,  23,  23,  23,  23,  23,  23,  23,  23,  23,\n",
      "        23,  23,  23,  23,  23,  23,  23,  23,  23,  23,  23,  23,  23,\n",
      "        23,  23,  23,  23,  23,  23,  23,  23,  23,  23,  23,  23,  23,\n",
      "        23,  23,  23,  23,  23,  23,  23,  23,  23])}\n"
     ]
    }
   ],
   "source": [
    "print('Best accuracy: ', gs.best_score_)\n",
    "print('Best parameters: ', gs.best_params_)\n",
    "print('CV results: ', gs.cv_results_)"
   ]
  },
  {
   "cell_type": "code",
   "execution_count": 94,
   "metadata": {},
   "outputs": [],
   "source": [
    "# Best accuracy:  0.7913108614232209\n",
    "# Best parameters:  {'var_smoothing': 0.0533669923120631}"
   ]
  },
  {
   "cell_type": "markdown",
   "metadata": {},
   "source": [
    "### GNB tuned model"
   ]
  },
  {
   "cell_type": "code",
   "execution_count": 95,
   "metadata": {},
   "outputs": [],
   "source": [
    "gnb = GaussianNB(var_smoothing=0.0533669923120631)"
   ]
  },
  {
   "cell_type": "code",
   "execution_count": 96,
   "metadata": {},
   "outputs": [
    {
     "data": {
      "text/plain": [
       "GaussianNB(priors=None, var_smoothing=0.0533669923120631)"
      ]
     },
     "execution_count": 96,
     "metadata": {},
     "output_type": "execute_result"
    }
   ],
   "source": [
    "gnb.fit(x_train, y_train)"
   ]
  },
  {
   "cell_type": "code",
   "execution_count": 97,
   "metadata": {},
   "outputs": [],
   "source": [
    "# GNB pr4edictions for x_test\n",
    "y_gnb_pred = gnb.predict(x_test)"
   ]
  },
  {
   "cell_type": "code",
   "execution_count": 98,
   "metadata": {},
   "outputs": [
    {
     "name": "stdout",
     "output_type": "stream",
     "text": [
      "Gaussian Classifier accuracy: 82.51121076233184\n"
     ]
    }
   ],
   "source": [
    "print(\"Gaussian Classifier accuracy:\", metrics.accuracy_score(y_test, y_gnb_pred)*100)"
   ]
  },
  {
   "cell_type": "markdown",
   "metadata": {},
   "source": [
    "## Decision Tree"
   ]
  },
  {
   "cell_type": "markdown",
   "metadata": {},
   "source": [
    "### Hyper parameter tuning"
   ]
  },
  {
   "cell_type": "code",
   "execution_count": 99,
   "metadata": {},
   "outputs": [
    {
     "name": "stdout",
     "output_type": "stream",
     "text": [
      "Fitting 10 folds for each of 297 candidates, totalling 2970 fits\n"
     ]
    },
    {
     "name": "stderr",
     "output_type": "stream",
     "text": [
      "[Parallel(n_jobs=-1)]: Using backend LokyBackend with 8 concurrent workers.\n",
      "[Parallel(n_jobs=-1)]: Done  56 tasks      | elapsed:    0.2s\n",
      "[Parallel(n_jobs=-1)]: Done 2864 tasks      | elapsed:    2.4s\n",
      "[Parallel(n_jobs=-1)]: Done 2955 out of 2970 | elapsed:    2.5s remaining:    0.0s\n",
      "[Parallel(n_jobs=-1)]: Done 2970 out of 2970 | elapsed:    2.5s finished\n"
     ]
    },
    {
     "data": {
      "text/plain": [
       "GridSearchCV(cv=10, error_score=nan,\n",
       "             estimator=DecisionTreeClassifier(ccp_alpha=0.0, class_weight=None,\n",
       "                                              criterion='gini', max_depth=None,\n",
       "                                              max_features=None,\n",
       "                                              max_leaf_nodes=None,\n",
       "                                              min_impurity_decrease=0.0,\n",
       "                                              min_impurity_split=None,\n",
       "                                              min_samples_leaf=1,\n",
       "                                              min_samples_split=2,\n",
       "                                              min_weight_fraction_leaf=0.0,\n",
       "                                              presort='deprecated',\n",
       "                                              random_state=None,\n",
       "                                              splitter='best'),\n",
       "             iid='deprecated', n_jobs=-1,\n",
       "             param_grid={'max_leaf_nodes': [1, 2, 3, 4, 5, 6, 7, 8, 9, 10, 11,\n",
       "                                            12, 13, 14, 15, 16, 17, 18, 19, 20,\n",
       "                                            21, 22, 23, 24, 25, 26, 27, 28, 29,\n",
       "                                            30, ...],\n",
       "                         'min_samples_split': [2, 3, 4]},\n",
       "             pre_dispatch='2*n_jobs', refit=True, return_train_score=False,\n",
       "             scoring='accuracy', verbose=1)"
      ]
     },
     "execution_count": 99,
     "metadata": {},
     "output_type": "execute_result"
    }
   ],
   "source": [
    "dt = DecisionTreeClassifier()\n",
    "\n",
    "param_grid = {'max_leaf_nodes': list(range(1, 100)),\n",
    "              'min_samples_split': [2, 3, 4]}\n",
    "\n",
    "\n",
    "gs = GridSearchCV(estimator=dt, param_grid=param_grid, cv=10, verbose=1, scoring='accuracy', n_jobs=-1)\n",
    "\n",
    "gs.fit(train_data, target)"
   ]
  },
  {
   "cell_type": "code",
   "execution_count": 100,
   "metadata": {},
   "outputs": [
    {
     "name": "stdout",
     "output_type": "stream",
     "text": [
      "Best accuracy:  0.8372908863920099\n",
      "Best parameters:  {'max_leaf_nodes': 22, 'min_samples_split': 4}\n",
      "CV results:  {'mean_fit_time': array([0.00270722, 0.00230825, 0.00228062, 0.00254028, 0.00256197,\n",
      "       0.0029521 , 0.00320642, 0.00310028, 0.00269372, 0.00327003,\n",
      "       0.00320807, 0.00283825, 0.00310531, 0.0027952 , 0.00288959,\n",
      "       0.00285501, 0.0030607 , 0.00237036, 0.00254674, 0.00293043,\n",
      "       0.00288615, 0.00256045, 0.00256407, 0.00201669, 0.00340407,\n",
      "       0.00309331, 0.0031368 , 0.00324869, 0.00329542, 0.00280228,\n",
      "       0.00316479, 0.00384574, 0.0047735 , 0.00275588, 0.00264761,\n",
      "       0.00307825, 0.00238774, 0.00286691, 0.00269599, 0.00300598,\n",
      "       0.00289991, 0.00294755, 0.00310221, 0.00325081, 0.00278945,\n",
      "       0.00301132, 0.00320621, 0.0028235 , 0.0030102 , 0.00325124,\n",
      "       0.00572841, 0.00417185, 0.00566716, 0.0039649 , 0.00370758,\n",
      "       0.003022  , 0.00371494, 0.00340123, 0.0029161 , 0.00385532,\n",
      "       0.00334063, 0.00299685, 0.00390072, 0.00439432, 0.00728638,\n",
      "       0.00382004, 0.0032614 , 0.00314927, 0.00367861, 0.00316792,\n",
      "       0.00650761, 0.002826  , 0.00399165, 0.00540559, 0.00565045,\n",
      "       0.00351031, 0.00310996, 0.00350289, 0.00328274, 0.00344324,\n",
      "       0.00282021, 0.00309467, 0.00364962, 0.00487013, 0.00341697,\n",
      "       0.0030772 , 0.00316646, 0.0029206 , 0.00708838, 0.00247488,\n",
      "       0.00306623, 0.0035552 , 0.0035121 , 0.00279109, 0.00281403,\n",
      "       0.00297582, 0.00218222, 0.00307875, 0.00290141, 0.00337982,\n",
      "       0.0030411 , 0.003477  , 0.00423722, 0.00401073, 0.00442441,\n",
      "       0.00375392, 0.0043196 , 0.00283709, 0.00306013, 0.00302823,\n",
      "       0.00343854, 0.00317206, 0.00315933, 0.00277193, 0.00478203,\n",
      "       0.00344827, 0.003649  , 0.00323117, 0.00336542, 0.00339527,\n",
      "       0.00426137, 0.00388978, 0.00322101, 0.00475225, 0.00520446,\n",
      "       0.01075068, 0.00347011, 0.0033112 , 0.00303907, 0.00309606,\n",
      "       0.00351362, 0.0028548 , 0.00373602, 0.0030004 , 0.00365429,\n",
      "       0.00492365, 0.0036819 , 0.00501552, 0.00415816, 0.00350165,\n",
      "       0.00351679, 0.00352204, 0.00319202, 0.00341365, 0.00360773,\n",
      "       0.00325155, 0.00298049, 0.00524852, 0.00509262, 0.00381491,\n",
      "       0.0037957 , 0.00346324, 0.0031131 , 0.00363538, 0.00309138,\n",
      "       0.0033175 , 0.00360515, 0.00309298, 0.00362704, 0.00330229,\n",
      "       0.00326169, 0.00301394, 0.00324807, 0.00336125, 0.00354791,\n",
      "       0.00337386, 0.00370088, 0.00340514, 0.00366664, 0.00361745,\n",
      "       0.00350163, 0.0033057 , 0.00523536, 0.00559492, 0.00321472,\n",
      "       0.00635364, 0.00387652, 0.00369282, 0.00360391, 0.00374844,\n",
      "       0.00859368, 0.00359678, 0.00381718, 0.00342178, 0.00316544,\n",
      "       0.00406852, 0.00390606, 0.00508645, 0.00432644, 0.0048058 ,\n",
      "       0.00344567, 0.00475826, 0.00574877, 0.00531776, 0.00559039,\n",
      "       0.00559638, 0.0057559 , 0.00320158, 0.00341809, 0.00331953,\n",
      "       0.00370171, 0.00338659, 0.00372083, 0.00380092, 0.00369482,\n",
      "       0.00357661, 0.00356231, 0.00335107, 0.00322013, 0.00340464,\n",
      "       0.00333371, 0.00334709, 0.00340059, 0.00368476, 0.00365226,\n",
      "       0.00340347, 0.00332353, 0.0034451 , 0.00358813, 0.00344965,\n",
      "       0.00361989, 0.00326898, 0.00413487, 0.00461736, 0.00366845,\n",
      "       0.0055145 , 0.00461214, 0.00792644, 0.00410032, 0.00389714,\n",
      "       0.00623991, 0.00548091, 0.00664568, 0.00367765, 0.00337706,\n",
      "       0.0051625 , 0.003809  , 0.00619934, 0.00439003, 0.00294538,\n",
      "       0.00347145, 0.00359445, 0.00340514, 0.00355244, 0.0032439 ,\n",
      "       0.0032254 , 0.00340607, 0.0034817 , 0.00314763, 0.00448756,\n",
      "       0.00662875, 0.00438554, 0.00415223, 0.00342534, 0.00335262,\n",
      "       0.00363524, 0.00358722, 0.00333683, 0.00320787, 0.00343828,\n",
      "       0.00334699, 0.00345285, 0.00313025, 0.00333071, 0.00354567,\n",
      "       0.00345898, 0.00368388, 0.00351596, 0.00365536, 0.0036633 ,\n",
      "       0.00346963, 0.00359483, 0.00485694, 0.00308404, 0.00313618,\n",
      "       0.00393867, 0.00361927, 0.00489411, 0.00332687, 0.00304794,\n",
      "       0.00351148, 0.00357111, 0.00313714, 0.00340929, 0.00327661,\n",
      "       0.00716422, 0.00355747, 0.00329006, 0.00318704, 0.00346513,\n",
      "       0.00341761, 0.00332596, 0.00341651, 0.00354972, 0.0035296 ,\n",
      "       0.00344877, 0.00304074]), 'std_fit_time': array([0.00045656, 0.00046822, 0.00072756, 0.00043377, 0.00044155,\n",
      "       0.00042384, 0.00044001, 0.00071605, 0.00023175, 0.00060543,\n",
      "       0.00040408, 0.00044165, 0.0006608 , 0.00058863, 0.00061125,\n",
      "       0.00048812, 0.00073112, 0.00067355, 0.0003994 , 0.00039403,\n",
      "       0.00038926, 0.00041576, 0.00070854, 0.00048527, 0.0006045 ,\n",
      "       0.00049512, 0.0004359 , 0.00086622, 0.0005309 , 0.00040457,\n",
      "       0.00060113, 0.00152615, 0.00474205, 0.00044292, 0.0004769 ,\n",
      "       0.00086755, 0.00074785, 0.00061987, 0.00056485, 0.00042259,\n",
      "       0.00045179, 0.00027045, 0.00063594, 0.00133165, 0.00031876,\n",
      "       0.00045425, 0.00055645, 0.00056786, 0.0002881 , 0.00105868,\n",
      "       0.00461721, 0.00320512, 0.00669046, 0.00072575, 0.00109886,\n",
      "       0.00062379, 0.00075801, 0.00144136, 0.00046019, 0.00053295,\n",
      "       0.00054759, 0.00027326, 0.00060349, 0.00336568, 0.00809405,\n",
      "       0.00061038, 0.00040705, 0.00074936, 0.00052439, 0.00044025,\n",
      "       0.0065272 , 0.00037502, 0.00125999, 0.00523653, 0.00562621,\n",
      "       0.0006908 , 0.0004801 , 0.00112229, 0.00070488, 0.00072868,\n",
      "       0.00039144, 0.00048397, 0.00199534, 0.00423345, 0.0007814 ,\n",
      "       0.00059496, 0.00036095, 0.0002754 , 0.00739586, 0.00043186,\n",
      "       0.00047139, 0.00141085, 0.00145928, 0.00065334, 0.00048109,\n",
      "       0.00026434, 0.00083012, 0.00028014, 0.00072905, 0.00133653,\n",
      "       0.0003517 , 0.0019937 , 0.0036475 , 0.00158447, 0.00200967,\n",
      "       0.00132653, 0.00272506, 0.00037746, 0.00048261, 0.00033728,\n",
      "       0.00091355, 0.00030123, 0.00112773, 0.00071851, 0.00436947,\n",
      "       0.00035629, 0.00063328, 0.00076216, 0.00055937, 0.00106294,\n",
      "       0.00315674, 0.0018519 , 0.00072191, 0.00224593, 0.00353641,\n",
      "       0.01494327, 0.00109792, 0.00103311, 0.00042645, 0.00053513,\n",
      "       0.00101987, 0.000419  , 0.00093507, 0.00038664, 0.0025174 ,\n",
      "       0.00362243, 0.0007429 , 0.00390521, 0.0015983 , 0.00119686,\n",
      "       0.00075626, 0.00030089, 0.00058466, 0.00059869, 0.0006511 ,\n",
      "       0.00061595, 0.00052771, 0.00566951, 0.00398021, 0.00058714,\n",
      "       0.00083877, 0.00075732, 0.0002768 , 0.00052581, 0.00036469,\n",
      "       0.00039997, 0.00085801, 0.000481  , 0.00093541, 0.00057687,\n",
      "       0.00056634, 0.00041157, 0.0006419 , 0.0004841 , 0.00044006,\n",
      "       0.00037891, 0.00086723, 0.00060747, 0.00073863, 0.00111605,\n",
      "       0.00077794, 0.00033178, 0.00670108, 0.00758437, 0.00043833,\n",
      "       0.00463069, 0.00246535, 0.00148335, 0.0016784 , 0.00080204,\n",
      "       0.00869293, 0.00146565, 0.0011793 , 0.00062587, 0.00057242,\n",
      "       0.00120037, 0.00100857, 0.0034208 , 0.00351376, 0.00264773,\n",
      "       0.00048332, 0.00402258, 0.0047558 , 0.00531254, 0.00408719,\n",
      "       0.00389691, 0.00299275, 0.00041362, 0.00071413, 0.00029748,\n",
      "       0.00132104, 0.00044713, 0.00091426, 0.00048777, 0.00097836,\n",
      "       0.00063174, 0.00081351, 0.00043986, 0.00051961, 0.00056004,\n",
      "       0.00040895, 0.0004474 , 0.00030027, 0.00075356, 0.00104064,\n",
      "       0.0004664 , 0.00046105, 0.00064668, 0.00072369, 0.00044385,\n",
      "       0.00082616, 0.00029441, 0.00143822, 0.00254641, 0.00141825,\n",
      "       0.00378897, 0.00431992, 0.01237526, 0.001606  , 0.00059703,\n",
      "       0.00445601, 0.00622695, 0.00744682, 0.00104267, 0.0004985 ,\n",
      "       0.00429976, 0.00179603, 0.00458967, 0.00268724, 0.00041231,\n",
      "       0.00060432, 0.00140504, 0.00050912, 0.00045935, 0.00034126,\n",
      "       0.0006935 , 0.00058001, 0.0003523 , 0.00030234, 0.00169347,\n",
      "       0.00896381, 0.0013279 , 0.00217855, 0.00041262, 0.000442  ,\n",
      "       0.00092341, 0.00099843, 0.00038251, 0.00055235, 0.00134413,\n",
      "       0.00038111, 0.00039675, 0.00028469, 0.00057932, 0.00078201,\n",
      "       0.00056088, 0.00081024, 0.00066296, 0.00120755, 0.00114534,\n",
      "       0.00071087, 0.00063105, 0.00151563, 0.00052366, 0.00029492,\n",
      "       0.00070791, 0.00062563, 0.00347779, 0.00053958, 0.00029128,\n",
      "       0.00062758, 0.00024678, 0.00023146, 0.00069302, 0.0005688 ,\n",
      "       0.00613194, 0.0006345 , 0.00033359, 0.00035733, 0.00049591,\n",
      "       0.00032468, 0.00052329, 0.00082367, 0.00105096, 0.00068718,\n",
      "       0.00095394, 0.00058845]), 'mean_score_time': array([0.        , 0.        , 0.        , 0.00094566, 0.00099902,\n",
      "       0.00118153, 0.00153112, 0.00115292, 0.00130208, 0.00118837,\n",
      "       0.00134015, 0.00158947, 0.00130651, 0.0015728 , 0.00120165,\n",
      "       0.00123484, 0.00146971, 0.00099151, 0.00137844, 0.00122089,\n",
      "       0.001245  , 0.00114639, 0.00112398, 0.00099847, 0.00154874,\n",
      "       0.00294368, 0.00111315, 0.0017904 , 0.00122015, 0.00131054,\n",
      "       0.00119112, 0.00119135, 0.00118339, 0.00111346, 0.00122504,\n",
      "       0.00126314, 0.00108695, 0.00111313, 0.00122874, 0.00132141,\n",
      "       0.00110991, 0.00139678, 0.00122511, 0.00155089, 0.00122087,\n",
      "       0.00106883, 0.00112181, 0.00110869, 0.00105224, 0.00125594,\n",
      "       0.00133429, 0.00157807, 0.00145953, 0.00154574, 0.00150216,\n",
      "       0.00127854, 0.00166135, 0.00138092, 0.00117025, 0.00141909,\n",
      "       0.00127828, 0.00140753, 0.00187843, 0.00144076, 0.00182683,\n",
      "       0.00135801, 0.00154748, 0.00140641, 0.00122149, 0.00105946,\n",
      "       0.00232058, 0.00131934, 0.00113556, 0.00133355, 0.0019767 ,\n",
      "       0.00154598, 0.00144753, 0.00123577, 0.00142038, 0.00140307,\n",
      "       0.0011903 , 0.0014725 , 0.00122471, 0.00138383, 0.00118539,\n",
      "       0.00137308, 0.0012959 , 0.00143664, 0.00133142, 0.00113554,\n",
      "       0.00138824, 0.00207193, 0.00131013, 0.00099764, 0.00121045,\n",
      "       0.00190005, 0.0007257 , 0.00114405, 0.00128868, 0.00125184,\n",
      "       0.00125813, 0.00121372, 0.00144184, 0.00143726, 0.002209  ,\n",
      "       0.00110745, 0.00286484, 0.0015542 , 0.00135739, 0.00116308,\n",
      "       0.00116432, 0.00126805, 0.00146234, 0.00136976, 0.00165143,\n",
      "       0.00279756, 0.00172732, 0.00185168, 0.00136559, 0.00137076,\n",
      "       0.00127828, 0.00113575, 0.0015455 , 0.00137577, 0.0015348 ,\n",
      "       0.00160799, 0.00130427, 0.00142248, 0.00142243, 0.00160866,\n",
      "       0.00138969, 0.00130014, 0.0014364 , 0.00115507, 0.00265231,\n",
      "       0.00306585, 0.00165918, 0.00150654, 0.00171201, 0.00139072,\n",
      "       0.00120177, 0.00126908, 0.00160701, 0.00153277, 0.00150499,\n",
      "       0.0010958 , 0.00158067, 0.00239909, 0.00228591, 0.00176024,\n",
      "       0.00146239, 0.00132248, 0.00124891, 0.00192246, 0.00142186,\n",
      "       0.00146191, 0.00119441, 0.0012881 , 0.00166156, 0.00142062,\n",
      "       0.00132291, 0.00157814, 0.00152023, 0.0013778 , 0.00116303,\n",
      "       0.00185823, 0.0015239 , 0.00116374, 0.00164456, 0.00160117,\n",
      "       0.00151153, 0.00102239, 0.00253   , 0.00158837, 0.00170217,\n",
      "       0.00189986, 0.00133369, 0.0017309 , 0.00145743, 0.00163994,\n",
      "       0.00140672, 0.00372875, 0.00186367, 0.00147302, 0.00133898,\n",
      "       0.00183783, 0.001337  , 0.00231884, 0.00133653, 0.00132523,\n",
      "       0.00135384, 0.00141773, 0.00438969, 0.00151322, 0.00159256,\n",
      "       0.00146453, 0.00173752, 0.00154846, 0.00137758, 0.0012372 ,\n",
      "       0.00153143, 0.00173941, 0.00134444, 0.00156252, 0.00135765,\n",
      "       0.00143342, 0.00146379, 0.0018784 , 0.00173669, 0.00126262,\n",
      "       0.00131831, 0.00145822, 0.00151999, 0.00145726, 0.00129919,\n",
      "       0.00196946, 0.00168982, 0.00132244, 0.00161688, 0.00151947,\n",
      "       0.00150244, 0.00136325, 0.00214291, 0.00155458, 0.00189404,\n",
      "       0.00168583, 0.00143785, 0.0018832 , 0.00242472, 0.00136704,\n",
      "       0.00120251, 0.00127439, 0.00145791, 0.00130761, 0.00131862,\n",
      "       0.00127628, 0.00139787, 0.00156062, 0.0034137 , 0.00145254,\n",
      "       0.00116825, 0.00138271, 0.00162287, 0.00108955, 0.00116184,\n",
      "       0.00120652, 0.00139976, 0.00100777, 0.00132582, 0.00293036,\n",
      "       0.00137348, 0.00119724, 0.00123   , 0.00123708, 0.00146093,\n",
      "       0.00137527, 0.00133266, 0.00140064, 0.00127263, 0.00145266,\n",
      "       0.00131972, 0.00113666, 0.00126269, 0.00149131, 0.001548  ,\n",
      "       0.00099599, 0.00121312, 0.00155361, 0.0015801 , 0.00124536,\n",
      "       0.00149529, 0.00147297, 0.00136597, 0.00157311, 0.00141237,\n",
      "       0.00167022, 0.00125248, 0.00267565, 0.00129168, 0.00134888,\n",
      "       0.00168192, 0.00125291, 0.00126178, 0.00131221, 0.00141988,\n",
      "       0.00221002, 0.00153604, 0.00118082, 0.00153298, 0.00150318,\n",
      "       0.00126767, 0.00147789, 0.00136535, 0.00138073, 0.0013586 ,\n",
      "       0.00133467, 0.00100541]), 'std_score_time': array([0.        , 0.        , 0.        , 0.00055844, 0.00046863,\n",
      "       0.00040395, 0.00050892, 0.00027554, 0.00053678, 0.00038843,\n",
      "       0.00040714, 0.00147675, 0.00050532, 0.00097949, 0.00026228,\n",
      "       0.00051933, 0.00036412, 0.00028888, 0.00046602, 0.00045085,\n",
      "       0.00034656, 0.00040598, 0.00051235, 0.00063379, 0.00044726,\n",
      "       0.00448158, 0.00044273, 0.00031755, 0.0002294 , 0.00046867,\n",
      "       0.0003257 , 0.00041134, 0.00022713, 0.00019136, 0.00055584,\n",
      "       0.00026295, 0.0003413 , 0.00052104, 0.00060932, 0.00067496,\n",
      "       0.00037888, 0.00043582, 0.00059053, 0.00057076, 0.00034569,\n",
      "       0.0001625 , 0.00049626, 0.00020384, 0.00035208, 0.00076375,\n",
      "       0.00049515, 0.00037074, 0.00033727, 0.00036805, 0.00064213,\n",
      "       0.00047256, 0.00030602, 0.00055307, 0.00043348, 0.00044058,\n",
      "       0.00039255, 0.000528  , 0.00118293, 0.00056529, 0.0012693 ,\n",
      "       0.00041549, 0.00039224, 0.00044349, 0.00036483, 0.00026007,\n",
      "       0.00238792, 0.00044651, 0.00038508, 0.0005625 , 0.00099807,\n",
      "       0.00042919, 0.00056062, 0.00035549, 0.0003165 , 0.00049673,\n",
      "       0.00047368, 0.00100752, 0.00051749, 0.00042882, 0.00019521,\n",
      "       0.00038819, 0.00047039, 0.00053541, 0.00045789, 0.00036377,\n",
      "       0.0005012 , 0.00110601, 0.00040534, 0.00046482, 0.0004184 ,\n",
      "       0.00280181, 0.00052321, 0.00022193, 0.00033111, 0.00040002,\n",
      "       0.00040826, 0.00046761, 0.00058684, 0.00045032, 0.00165422,\n",
      "       0.00029753, 0.00213102, 0.00041055, 0.000575  , 0.00044786,\n",
      "       0.00022136, 0.00048024, 0.00038731, 0.00044267, 0.00151284,\n",
      "       0.00432241, 0.00131569, 0.00053939, 0.00050061, 0.00053699,\n",
      "       0.00036128, 0.00023548, 0.00044276, 0.00041747, 0.00069079,\n",
      "       0.00067701, 0.00051035, 0.00043517, 0.0005554 , 0.00047382,\n",
      "       0.00044035, 0.00050814, 0.00046164, 0.0003224 , 0.00425291,\n",
      "       0.00384291, 0.00098172, 0.00050429, 0.0008149 , 0.00050357,\n",
      "       0.00034159, 0.00046013, 0.00094862, 0.0005345 , 0.00062769,\n",
      "       0.00047921, 0.00043868, 0.00312044, 0.00275733, 0.00045446,\n",
      "       0.00078773, 0.0004184 , 0.00036269, 0.00055501, 0.00055491,\n",
      "       0.00049248, 0.00044816, 0.00045645, 0.00045658, 0.0004703 ,\n",
      "       0.00055103, 0.00040937, 0.00051319, 0.00048128, 0.0003198 ,\n",
      "       0.0006123 , 0.00070455, 0.00044341, 0.00075458, 0.00042952,\n",
      "       0.00047696, 0.00032204, 0.00173376, 0.00056244, 0.00130818,\n",
      "       0.00137271, 0.00039747, 0.0015264 , 0.00048799, 0.00085044,\n",
      "       0.0004253 , 0.0063811 , 0.0014731 , 0.00059416, 0.00039024,\n",
      "       0.00136894, 0.00042554, 0.002633  , 0.00052778, 0.00047396,\n",
      "       0.00033337, 0.00060516, 0.00792673, 0.00055982, 0.00060713,\n",
      "       0.00041637, 0.00045058, 0.00055101, 0.00065378, 0.00035165,\n",
      "       0.00037053, 0.00072446, 0.00053093, 0.00087365, 0.00060685,\n",
      "       0.00054231, 0.00044538, 0.00064707, 0.00040875, 0.000427  ,\n",
      "       0.00041823, 0.00067508, 0.00031505, 0.00054135, 0.00035876,\n",
      "       0.00097998, 0.00099746, 0.00034232, 0.00089607, 0.00062455,\n",
      "       0.00053641, 0.00039553, 0.00168895, 0.00046399, 0.000779  ,\n",
      "       0.00078938, 0.00042659, 0.00166617, 0.00265447, 0.00049464,\n",
      "       0.00034343, 0.00035562, 0.00063162, 0.00051576, 0.00037472,\n",
      "       0.00035381, 0.00043415, 0.00050281, 0.00429026, 0.00038439,\n",
      "       0.00028113, 0.00040331, 0.0007982 , 0.00035224, 0.00023607,\n",
      "       0.00020602, 0.00048356, 0.00032281, 0.0003545 , 0.00316681,\n",
      "       0.00033912, 0.00050912, 0.00037629, 0.00027503, 0.00039342,\n",
      "       0.00032942, 0.00041028, 0.00062643, 0.00041948, 0.00044353,\n",
      "       0.0008919 , 0.00018854, 0.00047878, 0.0003685 , 0.0003962 ,\n",
      "       0.00051031, 0.00039782, 0.00038369, 0.00119946, 0.00037873,\n",
      "       0.00034528, 0.00047975, 0.00063053, 0.00046506, 0.00043166,\n",
      "       0.00076968, 0.00027686, 0.00264245, 0.00030622, 0.00032678,\n",
      "       0.000643  , 0.00024978, 0.00047152, 0.0004787 , 0.00049209,\n",
      "       0.00142826, 0.00033431, 0.00041957, 0.00081795, 0.0003376 ,\n",
      "       0.0002176 , 0.00041622, 0.00034631, 0.00047009, 0.00068636,\n",
      "       0.00040693, 0.0006337 ]), 'param_max_leaf_nodes': masked_array(data=[1, 1, 1, 2, 2, 2, 3, 3, 3, 4, 4, 4, 5, 5, 5, 6, 6, 6,\n",
      "                   7, 7, 7, 8, 8, 8, 9, 9, 9, 10, 10, 10, 11, 11, 11, 12,\n",
      "                   12, 12, 13, 13, 13, 14, 14, 14, 15, 15, 15, 16, 16, 16,\n",
      "                   17, 17, 17, 18, 18, 18, 19, 19, 19, 20, 20, 20, 21, 21,\n",
      "                   21, 22, 22, 22, 23, 23, 23, 24, 24, 24, 25, 25, 25, 26,\n",
      "                   26, 26, 27, 27, 27, 28, 28, 28, 29, 29, 29, 30, 30, 30,\n",
      "                   31, 31, 31, 32, 32, 32, 33, 33, 33, 34, 34, 34, 35, 35,\n",
      "                   35, 36, 36, 36, 37, 37, 37, 38, 38, 38, 39, 39, 39, 40,\n",
      "                   40, 40, 41, 41, 41, 42, 42, 42, 43, 43, 43, 44, 44, 44,\n",
      "                   45, 45, 45, 46, 46, 46, 47, 47, 47, 48, 48, 48, 49, 49,\n",
      "                   49, 50, 50, 50, 51, 51, 51, 52, 52, 52, 53, 53, 53, 54,\n",
      "                   54, 54, 55, 55, 55, 56, 56, 56, 57, 57, 57, 58, 58, 58,\n",
      "                   59, 59, 59, 60, 60, 60, 61, 61, 61, 62, 62, 62, 63, 63,\n",
      "                   63, 64, 64, 64, 65, 65, 65, 66, 66, 66, 67, 67, 67, 68,\n",
      "                   68, 68, 69, 69, 69, 70, 70, 70, 71, 71, 71, 72, 72, 72,\n",
      "                   73, 73, 73, 74, 74, 74, 75, 75, 75, 76, 76, 76, 77, 77,\n",
      "                   77, 78, 78, 78, 79, 79, 79, 80, 80, 80, 81, 81, 81, 82,\n",
      "                   82, 82, 83, 83, 83, 84, 84, 84, 85, 85, 85, 86, 86, 86,\n",
      "                   87, 87, 87, 88, 88, 88, 89, 89, 89, 90, 90, 90, 91, 91,\n",
      "                   91, 92, 92, 92, 93, 93, 93, 94, 94, 94, 95, 95, 95, 96,\n",
      "                   96, 96, 97, 97, 97, 98, 98, 98, 99, 99, 99],\n",
      "             mask=[False, False, False, False, False, False, False, False,\n",
      "                   False, False, False, False, False, False, False, False,\n",
      "                   False, False, False, False, False, False, False, False,\n",
      "                   False, False, False, False, False, False, False, False,\n",
      "                   False, False, False, False, False, False, False, False,\n",
      "                   False, False, False, False, False, False, False, False,\n",
      "                   False, False, False, False, False, False, False, False,\n",
      "                   False, False, False, False, False, False, False, False,\n",
      "                   False, False, False, False, False, False, False, False,\n",
      "                   False, False, False, False, False, False, False, False,\n",
      "                   False, False, False, False, False, False, False, False,\n",
      "                   False, False, False, False, False, False, False, False,\n",
      "                   False, False, False, False, False, False, False, False,\n",
      "                   False, False, False, False, False, False, False, False,\n",
      "                   False, False, False, False, False, False, False, False,\n",
      "                   False, False, False, False, False, False, False, False,\n",
      "                   False, False, False, False, False, False, False, False,\n",
      "                   False, False, False, False, False, False, False, False,\n",
      "                   False, False, False, False, False, False, False, False,\n",
      "                   False, False, False, False, False, False, False, False,\n",
      "                   False, False, False, False, False, False, False, False,\n",
      "                   False, False, False, False, False, False, False, False,\n",
      "                   False, False, False, False, False, False, False, False,\n",
      "                   False, False, False, False, False, False, False, False,\n",
      "                   False, False, False, False, False, False, False, False,\n",
      "                   False, False, False, False, False, False, False, False,\n",
      "                   False, False, False, False, False, False, False, False,\n",
      "                   False, False, False, False, False, False, False, False,\n",
      "                   False, False, False, False, False, False, False, False,\n",
      "                   False, False, False, False, False, False, False, False,\n",
      "                   False, False, False, False, False, False, False, False,\n",
      "                   False, False, False, False, False, False, False, False,\n",
      "                   False, False, False, False, False, False, False, False,\n",
      "                   False, False, False, False, False, False, False, False,\n",
      "                   False, False, False, False, False, False, False, False,\n",
      "                   False, False, False, False, False, False, False, False,\n",
      "                   False, False, False, False, False, False, False, False,\n",
      "                   False],\n",
      "       fill_value='?',\n",
      "            dtype=object), 'param_min_samples_split': masked_array(data=[2, 3, 4, 2, 3, 4, 2, 3, 4, 2, 3, 4, 2, 3, 4, 2, 3, 4,\n",
      "                   2, 3, 4, 2, 3, 4, 2, 3, 4, 2, 3, 4, 2, 3, 4, 2, 3, 4,\n",
      "                   2, 3, 4, 2, 3, 4, 2, 3, 4, 2, 3, 4, 2, 3, 4, 2, 3, 4,\n",
      "                   2, 3, 4, 2, 3, 4, 2, 3, 4, 2, 3, 4, 2, 3, 4, 2, 3, 4,\n",
      "                   2, 3, 4, 2, 3, 4, 2, 3, 4, 2, 3, 4, 2, 3, 4, 2, 3, 4,\n",
      "                   2, 3, 4, 2, 3, 4, 2, 3, 4, 2, 3, 4, 2, 3, 4, 2, 3, 4,\n",
      "                   2, 3, 4, 2, 3, 4, 2, 3, 4, 2, 3, 4, 2, 3, 4, 2, 3, 4,\n",
      "                   2, 3, 4, 2, 3, 4, 2, 3, 4, 2, 3, 4, 2, 3, 4, 2, 3, 4,\n",
      "                   2, 3, 4, 2, 3, 4, 2, 3, 4, 2, 3, 4, 2, 3, 4, 2, 3, 4,\n",
      "                   2, 3, 4, 2, 3, 4, 2, 3, 4, 2, 3, 4, 2, 3, 4, 2, 3, 4,\n",
      "                   2, 3, 4, 2, 3, 4, 2, 3, 4, 2, 3, 4, 2, 3, 4, 2, 3, 4,\n",
      "                   2, 3, 4, 2, 3, 4, 2, 3, 4, 2, 3, 4, 2, 3, 4, 2, 3, 4,\n",
      "                   2, 3, 4, 2, 3, 4, 2, 3, 4, 2, 3, 4, 2, 3, 4, 2, 3, 4,\n",
      "                   2, 3, 4, 2, 3, 4, 2, 3, 4, 2, 3, 4, 2, 3, 4, 2, 3, 4,\n",
      "                   2, 3, 4, 2, 3, 4, 2, 3, 4, 2, 3, 4, 2, 3, 4, 2, 3, 4,\n",
      "                   2, 3, 4, 2, 3, 4, 2, 3, 4, 2, 3, 4, 2, 3, 4, 2, 3, 4,\n",
      "                   2, 3, 4, 2, 3, 4, 2, 3, 4],\n",
      "             mask=[False, False, False, False, False, False, False, False,\n",
      "                   False, False, False, False, False, False, False, False,\n",
      "                   False, False, False, False, False, False, False, False,\n",
      "                   False, False, False, False, False, False, False, False,\n",
      "                   False, False, False, False, False, False, False, False,\n",
      "                   False, False, False, False, False, False, False, False,\n",
      "                   False, False, False, False, False, False, False, False,\n",
      "                   False, False, False, False, False, False, False, False,\n",
      "                   False, False, False, False, False, False, False, False,\n",
      "                   False, False, False, False, False, False, False, False,\n",
      "                   False, False, False, False, False, False, False, False,\n",
      "                   False, False, False, False, False, False, False, False,\n",
      "                   False, False, False, False, False, False, False, False,\n",
      "                   False, False, False, False, False, False, False, False,\n",
      "                   False, False, False, False, False, False, False, False,\n",
      "                   False, False, False, False, False, False, False, False,\n",
      "                   False, False, False, False, False, False, False, False,\n",
      "                   False, False, False, False, False, False, False, False,\n",
      "                   False, False, False, False, False, False, False, False,\n",
      "                   False, False, False, False, False, False, False, False,\n",
      "                   False, False, False, False, False, False, False, False,\n",
      "                   False, False, False, False, False, False, False, False,\n",
      "                   False, False, False, False, False, False, False, False,\n",
      "                   False, False, False, False, False, False, False, False,\n",
      "                   False, False, False, False, False, False, False, False,\n",
      "                   False, False, False, False, False, False, False, False,\n",
      "                   False, False, False, False, False, False, False, False,\n",
      "                   False, False, False, False, False, False, False, False,\n",
      "                   False, False, False, False, False, False, False, False,\n",
      "                   False, False, False, False, False, False, False, False,\n",
      "                   False, False, False, False, False, False, False, False,\n",
      "                   False, False, False, False, False, False, False, False,\n",
      "                   False, False, False, False, False, False, False, False,\n",
      "                   False, False, False, False, False, False, False, False,\n",
      "                   False, False, False, False, False, False, False, False,\n",
      "                   False, False, False, False, False, False, False, False,\n",
      "                   False, False, False, False, False, False, False, False,\n",
      "                   False],\n",
      "       fill_value='?',\n",
      "            dtype=object), 'params': [{'max_leaf_nodes': 1, 'min_samples_split': 2}, {'max_leaf_nodes': 1, 'min_samples_split': 3}, {'max_leaf_nodes': 1, 'min_samples_split': 4}, {'max_leaf_nodes': 2, 'min_samples_split': 2}, {'max_leaf_nodes': 2, 'min_samples_split': 3}, {'max_leaf_nodes': 2, 'min_samples_split': 4}, {'max_leaf_nodes': 3, 'min_samples_split': 2}, {'max_leaf_nodes': 3, 'min_samples_split': 3}, {'max_leaf_nodes': 3, 'min_samples_split': 4}, {'max_leaf_nodes': 4, 'min_samples_split': 2}, {'max_leaf_nodes': 4, 'min_samples_split': 3}, {'max_leaf_nodes': 4, 'min_samples_split': 4}, {'max_leaf_nodes': 5, 'min_samples_split': 2}, {'max_leaf_nodes': 5, 'min_samples_split': 3}, {'max_leaf_nodes': 5, 'min_samples_split': 4}, {'max_leaf_nodes': 6, 'min_samples_split': 2}, {'max_leaf_nodes': 6, 'min_samples_split': 3}, {'max_leaf_nodes': 6, 'min_samples_split': 4}, {'max_leaf_nodes': 7, 'min_samples_split': 2}, {'max_leaf_nodes': 7, 'min_samples_split': 3}, {'max_leaf_nodes': 7, 'min_samples_split': 4}, {'max_leaf_nodes': 8, 'min_samples_split': 2}, {'max_leaf_nodes': 8, 'min_samples_split': 3}, {'max_leaf_nodes': 8, 'min_samples_split': 4}, {'max_leaf_nodes': 9, 'min_samples_split': 2}, {'max_leaf_nodes': 9, 'min_samples_split': 3}, {'max_leaf_nodes': 9, 'min_samples_split': 4}, {'max_leaf_nodes': 10, 'min_samples_split': 2}, {'max_leaf_nodes': 10, 'min_samples_split': 3}, {'max_leaf_nodes': 10, 'min_samples_split': 4}, {'max_leaf_nodes': 11, 'min_samples_split': 2}, {'max_leaf_nodes': 11, 'min_samples_split': 3}, {'max_leaf_nodes': 11, 'min_samples_split': 4}, {'max_leaf_nodes': 12, 'min_samples_split': 2}, {'max_leaf_nodes': 12, 'min_samples_split': 3}, {'max_leaf_nodes': 12, 'min_samples_split': 4}, {'max_leaf_nodes': 13, 'min_samples_split': 2}, {'max_leaf_nodes': 13, 'min_samples_split': 3}, {'max_leaf_nodes': 13, 'min_samples_split': 4}, {'max_leaf_nodes': 14, 'min_samples_split': 2}, {'max_leaf_nodes': 14, 'min_samples_split': 3}, {'max_leaf_nodes': 14, 'min_samples_split': 4}, {'max_leaf_nodes': 15, 'min_samples_split': 2}, {'max_leaf_nodes': 15, 'min_samples_split': 3}, {'max_leaf_nodes': 15, 'min_samples_split': 4}, {'max_leaf_nodes': 16, 'min_samples_split': 2}, {'max_leaf_nodes': 16, 'min_samples_split': 3}, {'max_leaf_nodes': 16, 'min_samples_split': 4}, {'max_leaf_nodes': 17, 'min_samples_split': 2}, {'max_leaf_nodes': 17, 'min_samples_split': 3}, {'max_leaf_nodes': 17, 'min_samples_split': 4}, {'max_leaf_nodes': 18, 'min_samples_split': 2}, {'max_leaf_nodes': 18, 'min_samples_split': 3}, {'max_leaf_nodes': 18, 'min_samples_split': 4}, {'max_leaf_nodes': 19, 'min_samples_split': 2}, {'max_leaf_nodes': 19, 'min_samples_split': 3}, {'max_leaf_nodes': 19, 'min_samples_split': 4}, {'max_leaf_nodes': 20, 'min_samples_split': 2}, {'max_leaf_nodes': 20, 'min_samples_split': 3}, {'max_leaf_nodes': 20, 'min_samples_split': 4}, {'max_leaf_nodes': 21, 'min_samples_split': 2}, {'max_leaf_nodes': 21, 'min_samples_split': 3}, {'max_leaf_nodes': 21, 'min_samples_split': 4}, {'max_leaf_nodes': 22, 'min_samples_split': 2}, {'max_leaf_nodes': 22, 'min_samples_split': 3}, {'max_leaf_nodes': 22, 'min_samples_split': 4}, {'max_leaf_nodes': 23, 'min_samples_split': 2}, {'max_leaf_nodes': 23, 'min_samples_split': 3}, {'max_leaf_nodes': 23, 'min_samples_split': 4}, {'max_leaf_nodes': 24, 'min_samples_split': 2}, {'max_leaf_nodes': 24, 'min_samples_split': 3}, {'max_leaf_nodes': 24, 'min_samples_split': 4}, {'max_leaf_nodes': 25, 'min_samples_split': 2}, {'max_leaf_nodes': 25, 'min_samples_split': 3}, {'max_leaf_nodes': 25, 'min_samples_split': 4}, {'max_leaf_nodes': 26, 'min_samples_split': 2}, {'max_leaf_nodes': 26, 'min_samples_split': 3}, {'max_leaf_nodes': 26, 'min_samples_split': 4}, {'max_leaf_nodes': 27, 'min_samples_split': 2}, {'max_leaf_nodes': 27, 'min_samples_split': 3}, {'max_leaf_nodes': 27, 'min_samples_split': 4}, {'max_leaf_nodes': 28, 'min_samples_split': 2}, {'max_leaf_nodes': 28, 'min_samples_split': 3}, {'max_leaf_nodes': 28, 'min_samples_split': 4}, {'max_leaf_nodes': 29, 'min_samples_split': 2}, {'max_leaf_nodes': 29, 'min_samples_split': 3}, {'max_leaf_nodes': 29, 'min_samples_split': 4}, {'max_leaf_nodes': 30, 'min_samples_split': 2}, {'max_leaf_nodes': 30, 'min_samples_split': 3}, {'max_leaf_nodes': 30, 'min_samples_split': 4}, {'max_leaf_nodes': 31, 'min_samples_split': 2}, {'max_leaf_nodes': 31, 'min_samples_split': 3}, {'max_leaf_nodes': 31, 'min_samples_split': 4}, {'max_leaf_nodes': 32, 'min_samples_split': 2}, {'max_leaf_nodes': 32, 'min_samples_split': 3}, {'max_leaf_nodes': 32, 'min_samples_split': 4}, {'max_leaf_nodes': 33, 'min_samples_split': 2}, {'max_leaf_nodes': 33, 'min_samples_split': 3}, {'max_leaf_nodes': 33, 'min_samples_split': 4}, {'max_leaf_nodes': 34, 'min_samples_split': 2}, {'max_leaf_nodes': 34, 'min_samples_split': 3}, {'max_leaf_nodes': 34, 'min_samples_split': 4}, {'max_leaf_nodes': 35, 'min_samples_split': 2}, {'max_leaf_nodes': 35, 'min_samples_split': 3}, {'max_leaf_nodes': 35, 'min_samples_split': 4}, {'max_leaf_nodes': 36, 'min_samples_split': 2}, {'max_leaf_nodes': 36, 'min_samples_split': 3}, {'max_leaf_nodes': 36, 'min_samples_split': 4}, {'max_leaf_nodes': 37, 'min_samples_split': 2}, {'max_leaf_nodes': 37, 'min_samples_split': 3}, {'max_leaf_nodes': 37, 'min_samples_split': 4}, {'max_leaf_nodes': 38, 'min_samples_split': 2}, {'max_leaf_nodes': 38, 'min_samples_split': 3}, {'max_leaf_nodes': 38, 'min_samples_split': 4}, {'max_leaf_nodes': 39, 'min_samples_split': 2}, {'max_leaf_nodes': 39, 'min_samples_split': 3}, {'max_leaf_nodes': 39, 'min_samples_split': 4}, {'max_leaf_nodes': 40, 'min_samples_split': 2}, {'max_leaf_nodes': 40, 'min_samples_split': 3}, {'max_leaf_nodes': 40, 'min_samples_split': 4}, {'max_leaf_nodes': 41, 'min_samples_split': 2}, {'max_leaf_nodes': 41, 'min_samples_split': 3}, {'max_leaf_nodes': 41, 'min_samples_split': 4}, {'max_leaf_nodes': 42, 'min_samples_split': 2}, {'max_leaf_nodes': 42, 'min_samples_split': 3}, {'max_leaf_nodes': 42, 'min_samples_split': 4}, {'max_leaf_nodes': 43, 'min_samples_split': 2}, {'max_leaf_nodes': 43, 'min_samples_split': 3}, {'max_leaf_nodes': 43, 'min_samples_split': 4}, {'max_leaf_nodes': 44, 'min_samples_split': 2}, {'max_leaf_nodes': 44, 'min_samples_split': 3}, {'max_leaf_nodes': 44, 'min_samples_split': 4}, {'max_leaf_nodes': 45, 'min_samples_split': 2}, {'max_leaf_nodes': 45, 'min_samples_split': 3}, {'max_leaf_nodes': 45, 'min_samples_split': 4}, {'max_leaf_nodes': 46, 'min_samples_split': 2}, {'max_leaf_nodes': 46, 'min_samples_split': 3}, {'max_leaf_nodes': 46, 'min_samples_split': 4}, {'max_leaf_nodes': 47, 'min_samples_split': 2}, {'max_leaf_nodes': 47, 'min_samples_split': 3}, {'max_leaf_nodes': 47, 'min_samples_split': 4}, {'max_leaf_nodes': 48, 'min_samples_split': 2}, {'max_leaf_nodes': 48, 'min_samples_split': 3}, {'max_leaf_nodes': 48, 'min_samples_split': 4}, {'max_leaf_nodes': 49, 'min_samples_split': 2}, {'max_leaf_nodes': 49, 'min_samples_split': 3}, {'max_leaf_nodes': 49, 'min_samples_split': 4}, {'max_leaf_nodes': 50, 'min_samples_split': 2}, {'max_leaf_nodes': 50, 'min_samples_split': 3}, {'max_leaf_nodes': 50, 'min_samples_split': 4}, {'max_leaf_nodes': 51, 'min_samples_split': 2}, {'max_leaf_nodes': 51, 'min_samples_split': 3}, {'max_leaf_nodes': 51, 'min_samples_split': 4}, {'max_leaf_nodes': 52, 'min_samples_split': 2}, {'max_leaf_nodes': 52, 'min_samples_split': 3}, {'max_leaf_nodes': 52, 'min_samples_split': 4}, {'max_leaf_nodes': 53, 'min_samples_split': 2}, {'max_leaf_nodes': 53, 'min_samples_split': 3}, {'max_leaf_nodes': 53, 'min_samples_split': 4}, {'max_leaf_nodes': 54, 'min_samples_split': 2}, {'max_leaf_nodes': 54, 'min_samples_split': 3}, {'max_leaf_nodes': 54, 'min_samples_split': 4}, {'max_leaf_nodes': 55, 'min_samples_split': 2}, {'max_leaf_nodes': 55, 'min_samples_split': 3}, {'max_leaf_nodes': 55, 'min_samples_split': 4}, {'max_leaf_nodes': 56, 'min_samples_split': 2}, {'max_leaf_nodes': 56, 'min_samples_split': 3}, {'max_leaf_nodes': 56, 'min_samples_split': 4}, {'max_leaf_nodes': 57, 'min_samples_split': 2}, {'max_leaf_nodes': 57, 'min_samples_split': 3}, {'max_leaf_nodes': 57, 'min_samples_split': 4}, {'max_leaf_nodes': 58, 'min_samples_split': 2}, {'max_leaf_nodes': 58, 'min_samples_split': 3}, {'max_leaf_nodes': 58, 'min_samples_split': 4}, {'max_leaf_nodes': 59, 'min_samples_split': 2}, {'max_leaf_nodes': 59, 'min_samples_split': 3}, {'max_leaf_nodes': 59, 'min_samples_split': 4}, {'max_leaf_nodes': 60, 'min_samples_split': 2}, {'max_leaf_nodes': 60, 'min_samples_split': 3}, {'max_leaf_nodes': 60, 'min_samples_split': 4}, {'max_leaf_nodes': 61, 'min_samples_split': 2}, {'max_leaf_nodes': 61, 'min_samples_split': 3}, {'max_leaf_nodes': 61, 'min_samples_split': 4}, {'max_leaf_nodes': 62, 'min_samples_split': 2}, {'max_leaf_nodes': 62, 'min_samples_split': 3}, {'max_leaf_nodes': 62, 'min_samples_split': 4}, {'max_leaf_nodes': 63, 'min_samples_split': 2}, {'max_leaf_nodes': 63, 'min_samples_split': 3}, {'max_leaf_nodes': 63, 'min_samples_split': 4}, {'max_leaf_nodes': 64, 'min_samples_split': 2}, {'max_leaf_nodes': 64, 'min_samples_split': 3}, {'max_leaf_nodes': 64, 'min_samples_split': 4}, {'max_leaf_nodes': 65, 'min_samples_split': 2}, {'max_leaf_nodes': 65, 'min_samples_split': 3}, {'max_leaf_nodes': 65, 'min_samples_split': 4}, {'max_leaf_nodes': 66, 'min_samples_split': 2}, {'max_leaf_nodes': 66, 'min_samples_split': 3}, {'max_leaf_nodes': 66, 'min_samples_split': 4}, {'max_leaf_nodes': 67, 'min_samples_split': 2}, {'max_leaf_nodes': 67, 'min_samples_split': 3}, {'max_leaf_nodes': 67, 'min_samples_split': 4}, {'max_leaf_nodes': 68, 'min_samples_split': 2}, {'max_leaf_nodes': 68, 'min_samples_split': 3}, {'max_leaf_nodes': 68, 'min_samples_split': 4}, {'max_leaf_nodes': 69, 'min_samples_split': 2}, {'max_leaf_nodes': 69, 'min_samples_split': 3}, {'max_leaf_nodes': 69, 'min_samples_split': 4}, {'max_leaf_nodes': 70, 'min_samples_split': 2}, {'max_leaf_nodes': 70, 'min_samples_split': 3}, {'max_leaf_nodes': 70, 'min_samples_split': 4}, {'max_leaf_nodes': 71, 'min_samples_split': 2}, {'max_leaf_nodes': 71, 'min_samples_split': 3}, {'max_leaf_nodes': 71, 'min_samples_split': 4}, {'max_leaf_nodes': 72, 'min_samples_split': 2}, {'max_leaf_nodes': 72, 'min_samples_split': 3}, {'max_leaf_nodes': 72, 'min_samples_split': 4}, {'max_leaf_nodes': 73, 'min_samples_split': 2}, {'max_leaf_nodes': 73, 'min_samples_split': 3}, {'max_leaf_nodes': 73, 'min_samples_split': 4}, {'max_leaf_nodes': 74, 'min_samples_split': 2}, {'max_leaf_nodes': 74, 'min_samples_split': 3}, {'max_leaf_nodes': 74, 'min_samples_split': 4}, {'max_leaf_nodes': 75, 'min_samples_split': 2}, {'max_leaf_nodes': 75, 'min_samples_split': 3}, {'max_leaf_nodes': 75, 'min_samples_split': 4}, {'max_leaf_nodes': 76, 'min_samples_split': 2}, {'max_leaf_nodes': 76, 'min_samples_split': 3}, {'max_leaf_nodes': 76, 'min_samples_split': 4}, {'max_leaf_nodes': 77, 'min_samples_split': 2}, {'max_leaf_nodes': 77, 'min_samples_split': 3}, {'max_leaf_nodes': 77, 'min_samples_split': 4}, {'max_leaf_nodes': 78, 'min_samples_split': 2}, {'max_leaf_nodes': 78, 'min_samples_split': 3}, {'max_leaf_nodes': 78, 'min_samples_split': 4}, {'max_leaf_nodes': 79, 'min_samples_split': 2}, {'max_leaf_nodes': 79, 'min_samples_split': 3}, {'max_leaf_nodes': 79, 'min_samples_split': 4}, {'max_leaf_nodes': 80, 'min_samples_split': 2}, {'max_leaf_nodes': 80, 'min_samples_split': 3}, {'max_leaf_nodes': 80, 'min_samples_split': 4}, {'max_leaf_nodes': 81, 'min_samples_split': 2}, {'max_leaf_nodes': 81, 'min_samples_split': 3}, {'max_leaf_nodes': 81, 'min_samples_split': 4}, {'max_leaf_nodes': 82, 'min_samples_split': 2}, {'max_leaf_nodes': 82, 'min_samples_split': 3}, {'max_leaf_nodes': 82, 'min_samples_split': 4}, {'max_leaf_nodes': 83, 'min_samples_split': 2}, {'max_leaf_nodes': 83, 'min_samples_split': 3}, {'max_leaf_nodes': 83, 'min_samples_split': 4}, {'max_leaf_nodes': 84, 'min_samples_split': 2}, {'max_leaf_nodes': 84, 'min_samples_split': 3}, {'max_leaf_nodes': 84, 'min_samples_split': 4}, {'max_leaf_nodes': 85, 'min_samples_split': 2}, {'max_leaf_nodes': 85, 'min_samples_split': 3}, {'max_leaf_nodes': 85, 'min_samples_split': 4}, {'max_leaf_nodes': 86, 'min_samples_split': 2}, {'max_leaf_nodes': 86, 'min_samples_split': 3}, {'max_leaf_nodes': 86, 'min_samples_split': 4}, {'max_leaf_nodes': 87, 'min_samples_split': 2}, {'max_leaf_nodes': 87, 'min_samples_split': 3}, {'max_leaf_nodes': 87, 'min_samples_split': 4}, {'max_leaf_nodes': 88, 'min_samples_split': 2}, {'max_leaf_nodes': 88, 'min_samples_split': 3}, {'max_leaf_nodes': 88, 'min_samples_split': 4}, {'max_leaf_nodes': 89, 'min_samples_split': 2}, {'max_leaf_nodes': 89, 'min_samples_split': 3}, {'max_leaf_nodes': 89, 'min_samples_split': 4}, {'max_leaf_nodes': 90, 'min_samples_split': 2}, {'max_leaf_nodes': 90, 'min_samples_split': 3}, {'max_leaf_nodes': 90, 'min_samples_split': 4}, {'max_leaf_nodes': 91, 'min_samples_split': 2}, {'max_leaf_nodes': 91, 'min_samples_split': 3}, {'max_leaf_nodes': 91, 'min_samples_split': 4}, {'max_leaf_nodes': 92, 'min_samples_split': 2}, {'max_leaf_nodes': 92, 'min_samples_split': 3}, {'max_leaf_nodes': 92, 'min_samples_split': 4}, {'max_leaf_nodes': 93, 'min_samples_split': 2}, {'max_leaf_nodes': 93, 'min_samples_split': 3}, {'max_leaf_nodes': 93, 'min_samples_split': 4}, {'max_leaf_nodes': 94, 'min_samples_split': 2}, {'max_leaf_nodes': 94, 'min_samples_split': 3}, {'max_leaf_nodes': 94, 'min_samples_split': 4}, {'max_leaf_nodes': 95, 'min_samples_split': 2}, {'max_leaf_nodes': 95, 'min_samples_split': 3}, {'max_leaf_nodes': 95, 'min_samples_split': 4}, {'max_leaf_nodes': 96, 'min_samples_split': 2}, {'max_leaf_nodes': 96, 'min_samples_split': 3}, {'max_leaf_nodes': 96, 'min_samples_split': 4}, {'max_leaf_nodes': 97, 'min_samples_split': 2}, {'max_leaf_nodes': 97, 'min_samples_split': 3}, {'max_leaf_nodes': 97, 'min_samples_split': 4}, {'max_leaf_nodes': 98, 'min_samples_split': 2}, {'max_leaf_nodes': 98, 'min_samples_split': 3}, {'max_leaf_nodes': 98, 'min_samples_split': 4}, {'max_leaf_nodes': 99, 'min_samples_split': 2}, {'max_leaf_nodes': 99, 'min_samples_split': 3}, {'max_leaf_nodes': 99, 'min_samples_split': 4}], 'split0_test_score': array([       nan,        nan,        nan, 0.76666667, 0.76666667,\n",
      "       0.76666667, 0.74444444, 0.74444444, 0.74444444, 0.82222222,\n",
      "       0.82222222, 0.82222222, 0.82222222, 0.82222222, 0.82222222,\n",
      "       0.82222222, 0.82222222, 0.82222222, 0.83333333, 0.83333333,\n",
      "       0.83333333, 0.83333333, 0.83333333, 0.83333333, 0.83333333,\n",
      "       0.83333333, 0.83333333, 0.81111111, 0.81111111, 0.81111111,\n",
      "       0.83333333, 0.83333333, 0.83333333, 0.83333333, 0.83333333,\n",
      "       0.83333333, 0.84444444, 0.84444444, 0.84444444, 0.84444444,\n",
      "       0.84444444, 0.84444444, 0.83333333, 0.83333333, 0.83333333,\n",
      "       0.83333333, 0.83333333, 0.83333333, 0.83333333, 0.83333333,\n",
      "       0.83333333, 0.83333333, 0.83333333, 0.83333333, 0.83333333,\n",
      "       0.83333333, 0.83333333, 0.78888889, 0.78888889, 0.78888889,\n",
      "       0.78888889, 0.78888889, 0.78888889, 0.81111111, 0.81111111,\n",
      "       0.81111111, 0.81111111, 0.81111111, 0.81111111, 0.81111111,\n",
      "       0.81111111, 0.81111111, 0.81111111, 0.81111111, 0.81111111,\n",
      "       0.81111111, 0.81111111, 0.81111111, 0.81111111, 0.81111111,\n",
      "       0.81111111, 0.81111111, 0.82222222, 0.83333333, 0.81111111,\n",
      "       0.81111111, 0.83333333, 0.82222222, 0.81111111, 0.81111111,\n",
      "       0.81111111, 0.81111111, 0.82222222, 0.82222222, 0.8       ,\n",
      "       0.82222222, 0.77777778, 0.77777778, 0.78888889, 0.76666667,\n",
      "       0.77777778, 0.76666667, 0.76666667, 0.77777778, 0.75555556,\n",
      "       0.77777778, 0.77777778, 0.77777778, 0.75555556, 0.77777778,\n",
      "       0.77777778, 0.76666667, 0.77777778, 0.76666667, 0.74444444,\n",
      "       0.77777778, 0.76666667, 0.76666667, 0.76666667, 0.77777778,\n",
      "       0.75555556, 0.77777778, 0.76666667, 0.75555556, 0.76666667,\n",
      "       0.77777778, 0.75555556, 0.77777778, 0.76666667, 0.75555556,\n",
      "       0.76666667, 0.75555556, 0.74444444, 0.77777778, 0.76666667,\n",
      "       0.74444444, 0.77777778, 0.75555556, 0.75555556, 0.76666667,\n",
      "       0.75555556, 0.76666667, 0.75555556, 0.75555556, 0.76666667,\n",
      "       0.77777778, 0.75555556, 0.74444444, 0.76666667, 0.77777778,\n",
      "       0.76666667, 0.75555556, 0.75555556, 0.74444444, 0.76666667,\n",
      "       0.75555556, 0.74444444, 0.76666667, 0.77777778, 0.73333333,\n",
      "       0.74444444, 0.74444444, 0.75555556, 0.75555556, 0.74444444,\n",
      "       0.75555556, 0.76666667, 0.74444444, 0.74444444, 0.74444444,\n",
      "       0.74444444, 0.72222222, 0.73333333, 0.73333333, 0.73333333,\n",
      "       0.75555556, 0.74444444, 0.73333333, 0.73333333, 0.73333333,\n",
      "       0.73333333, 0.75555556, 0.74444444, 0.73333333, 0.74444444,\n",
      "       0.74444444, 0.76666667, 0.76666667, 0.76666667, 0.74444444,\n",
      "       0.76666667, 0.77777778, 0.73333333, 0.75555556, 0.75555556,\n",
      "       0.75555556, 0.74444444, 0.76666667, 0.74444444, 0.74444444,\n",
      "       0.75555556, 0.74444444, 0.74444444, 0.76666667, 0.73333333,\n",
      "       0.77777778, 0.75555556, 0.75555556, 0.74444444, 0.74444444,\n",
      "       0.74444444, 0.76666667, 0.75555556, 0.75555556, 0.75555556,\n",
      "       0.75555556, 0.73333333, 0.76666667, 0.76666667, 0.75555556,\n",
      "       0.75555556, 0.74444444, 0.73333333, 0.73333333, 0.74444444,\n",
      "       0.73333333, 0.76666667, 0.74444444, 0.72222222, 0.73333333,\n",
      "       0.73333333, 0.73333333, 0.75555556, 0.75555556, 0.72222222,\n",
      "       0.74444444, 0.73333333, 0.72222222, 0.75555556, 0.74444444,\n",
      "       0.74444444, 0.73333333, 0.76666667, 0.72222222, 0.73333333,\n",
      "       0.74444444, 0.74444444, 0.74444444, 0.75555556, 0.74444444,\n",
      "       0.74444444, 0.75555556, 0.75555556, 0.75555556, 0.75555556,\n",
      "       0.73333333, 0.74444444, 0.75555556, 0.72222222, 0.74444444,\n",
      "       0.74444444, 0.73333333, 0.74444444, 0.75555556, 0.71111111,\n",
      "       0.75555556, 0.73333333, 0.71111111, 0.75555556, 0.75555556,\n",
      "       0.73333333, 0.74444444, 0.74444444, 0.73333333, 0.75555556,\n",
      "       0.74444444, 0.71111111, 0.72222222, 0.73333333, 0.71111111,\n",
      "       0.73333333, 0.74444444, 0.73333333, 0.74444444, 0.72222222,\n",
      "       0.72222222, 0.72222222, 0.74444444, 0.71111111, 0.74444444,\n",
      "       0.74444444, 0.73333333, 0.74444444, 0.72222222, 0.72222222,\n",
      "       0.74444444, 0.74444444]), 'split1_test_score': array([       nan,        nan,        nan, 0.79775281, 0.79775281,\n",
      "       0.79775281, 0.75280899, 0.75280899, 0.75280899, 0.85393258,\n",
      "       0.85393258, 0.85393258, 0.85393258, 0.85393258, 0.85393258,\n",
      "       0.85393258, 0.85393258, 0.85393258, 0.87640449, 0.87640449,\n",
      "       0.87640449, 0.87640449, 0.87640449, 0.87640449, 0.87640449,\n",
      "       0.87640449, 0.87640449, 0.86516854, 0.86516854, 0.86516854,\n",
      "       0.87640449, 0.87640449, 0.87640449, 0.87640449, 0.87640449,\n",
      "       0.87640449, 0.85393258, 0.85393258, 0.85393258, 0.85393258,\n",
      "       0.85393258, 0.85393258, 0.85393258, 0.85393258, 0.85393258,\n",
      "       0.85393258, 0.85393258, 0.85393258, 0.85393258, 0.85393258,\n",
      "       0.85393258, 0.86516854, 0.86516854, 0.86516854, 0.86516854,\n",
      "       0.86516854, 0.86516854, 0.86516854, 0.86516854, 0.86516854,\n",
      "       0.86516854, 0.86516854, 0.86516854, 0.86516854, 0.86516854,\n",
      "       0.86516854, 0.86516854, 0.86516854, 0.86516854, 0.85393258,\n",
      "       0.85393258, 0.85393258, 0.85393258, 0.85393258, 0.85393258,\n",
      "       0.85393258, 0.85393258, 0.84269663, 0.84269663, 0.84269663,\n",
      "       0.84269663, 0.84269663, 0.84269663, 0.84269663, 0.84269663,\n",
      "       0.84269663, 0.84269663, 0.84269663, 0.84269663, 0.84269663,\n",
      "       0.84269663, 0.84269663, 0.84269663, 0.83146067, 0.83146067,\n",
      "       0.83146067, 0.83146067, 0.83146067, 0.83146067, 0.83146067,\n",
      "       0.83146067, 0.83146067, 0.83146067, 0.83146067, 0.83146067,\n",
      "       0.83146067, 0.83146067, 0.83146067, 0.83146067, 0.83146067,\n",
      "       0.83146067, 0.80898876, 0.80898876, 0.80898876, 0.80898876,\n",
      "       0.80898876, 0.80898876, 0.80898876, 0.80898876, 0.80898876,\n",
      "       0.80898876, 0.80898876, 0.80898876, 0.82022472, 0.82022472,\n",
      "       0.82022472, 0.82022472, 0.82022472, 0.82022472, 0.82022472,\n",
      "       0.82022472, 0.82022472, 0.82022472, 0.82022472, 0.82022472,\n",
      "       0.82022472, 0.82022472, 0.82022472, 0.82022472, 0.82022472,\n",
      "       0.82022472, 0.80898876, 0.80898876, 0.80898876, 0.80898876,\n",
      "       0.80898876, 0.80898876, 0.80898876, 0.80898876, 0.80898876,\n",
      "       0.79775281, 0.79775281, 0.79775281, 0.80898876, 0.80898876,\n",
      "       0.79775281, 0.80898876, 0.80898876, 0.79775281, 0.80898876,\n",
      "       0.80898876, 0.80898876, 0.82022472, 0.82022472, 0.80898876,\n",
      "       0.82022472, 0.82022472, 0.80898876, 0.82022472, 0.82022472,\n",
      "       0.80898876, 0.82022472, 0.82022472, 0.80898876, 0.82022472,\n",
      "       0.82022472, 0.80898876, 0.82022472, 0.82022472, 0.80898876,\n",
      "       0.82022472, 0.82022472, 0.80898876, 0.82022472, 0.82022472,\n",
      "       0.80898876, 0.82022472, 0.82022472, 0.80898876, 0.82022472,\n",
      "       0.82022472, 0.80898876, 0.82022472, 0.82022472, 0.80898876,\n",
      "       0.82022472, 0.82022472, 0.80898876, 0.82022472, 0.82022472,\n",
      "       0.80898876, 0.82022472, 0.82022472, 0.80898876, 0.82022472,\n",
      "       0.82022472, 0.80898876, 0.82022472, 0.82022472, 0.80898876,\n",
      "       0.82022472, 0.82022472, 0.80898876, 0.82022472, 0.82022472,\n",
      "       0.80898876, 0.82022472, 0.82022472, 0.80898876, 0.82022472,\n",
      "       0.82022472, 0.80898876, 0.82022472, 0.82022472, 0.80898876,\n",
      "       0.82022472, 0.82022472, 0.82022472, 0.82022472, 0.82022472,\n",
      "       0.80898876, 0.80898876, 0.82022472, 0.80898876, 0.80898876,\n",
      "       0.82022472, 0.80898876, 0.82022472, 0.83146067, 0.80898876,\n",
      "       0.80898876, 0.82022472, 0.80898876, 0.80898876, 0.82022472,\n",
      "       0.80898876, 0.83146067, 0.82022472, 0.80898876, 0.80898876,\n",
      "       0.82022472, 0.80898876, 0.82022472, 0.82022472, 0.80898876,\n",
      "       0.80898876, 0.82022472, 0.80898876, 0.82022472, 0.82022472,\n",
      "       0.80898876, 0.82022472, 0.82022472, 0.78651685, 0.80898876,\n",
      "       0.82022472, 0.79775281, 0.82022472, 0.82022472, 0.79775281,\n",
      "       0.80898876, 0.82022472, 0.79775281, 0.80898876, 0.80898876,\n",
      "       0.79775281, 0.80898876, 0.80898876, 0.79775281, 0.80898876,\n",
      "       0.80898876, 0.79775281, 0.79775281, 0.80898876, 0.79775281,\n",
      "       0.79775281, 0.80898876, 0.79775281, 0.79775281, 0.80898876,\n",
      "       0.79775281, 0.80898876, 0.80898876, 0.79775281, 0.80898876,\n",
      "       0.80898876, 0.78651685]), 'split2_test_score': array([       nan,        nan,        nan, 0.71910112, 0.71910112,\n",
      "       0.71910112, 0.73033708, 0.73033708, 0.73033708, 0.75280899,\n",
      "       0.75280899, 0.75280899, 0.75280899, 0.75280899, 0.75280899,\n",
      "       0.75280899, 0.75280899, 0.75280899, 0.76404494, 0.76404494,\n",
      "       0.76404494, 0.76404494, 0.76404494, 0.76404494, 0.76404494,\n",
      "       0.76404494, 0.76404494, 0.76404494, 0.76404494, 0.76404494,\n",
      "       0.76404494, 0.76404494, 0.76404494, 0.76404494, 0.76404494,\n",
      "       0.76404494, 0.76404494, 0.76404494, 0.76404494, 0.76404494,\n",
      "       0.76404494, 0.76404494, 0.76404494, 0.76404494, 0.76404494,\n",
      "       0.76404494, 0.76404494, 0.76404494, 0.76404494, 0.76404494,\n",
      "       0.76404494, 0.76404494, 0.76404494, 0.78651685, 0.78651685,\n",
      "       0.78651685, 0.78651685, 0.78651685, 0.78651685, 0.78651685,\n",
      "       0.78651685, 0.78651685, 0.7752809 , 0.7752809 , 0.78651685,\n",
      "       0.7752809 , 0.7752809 , 0.7752809 , 0.7752809 , 0.7752809 ,\n",
      "       0.7752809 , 0.7752809 , 0.7752809 , 0.7752809 , 0.7752809 ,\n",
      "       0.7752809 , 0.7752809 , 0.7752809 , 0.7752809 , 0.7752809 ,\n",
      "       0.75280899, 0.75280899, 0.7752809 , 0.75280899, 0.75280899,\n",
      "       0.75280899, 0.75280899, 0.75280899, 0.75280899, 0.75280899,\n",
      "       0.75280899, 0.75280899, 0.74157303, 0.74157303, 0.75280899,\n",
      "       0.74157303, 0.75280899, 0.74157303, 0.74157303, 0.74157303,\n",
      "       0.74157303, 0.74157303, 0.74157303, 0.74157303, 0.74157303,\n",
      "       0.74157303, 0.74157303, 0.74157303, 0.74157303, 0.74157303,\n",
      "       0.74157303, 0.74157303, 0.74157303, 0.74157303, 0.74157303,\n",
      "       0.74157303, 0.74157303, 0.74157303, 0.74157303, 0.74157303,\n",
      "       0.74157303, 0.74157303, 0.74157303, 0.74157303, 0.74157303,\n",
      "       0.74157303, 0.74157303, 0.74157303, 0.74157303, 0.74157303,\n",
      "       0.74157303, 0.74157303, 0.74157303, 0.74157303, 0.73033708,\n",
      "       0.74157303, 0.74157303, 0.73033708, 0.74157303, 0.74157303,\n",
      "       0.73033708, 0.74157303, 0.74157303, 0.73033708, 0.74157303,\n",
      "       0.73033708, 0.73033708, 0.74157303, 0.73033708, 0.73033708,\n",
      "       0.74157303, 0.73033708, 0.73033708, 0.73033708, 0.73033708,\n",
      "       0.73033708, 0.73033708, 0.73033708, 0.73033708, 0.73033708,\n",
      "       0.73033708, 0.73033708, 0.73033708, 0.73033708, 0.74157303,\n",
      "       0.73033708, 0.73033708, 0.73033708, 0.73033708, 0.74157303,\n",
      "       0.73033708, 0.73033708, 0.73033708, 0.70786517, 0.73033708,\n",
      "       0.74157303, 0.70786517, 0.73033708, 0.74157303, 0.70786517,\n",
      "       0.73033708, 0.74157303, 0.73033708, 0.73033708, 0.71910112,\n",
      "       0.70786517, 0.73033708, 0.70786517, 0.70786517, 0.71910112,\n",
      "       0.73033708, 0.70786517, 0.71910112, 0.70786517, 0.71910112,\n",
      "       0.70786517, 0.73033708, 0.71910112, 0.70786517, 0.71910112,\n",
      "       0.70786517, 0.70786517, 0.71910112, 0.70786517, 0.70786517,\n",
      "       0.70786517, 0.70786517, 0.70786517, 0.70786517, 0.70786517,\n",
      "       0.71910112, 0.70786517, 0.71910112, 0.71910112, 0.71910112,\n",
      "       0.71910112, 0.71910112, 0.70786517, 0.70786517, 0.71910112,\n",
      "       0.70786517, 0.71910112, 0.71910112, 0.71910112, 0.71910112,\n",
      "       0.71910112, 0.70786517, 0.71910112, 0.71910112, 0.70786517,\n",
      "       0.70786517, 0.70786517, 0.70786517, 0.70786517, 0.71910112,\n",
      "       0.71910112, 0.71910112, 0.71910112, 0.71910112, 0.71910112,\n",
      "       0.70786517, 0.71910112, 0.70786517, 0.71910112, 0.70786517,\n",
      "       0.71910112, 0.71910112, 0.71910112, 0.71910112, 0.71910112,\n",
      "       0.71910112, 0.71910112, 0.70786517, 0.70786517, 0.71910112,\n",
      "       0.71910112, 0.70786517, 0.71910112, 0.70786517, 0.70786517,\n",
      "       0.71910112, 0.71910112, 0.71910112, 0.70786517, 0.70786517,\n",
      "       0.71910112, 0.71910112, 0.70786517, 0.71910112, 0.70786517,\n",
      "       0.70786517, 0.71910112, 0.71910112, 0.71910112, 0.70786517,\n",
      "       0.71910112, 0.70786517, 0.70786517, 0.70786517, 0.70786517,\n",
      "       0.71910112, 0.70786517, 0.69662921, 0.71910112, 0.70786517,\n",
      "       0.69662921, 0.70786517, 0.70786517, 0.69662921, 0.71910112,\n",
      "       0.70786517, 0.70786517, 0.70786517, 0.71910112, 0.69662921,\n",
      "       0.70786517, 0.68539326]), 'split3_test_score': array([       nan,        nan,        nan, 0.85393258, 0.85393258,\n",
      "       0.85393258, 0.84269663, 0.84269663, 0.84269663, 0.84269663,\n",
      "       0.84269663, 0.84269663, 0.84269663, 0.84269663, 0.84269663,\n",
      "       0.84269663, 0.84269663, 0.84269663, 0.86516854, 0.86516854,\n",
      "       0.86516854, 0.87640449, 0.87640449, 0.87640449, 0.87640449,\n",
      "       0.87640449, 0.87640449, 0.87640449, 0.87640449, 0.87640449,\n",
      "       0.88764045, 0.88764045, 0.88764045, 0.87640449, 0.87640449,\n",
      "       0.87640449, 0.85393258, 0.85393258, 0.85393258, 0.86516854,\n",
      "       0.86516854, 0.86516854, 0.86516854, 0.86516854, 0.86516854,\n",
      "       0.86516854, 0.86516854, 0.86516854, 0.86516854, 0.86516854,\n",
      "       0.86516854, 0.86516854, 0.86516854, 0.86516854, 0.86516854,\n",
      "       0.86516854, 0.86516854, 0.87640449, 0.87640449, 0.87640449,\n",
      "       0.87640449, 0.87640449, 0.87640449, 0.87640449, 0.87640449,\n",
      "       0.87640449, 0.87640449, 0.87640449, 0.87640449, 0.87640449,\n",
      "       0.87640449, 0.87640449, 0.87640449, 0.87640449, 0.87640449,\n",
      "       0.87640449, 0.87640449, 0.87640449, 0.87640449, 0.87640449,\n",
      "       0.87640449, 0.87640449, 0.87640449, 0.87640449, 0.87640449,\n",
      "       0.87640449, 0.87640449, 0.87640449, 0.87640449, 0.87640449,\n",
      "       0.87640449, 0.87640449, 0.87640449, 0.87640449, 0.87640449,\n",
      "       0.87640449, 0.87640449, 0.87640449, 0.87640449, 0.87640449,\n",
      "       0.87640449, 0.87640449, 0.87640449, 0.87640449, 0.87640449,\n",
      "       0.87640449, 0.87640449, 0.87640449, 0.87640449, 0.87640449,\n",
      "       0.87640449, 0.87640449, 0.87640449, 0.87640449, 0.86516854,\n",
      "       0.86516854, 0.86516854, 0.86516854, 0.87640449, 0.86516854,\n",
      "       0.87640449, 0.87640449, 0.87640449, 0.86516854, 0.86516854,\n",
      "       0.86516854, 0.86516854, 0.84269663, 0.85393258, 0.84269663,\n",
      "       0.85393258, 0.85393258, 0.84269663, 0.84269663, 0.85393258,\n",
      "       0.85393258, 0.85393258, 0.85393258, 0.84269663, 0.84269663,\n",
      "       0.84269663, 0.85393258, 0.85393258, 0.85393258, 0.84269663,\n",
      "       0.85393258, 0.84269663, 0.84269663, 0.85393258, 0.85393258,\n",
      "       0.85393258, 0.85393258, 0.84269663, 0.84269663, 0.85393258,\n",
      "       0.84269663, 0.85393258, 0.85393258, 0.84269663, 0.84269663,\n",
      "       0.85393258, 0.84269663, 0.85393258, 0.84269663, 0.84269663,\n",
      "       0.84269663, 0.84269663, 0.85393258, 0.85393258, 0.84269663,\n",
      "       0.84269663, 0.84269663, 0.85393258, 0.85393258, 0.84269663,\n",
      "       0.85393258, 0.84269663, 0.85393258, 0.84269663, 0.84269663,\n",
      "       0.85393258, 0.84269663, 0.85393258, 0.84269663, 0.84269663,\n",
      "       0.85393258, 0.85393258, 0.84269663, 0.85393258, 0.85393258,\n",
      "       0.85393258, 0.85393258, 0.84269663, 0.84269663, 0.85393258,\n",
      "       0.85393258, 0.84269663, 0.84269663, 0.84269663, 0.84269663,\n",
      "       0.84269663, 0.84269663, 0.84269663, 0.85393258, 0.85393258,\n",
      "       0.84269663, 0.84269663, 0.85393258, 0.84269663, 0.85393258,\n",
      "       0.85393258, 0.85393258, 0.84269663, 0.85393258, 0.84269663,\n",
      "       0.84269663, 0.84269663, 0.85393258, 0.85393258, 0.84269663,\n",
      "       0.85393258, 0.84269663, 0.85393258, 0.85393258, 0.84269663,\n",
      "       0.85393258, 0.85393258, 0.84269663, 0.86516854, 0.86516854,\n",
      "       0.84269663, 0.85393258, 0.86516854, 0.85393258, 0.86516854,\n",
      "       0.85393258, 0.85393258, 0.86516854, 0.86516854, 0.84269663,\n",
      "       0.85393258, 0.86516854, 0.85393258, 0.85393258, 0.85393258,\n",
      "       0.85393258, 0.86516854, 0.85393258, 0.85393258, 0.86516854,\n",
      "       0.86516854, 0.85393258, 0.86516854, 0.85393258, 0.85393258,\n",
      "       0.86516854, 0.86516854, 0.84269663, 0.86516854, 0.85393258,\n",
      "       0.84269663, 0.86516854, 0.86516854, 0.85393258, 0.86516854,\n",
      "       0.86516854, 0.85393258, 0.85393258, 0.86516854, 0.84269663,\n",
      "       0.86516854, 0.85393258, 0.85393258, 0.86516854, 0.85393258,\n",
      "       0.84269663, 0.86516854, 0.86516854, 0.85393258, 0.85393258,\n",
      "       0.85393258, 0.84269663, 0.86516854, 0.85393258, 0.85393258,\n",
      "       0.85393258, 0.86516854, 0.85393258, 0.85393258, 0.85393258,\n",
      "       0.84269663, 0.86516854, 0.85393258, 0.85393258, 0.85393258,\n",
      "       0.86516854, 0.84269663]), 'split4_test_score': array([       nan,        nan,        nan, 0.78651685, 0.78651685,\n",
      "       0.78651685, 0.82022472, 0.82022472, 0.82022472, 0.82022472,\n",
      "       0.82022472, 0.82022472, 0.82022472, 0.82022472, 0.82022472,\n",
      "       0.82022472, 0.82022472, 0.82022472, 0.83146067, 0.83146067,\n",
      "       0.83146067, 0.83146067, 0.83146067, 0.83146067, 0.83146067,\n",
      "       0.83146067, 0.83146067, 0.83146067, 0.83146067, 0.83146067,\n",
      "       0.84269663, 0.84269663, 0.84269663, 0.85393258, 0.85393258,\n",
      "       0.85393258, 0.85393258, 0.85393258, 0.85393258, 0.85393258,\n",
      "       0.85393258, 0.85393258, 0.85393258, 0.85393258, 0.85393258,\n",
      "       0.85393258, 0.85393258, 0.85393258, 0.86516854, 0.86516854,\n",
      "       0.87640449, 0.87640449, 0.87640449, 0.87640449, 0.87640449,\n",
      "       0.87640449, 0.87640449, 0.87640449, 0.8988764 , 0.8988764 ,\n",
      "       0.88764045, 0.8988764 , 0.8988764 , 0.88764045, 0.88764045,\n",
      "       0.8988764 , 0.88764045, 0.88764045, 0.8988764 , 0.88764045,\n",
      "       0.88764045, 0.88764045, 0.88764045, 0.88764045, 0.88764045,\n",
      "       0.88764045, 0.88764045, 0.88764045, 0.88764045, 0.88764045,\n",
      "       0.88764045, 0.88764045, 0.88764045, 0.88764045, 0.88764045,\n",
      "       0.88764045, 0.88764045, 0.88764045, 0.88764045, 0.88764045,\n",
      "       0.88764045, 0.88764045, 0.88764045, 0.88764045, 0.88764045,\n",
      "       0.88764045, 0.88764045, 0.88764045, 0.88764045, 0.88764045,\n",
      "       0.88764045, 0.88764045, 0.88764045, 0.88764045, 0.88764045,\n",
      "       0.88764045, 0.88764045, 0.88764045, 0.88764045, 0.88764045,\n",
      "       0.88764045, 0.88764045, 0.88764045, 0.88764045, 0.88764045,\n",
      "       0.88764045, 0.88764045, 0.88764045, 0.88764045, 0.88764045,\n",
      "       0.88764045, 0.88764045, 0.88764045, 0.88764045, 0.88764045,\n",
      "       0.88764045, 0.88764045, 0.88764045, 0.88764045, 0.88764045,\n",
      "       0.88764045, 0.88764045, 0.8988764 , 0.8988764 , 0.8988764 ,\n",
      "       0.8988764 , 0.8988764 , 0.88764045, 0.88764045, 0.8988764 ,\n",
      "       0.8988764 , 0.88764045, 0.8988764 , 0.8988764 , 0.88764045,\n",
      "       0.8988764 , 0.87640449, 0.8988764 , 0.8988764 , 0.88764045,\n",
      "       0.8988764 , 0.8988764 , 0.88764045, 0.8988764 , 0.8988764 ,\n",
      "       0.88764045, 0.87640449, 0.88764045, 0.87640449, 0.88764045,\n",
      "       0.88764045, 0.87640449, 0.88764045, 0.8988764 , 0.88764045,\n",
      "       0.88764045, 0.88764045, 0.88764045, 0.87640449, 0.87640449,\n",
      "       0.87640449, 0.87640449, 0.8988764 , 0.88764045, 0.88764045,\n",
      "       0.88764045, 0.87640449, 0.88764045, 0.88764045, 0.88764045,\n",
      "       0.87640449, 0.88764045, 0.88764045, 0.88764045, 0.87640449,\n",
      "       0.88764045, 0.87640449, 0.88764045, 0.87640449, 0.88764045,\n",
      "       0.87640449, 0.88764045, 0.87640449, 0.88764045, 0.87640449,\n",
      "       0.88764045, 0.87640449, 0.88764045, 0.88764045, 0.88764045,\n",
      "       0.88764045, 0.87640449, 0.88764045, 0.87640449, 0.88764045,\n",
      "       0.88764045, 0.88764045, 0.88764045, 0.88764045, 0.87640449,\n",
      "       0.8988764 , 0.88764045, 0.88764045, 0.88764045, 0.88764045,\n",
      "       0.87640449, 0.88764045, 0.87640449, 0.87640449, 0.88764045,\n",
      "       0.8988764 , 0.87640449, 0.8988764 , 0.88764045, 0.88764045,\n",
      "       0.8988764 , 0.87640449, 0.87640449, 0.88764045, 0.88764045,\n",
      "       0.88764045, 0.86516854, 0.87640449, 0.88764045, 0.87640449,\n",
      "       0.8988764 , 0.88764045, 0.87640449, 0.88764045, 0.87640449,\n",
      "       0.87640449, 0.8988764 , 0.87640449, 0.88764045, 0.87640449,\n",
      "       0.87640449, 0.87640449, 0.88764045, 0.88764045, 0.87640449,\n",
      "       0.87640449, 0.87640449, 0.88764045, 0.88764045, 0.87640449,\n",
      "       0.88764045, 0.88764045, 0.88764045, 0.88764045, 0.8988764 ,\n",
      "       0.88764045, 0.88764045, 0.8988764 , 0.88764045, 0.87640449,\n",
      "       0.88764045, 0.88764045, 0.86516854, 0.88764045, 0.87640449,\n",
      "       0.86516854, 0.88764045, 0.87640449, 0.86516854, 0.88764045,\n",
      "       0.88764045, 0.87640449, 0.87640449, 0.88764045, 0.88764045,\n",
      "       0.88764045, 0.86516854, 0.86516854, 0.8988764 , 0.87640449,\n",
      "       0.87640449, 0.88764045, 0.87640449, 0.87640449, 0.8988764 ,\n",
      "       0.86516854, 0.87640449, 0.8988764 , 0.86516854, 0.87640449,\n",
      "       0.87640449, 0.86516854]), 'split5_test_score': array([       nan,        nan,        nan, 0.78651685, 0.78651685,\n",
      "       0.78651685, 0.80898876, 0.80898876, 0.80898876, 0.80898876,\n",
      "       0.80898876, 0.80898876, 0.80898876, 0.80898876, 0.80898876,\n",
      "       0.80898876, 0.80898876, 0.80898876, 0.78651685, 0.78651685,\n",
      "       0.78651685, 0.78651685, 0.78651685, 0.78651685, 0.82022472,\n",
      "       0.82022472, 0.82022472, 0.82022472, 0.82022472, 0.82022472,\n",
      "       0.80898876, 0.80898876, 0.80898876, 0.80898876, 0.80898876,\n",
      "       0.80898876, 0.80898876, 0.80898876, 0.80898876, 0.80898876,\n",
      "       0.80898876, 0.80898876, 0.80898876, 0.80898876, 0.80898876,\n",
      "       0.80898876, 0.80898876, 0.80898876, 0.83146067, 0.83146067,\n",
      "       0.83146067, 0.83146067, 0.83146067, 0.83146067, 0.83146067,\n",
      "       0.83146067, 0.83146067, 0.83146067, 0.83146067, 0.83146067,\n",
      "       0.82022472, 0.83146067, 0.82022472, 0.85393258, 0.82022472,\n",
      "       0.85393258, 0.85393258, 0.85393258, 0.85393258, 0.85393258,\n",
      "       0.85393258, 0.85393258, 0.84269663, 0.85393258, 0.84269663,\n",
      "       0.84269663, 0.84269663, 0.84269663, 0.82022472, 0.82022472,\n",
      "       0.82022472, 0.82022472, 0.82022472, 0.84269663, 0.84269663,\n",
      "       0.84269663, 0.84269663, 0.84269663, 0.84269663, 0.84269663,\n",
      "       0.84269663, 0.83146067, 0.83146067, 0.84269663, 0.83146067,\n",
      "       0.84269663, 0.84269663, 0.84269663, 0.84269663, 0.84269663,\n",
      "       0.84269663, 0.84269663, 0.84269663, 0.84269663, 0.84269663,\n",
      "       0.84269663, 0.82022472, 0.82022472, 0.84269663, 0.82022472,\n",
      "       0.82022472, 0.82022472, 0.82022472, 0.82022472, 0.82022472,\n",
      "       0.82022472, 0.82022472, 0.82022472, 0.82022472, 0.82022472,\n",
      "       0.82022472, 0.82022472, 0.82022472, 0.82022472, 0.82022472,\n",
      "       0.82022472, 0.82022472, 0.82022472, 0.82022472, 0.82022472,\n",
      "       0.82022472, 0.82022472, 0.82022472, 0.82022472, 0.80898876,\n",
      "       0.80898876, 0.80898876, 0.82022472, 0.82022472, 0.80898876,\n",
      "       0.80898876, 0.80898876, 0.82022472, 0.82022472, 0.80898876,\n",
      "       0.82022472, 0.82022472, 0.80898876, 0.82022472, 0.83146067,\n",
      "       0.80898876, 0.78651685, 0.82022472, 0.82022472, 0.79775281,\n",
      "       0.83146067, 0.82022472, 0.79775281, 0.82022472, 0.78651685,\n",
      "       0.80898876, 0.82022472, 0.79775281, 0.80898876, 0.82022472,\n",
      "       0.79775281, 0.80898876, 0.83146067, 0.79775281, 0.79775281,\n",
      "       0.82022472, 0.79775281, 0.79775281, 0.83146067, 0.80898876,\n",
      "       0.79775281, 0.82022472, 0.79775281, 0.80898876, 0.82022472,\n",
      "       0.80898876, 0.79775281, 0.82022472, 0.80898876, 0.80898876,\n",
      "       0.83146067, 0.79775281, 0.79775281, 0.83146067, 0.79775281,\n",
      "       0.80898876, 0.82022472, 0.80898876, 0.79775281, 0.82022472,\n",
      "       0.79775281, 0.80898876, 0.82022472, 0.82022472, 0.82022472,\n",
      "       0.83146067, 0.82022472, 0.82022472, 0.82022472, 0.80898876,\n",
      "       0.82022472, 0.83146067, 0.80898876, 0.82022472, 0.82022472,\n",
      "       0.80898876, 0.80898876, 0.83146067, 0.80898876, 0.80898876,\n",
      "       0.82022472, 0.82022472, 0.80898876, 0.83146067, 0.80898876,\n",
      "       0.80898876, 0.80898876, 0.82022472, 0.82022472, 0.80898876,\n",
      "       0.80898876, 0.82022472, 0.80898876, 0.80898876, 0.80898876,\n",
      "       0.80898876, 0.82022472, 0.82022472, 0.80898876, 0.80898876,\n",
      "       0.82022472, 0.80898876, 0.82022472, 0.82022472, 0.80898876,\n",
      "       0.82022472, 0.82022472, 0.82022472, 0.80898876, 0.80898876,\n",
      "       0.80898876, 0.82022472, 0.79775281, 0.82022472, 0.80898876,\n",
      "       0.79775281, 0.82022472, 0.80898876, 0.79775281, 0.82022472,\n",
      "       0.79775281, 0.80898876, 0.80898876, 0.80898876, 0.79775281,\n",
      "       0.82022472, 0.79775281, 0.79775281, 0.80898876, 0.79775281,\n",
      "       0.79775281, 0.80898876, 0.80898876, 0.79775281, 0.82022472,\n",
      "       0.79775281, 0.79775281, 0.80898876, 0.79775281, 0.79775281,\n",
      "       0.80898876, 0.80898876, 0.80898876, 0.82022472, 0.79775281,\n",
      "       0.79775281, 0.82022472, 0.80898876, 0.80898876, 0.80898876,\n",
      "       0.80898876, 0.80898876, 0.82022472, 0.79775281, 0.79775281,\n",
      "       0.82022472, 0.80898876, 0.79775281, 0.80898876, 0.80898876,\n",
      "       0.80898876, 0.80898876]), 'split6_test_score': array([       nan,        nan,        nan, 0.7752809 , 0.7752809 ,\n",
      "       0.7752809 , 0.82022472, 0.82022472, 0.82022472, 0.82022472,\n",
      "       0.82022472, 0.82022472, 0.82022472, 0.82022472, 0.82022472,\n",
      "       0.82022472, 0.82022472, 0.82022472, 0.82022472, 0.82022472,\n",
      "       0.82022472, 0.82022472, 0.82022472, 0.82022472, 0.82022472,\n",
      "       0.82022472, 0.82022472, 0.82022472, 0.82022472, 0.82022472,\n",
      "       0.83146067, 0.83146067, 0.83146067, 0.83146067, 0.83146067,\n",
      "       0.83146067, 0.82022472, 0.82022472, 0.82022472, 0.82022472,\n",
      "       0.82022472, 0.82022472, 0.82022472, 0.82022472, 0.82022472,\n",
      "       0.82022472, 0.82022472, 0.82022472, 0.82022472, 0.82022472,\n",
      "       0.82022472, 0.82022472, 0.82022472, 0.82022472, 0.82022472,\n",
      "       0.82022472, 0.82022472, 0.83146067, 0.83146067, 0.83146067,\n",
      "       0.83146067, 0.83146067, 0.83146067, 0.83146067, 0.83146067,\n",
      "       0.83146067, 0.83146067, 0.83146067, 0.83146067, 0.83146067,\n",
      "       0.83146067, 0.83146067, 0.83146067, 0.83146067, 0.83146067,\n",
      "       0.83146067, 0.83146067, 0.83146067, 0.83146067, 0.83146067,\n",
      "       0.83146067, 0.83146067, 0.83146067, 0.83146067, 0.83146067,\n",
      "       0.83146067, 0.83146067, 0.83146067, 0.83146067, 0.83146067,\n",
      "       0.82022472, 0.82022472, 0.82022472, 0.82022472, 0.80898876,\n",
      "       0.80898876, 0.82022472, 0.82022472, 0.82022472, 0.79775281,\n",
      "       0.79775281, 0.79775281, 0.80898876, 0.80898876, 0.80898876,\n",
      "       0.80898876, 0.80898876, 0.80898876, 0.80898876, 0.80898876,\n",
      "       0.80898876, 0.80898876, 0.80898876, 0.80898876, 0.80898876,\n",
      "       0.80898876, 0.80898876, 0.80898876, 0.80898876, 0.80898876,\n",
      "       0.80898876, 0.80898876, 0.80898876, 0.80898876, 0.80898876,\n",
      "       0.80898876, 0.80898876, 0.80898876, 0.80898876, 0.80898876,\n",
      "       0.80898876, 0.80898876, 0.80898876, 0.80898876, 0.80898876,\n",
      "       0.80898876, 0.80898876, 0.80898876, 0.80898876, 0.80898876,\n",
      "       0.80898876, 0.80898876, 0.80898876, 0.80898876, 0.80898876,\n",
      "       0.80898876, 0.80898876, 0.80898876, 0.80898876, 0.80898876,\n",
      "       0.80898876, 0.80898876, 0.80898876, 0.80898876, 0.80898876,\n",
      "       0.80898876, 0.80898876, 0.80898876, 0.80898876, 0.80898876,\n",
      "       0.80898876, 0.80898876, 0.80898876, 0.80898876, 0.80898876,\n",
      "       0.80898876, 0.80898876, 0.80898876, 0.80898876, 0.80898876,\n",
      "       0.80898876, 0.80898876, 0.80898876, 0.80898876, 0.80898876,\n",
      "       0.80898876, 0.80898876, 0.80898876, 0.80898876, 0.80898876,\n",
      "       0.80898876, 0.80898876, 0.80898876, 0.80898876, 0.80898876,\n",
      "       0.80898876, 0.80898876, 0.80898876, 0.80898876, 0.80898876,\n",
      "       0.80898876, 0.80898876, 0.80898876, 0.80898876, 0.80898876,\n",
      "       0.80898876, 0.80898876, 0.80898876, 0.80898876, 0.80898876,\n",
      "       0.80898876, 0.80898876, 0.80898876, 0.80898876, 0.80898876,\n",
      "       0.80898876, 0.80898876, 0.80898876, 0.80898876, 0.80898876,\n",
      "       0.80898876, 0.80898876, 0.80898876, 0.80898876, 0.80898876,\n",
      "       0.80898876, 0.80898876, 0.80898876, 0.80898876, 0.80898876,\n",
      "       0.80898876, 0.80898876, 0.80898876, 0.80898876, 0.80898876,\n",
      "       0.80898876, 0.80898876, 0.80898876, 0.80898876, 0.80898876,\n",
      "       0.80898876, 0.80898876, 0.80898876, 0.80898876, 0.80898876,\n",
      "       0.80898876, 0.80898876, 0.80898876, 0.80898876, 0.80898876,\n",
      "       0.80898876, 0.80898876, 0.80898876, 0.80898876, 0.80898876,\n",
      "       0.80898876, 0.80898876, 0.80898876, 0.80898876, 0.80898876,\n",
      "       0.80898876, 0.80898876, 0.80898876, 0.80898876, 0.80898876,\n",
      "       0.80898876, 0.80898876, 0.80898876, 0.80898876, 0.80898876,\n",
      "       0.80898876, 0.80898876, 0.80898876, 0.80898876, 0.80898876,\n",
      "       0.80898876, 0.80898876, 0.80898876, 0.80898876, 0.80898876,\n",
      "       0.80898876, 0.80898876, 0.80898876, 0.80898876, 0.80898876,\n",
      "       0.80898876, 0.80898876, 0.80898876, 0.80898876, 0.80898876,\n",
      "       0.80898876, 0.80898876, 0.80898876, 0.80898876, 0.80898876,\n",
      "       0.80898876, 0.80898876, 0.80898876, 0.80898876, 0.80898876,\n",
      "       0.80898876, 0.80898876, 0.80898876, 0.80898876, 0.80898876,\n",
      "       0.80898876, 0.80898876]), 'split7_test_score': array([       nan,        nan,        nan, 0.76404494, 0.76404494,\n",
      "       0.76404494, 0.7752809 , 0.7752809 , 0.7752809 , 0.80898876,\n",
      "       0.80898876, 0.80898876, 0.78651685, 0.78651685, 0.78651685,\n",
      "       0.78651685, 0.78651685, 0.78651685, 0.78651685, 0.78651685,\n",
      "       0.78651685, 0.78651685, 0.78651685, 0.78651685, 0.7752809 ,\n",
      "       0.7752809 , 0.7752809 , 0.7752809 , 0.7752809 , 0.7752809 ,\n",
      "       0.78651685, 0.78651685, 0.78651685, 0.7752809 , 0.7752809 ,\n",
      "       0.7752809 , 0.7752809 , 0.7752809 , 0.7752809 , 0.7752809 ,\n",
      "       0.7752809 , 0.7752809 , 0.7752809 , 0.7752809 , 0.7752809 ,\n",
      "       0.7752809 , 0.7752809 , 0.7752809 , 0.78651685, 0.78651685,\n",
      "       0.78651685, 0.78651685, 0.78651685, 0.78651685, 0.78651685,\n",
      "       0.78651685, 0.78651685, 0.76404494, 0.76404494, 0.76404494,\n",
      "       0.76404494, 0.76404494, 0.76404494, 0.76404494, 0.76404494,\n",
      "       0.76404494, 0.76404494, 0.76404494, 0.76404494, 0.76404494,\n",
      "       0.76404494, 0.76404494, 0.75280899, 0.75280899, 0.75280899,\n",
      "       0.75280899, 0.75280899, 0.75280899, 0.75280899, 0.75280899,\n",
      "       0.75280899, 0.7752809 , 0.7752809 , 0.7752809 , 0.7752809 ,\n",
      "       0.7752809 , 0.7752809 , 0.7752809 , 0.7752809 , 0.7752809 ,\n",
      "       0.7752809 , 0.7752809 , 0.7752809 , 0.7752809 , 0.7752809 ,\n",
      "       0.7752809 , 0.7752809 , 0.7752809 , 0.7752809 , 0.78651685,\n",
      "       0.78651685, 0.78651685, 0.7752809 , 0.7752809 , 0.7752809 ,\n",
      "       0.7752809 , 0.7752809 , 0.7752809 , 0.7752809 , 0.7752809 ,\n",
      "       0.7752809 , 0.7752809 , 0.7752809 , 0.7752809 , 0.7752809 ,\n",
      "       0.7752809 , 0.7752809 , 0.7752809 , 0.7752809 , 0.74157303,\n",
      "       0.7752809 , 0.7752809 , 0.7752809 , 0.7752809 , 0.7752809 ,\n",
      "       0.7752809 , 0.75280899, 0.75280899, 0.75280899, 0.75280899,\n",
      "       0.75280899, 0.75280899, 0.75280899, 0.75280899, 0.75280899,\n",
      "       0.75280899, 0.75280899, 0.76404494, 0.76404494, 0.7752809 ,\n",
      "       0.7752809 , 0.7752809 , 0.7752809 , 0.7752809 , 0.76404494,\n",
      "       0.7752809 , 0.75280899, 0.76404494, 0.7752809 , 0.7752809 ,\n",
      "       0.76404494, 0.74157303, 0.7752809 , 0.76404494, 0.7752809 ,\n",
      "       0.7752809 , 0.76404494, 0.74157303, 0.7752809 , 0.76404494,\n",
      "       0.7752809 , 0.7752809 , 0.7752809 , 0.7752809 , 0.7752809 ,\n",
      "       0.7752809 , 0.7752809 , 0.7752809 , 0.76404494, 0.7752809 ,\n",
      "       0.7752809 , 0.76404494, 0.79775281, 0.7752809 , 0.76404494,\n",
      "       0.7752809 , 0.7752809 , 0.7752809 , 0.7752809 , 0.75280899,\n",
      "       0.76404494, 0.79775281, 0.7752809 , 0.79775281, 0.78651685,\n",
      "       0.7752809 , 0.76404494, 0.79775281, 0.7752809 , 0.78651685,\n",
      "       0.79775281, 0.75280899, 0.76404494, 0.79775281, 0.7752809 ,\n",
      "       0.79775281, 0.78651685, 0.7752809 , 0.78651685, 0.7752809 ,\n",
      "       0.7752809 , 0.78651685, 0.79775281, 0.7752809 , 0.78651685,\n",
      "       0.79775281, 0.7752809 , 0.7752809 , 0.79775281, 0.7752809 ,\n",
      "       0.7752809 , 0.79775281, 0.7752809 , 0.78651685, 0.79775281,\n",
      "       0.7752809 , 0.79775281, 0.78651685, 0.7752809 , 0.79775281,\n",
      "       0.7752809 , 0.7752809 , 0.79775281, 0.78651685, 0.7752809 ,\n",
      "       0.79775281, 0.79775281, 0.78651685, 0.79775281, 0.79775281,\n",
      "       0.78651685, 0.79775281, 0.80898876, 0.78651685, 0.79775281,\n",
      "       0.78651685, 0.78651685, 0.76404494, 0.80898876, 0.78651685,\n",
      "       0.78651685, 0.80898876, 0.78651685, 0.7752809 , 0.80898876,\n",
      "       0.78651685, 0.76404494, 0.80898876, 0.78651685, 0.79775281,\n",
      "       0.79775281, 0.78651685, 0.80898876, 0.78651685, 0.78651685,\n",
      "       0.79775281, 0.79775281, 0.7752809 , 0.79775281, 0.80898876,\n",
      "       0.7752809 , 0.7752809 , 0.80898876, 0.7752809 , 0.80898876,\n",
      "       0.79775281, 0.78651685, 0.7752809 , 0.78651685, 0.7752809 ,\n",
      "       0.80898876, 0.79775281, 0.7752809 , 0.79775281, 0.7752809 ,\n",
      "       0.7752809 , 0.80898876, 0.7752809 , 0.78651685, 0.79775281,\n",
      "       0.79775281, 0.7752809 , 0.80898876, 0.7752809 , 0.78651685,\n",
      "       0.80898876, 0.7752809 , 0.78651685, 0.7752809 , 0.79775281,\n",
      "       0.7752809 , 0.78651685, 0.79775281, 0.7752809 , 0.7752809 ,\n",
      "       0.79775281, 0.78651685]), 'split8_test_score': array([       nan,        nan,        nan, 0.82022472, 0.82022472,\n",
      "       0.82022472, 0.83146067, 0.83146067, 0.83146067, 0.83146067,\n",
      "       0.83146067, 0.83146067, 0.83146067, 0.83146067, 0.83146067,\n",
      "       0.83146067, 0.83146067, 0.83146067, 0.84269663, 0.84269663,\n",
      "       0.84269663, 0.86516854, 0.86516854, 0.86516854, 0.85393258,\n",
      "       0.85393258, 0.85393258, 0.85393258, 0.85393258, 0.85393258,\n",
      "       0.85393258, 0.85393258, 0.85393258, 0.85393258, 0.85393258,\n",
      "       0.85393258, 0.85393258, 0.85393258, 0.85393258, 0.85393258,\n",
      "       0.85393258, 0.85393258, 0.86516854, 0.86516854, 0.86516854,\n",
      "       0.86516854, 0.86516854, 0.86516854, 0.86516854, 0.86516854,\n",
      "       0.86516854, 0.86516854, 0.86516854, 0.86516854, 0.86516854,\n",
      "       0.86516854, 0.86516854, 0.86516854, 0.86516854, 0.86516854,\n",
      "       0.86516854, 0.86516854, 0.86516854, 0.86516854, 0.86516854,\n",
      "       0.86516854, 0.86516854, 0.86516854, 0.86516854, 0.86516854,\n",
      "       0.86516854, 0.86516854, 0.86516854, 0.86516854, 0.85393258,\n",
      "       0.86516854, 0.86516854, 0.85393258, 0.85393258, 0.85393258,\n",
      "       0.85393258, 0.85393258, 0.85393258, 0.84269663, 0.85393258,\n",
      "       0.85393258, 0.84269663, 0.84269663, 0.84269663, 0.84269663,\n",
      "       0.84269663, 0.84269663, 0.84269663, 0.84269663, 0.84269663,\n",
      "       0.84269663, 0.84269663, 0.84269663, 0.84269663, 0.84269663,\n",
      "       0.84269663, 0.85393258, 0.84269663, 0.84269663, 0.85393258,\n",
      "       0.84269663, 0.85393258, 0.84269663, 0.85393258, 0.85393258,\n",
      "       0.84269663, 0.85393258, 0.85393258, 0.84269663, 0.85393258,\n",
      "       0.84269663, 0.84269663, 0.84269663, 0.85393258, 0.84269663,\n",
      "       0.85393258, 0.85393258, 0.84269663, 0.85393258, 0.85393258,\n",
      "       0.84269663, 0.85393258, 0.85393258, 0.84269663, 0.85393258,\n",
      "       0.85393258, 0.84269663, 0.85393258, 0.85393258, 0.84269663,\n",
      "       0.85393258, 0.85393258, 0.84269663, 0.85393258, 0.85393258,\n",
      "       0.85393258, 0.85393258, 0.85393258, 0.85393258, 0.85393258,\n",
      "       0.85393258, 0.85393258, 0.85393258, 0.85393258, 0.85393258,\n",
      "       0.85393258, 0.86516854, 0.85393258, 0.86516854, 0.86516854,\n",
      "       0.85393258, 0.86516854, 0.86516854, 0.85393258, 0.86516854,\n",
      "       0.86516854, 0.85393258, 0.86516854, 0.86516854, 0.85393258,\n",
      "       0.86516854, 0.86516854, 0.85393258, 0.86516854, 0.86516854,\n",
      "       0.85393258, 0.86516854, 0.86516854, 0.85393258, 0.86516854,\n",
      "       0.86516854, 0.84269663, 0.86516854, 0.86516854, 0.84269663,\n",
      "       0.86516854, 0.86516854, 0.84269663, 0.86516854, 0.86516854,\n",
      "       0.84269663, 0.86516854, 0.86516854, 0.84269663, 0.86516854,\n",
      "       0.86516854, 0.84269663, 0.86516854, 0.86516854, 0.84269663,\n",
      "       0.86516854, 0.85393258, 0.84269663, 0.86516854, 0.86516854,\n",
      "       0.84269663, 0.86516854, 0.86516854, 0.84269663, 0.85393258,\n",
      "       0.86516854, 0.84269663, 0.86516854, 0.86516854, 0.84269663,\n",
      "       0.86516854, 0.86516854, 0.84269663, 0.86516854, 0.86516854,\n",
      "       0.84269663, 0.86516854, 0.86516854, 0.84269663, 0.86516854,\n",
      "       0.86516854, 0.84269663, 0.86516854, 0.86516854, 0.84269663,\n",
      "       0.86516854, 0.86516854, 0.84269663, 0.86516854, 0.86516854,\n",
      "       0.84269663, 0.86516854, 0.86516854, 0.84269663, 0.86516854,\n",
      "       0.86516854, 0.84269663, 0.86516854, 0.86516854, 0.83146067,\n",
      "       0.86516854, 0.86516854, 0.83146067, 0.86516854, 0.86516854,\n",
      "       0.84269663, 0.86516854, 0.86516854, 0.83146067, 0.86516854,\n",
      "       0.86516854, 0.84269663, 0.86516854, 0.86516854, 0.84269663,\n",
      "       0.86516854, 0.86516854, 0.84269663, 0.86516854, 0.86516854,\n",
      "       0.83146067, 0.86516854, 0.86516854, 0.84269663, 0.86516854,\n",
      "       0.86516854, 0.84269663, 0.86516854, 0.86516854, 0.83146067,\n",
      "       0.86516854, 0.85393258, 0.83146067, 0.86516854, 0.85393258,\n",
      "       0.83146067, 0.86516854, 0.86516854, 0.83146067, 0.86516854,\n",
      "       0.85393258, 0.84269663, 0.85393258, 0.85393258, 0.83146067,\n",
      "       0.85393258, 0.85393258, 0.84269663, 0.86516854, 0.86516854,\n",
      "       0.83146067, 0.85393258, 0.85393258, 0.84269663, 0.86516854,\n",
      "       0.86516854, 0.83146067]), 'split9_test_score': array([       nan,        nan,        nan, 0.75280899, 0.75280899,\n",
      "       0.75280899, 0.78651685, 0.78651685, 0.78651685, 0.82022472,\n",
      "       0.82022472, 0.82022472, 0.82022472, 0.82022472, 0.82022472,\n",
      "       0.82022472, 0.82022472, 0.82022472, 0.85393258, 0.85393258,\n",
      "       0.85393258, 0.84269663, 0.84269663, 0.84269663, 0.84269663,\n",
      "       0.84269663, 0.84269663, 0.84269663, 0.84269663, 0.84269663,\n",
      "       0.84269663, 0.84269663, 0.84269663, 0.84269663, 0.84269663,\n",
      "       0.84269663, 0.84269663, 0.83146067, 0.83146067, 0.83146067,\n",
      "       0.84269663, 0.84269663, 0.83146067, 0.84269663, 0.84269663,\n",
      "       0.83146067, 0.84269663, 0.83146067, 0.84269663, 0.84269663,\n",
      "       0.84269663, 0.83146067, 0.84269663, 0.83146067, 0.83146067,\n",
      "       0.84269663, 0.84269663, 0.83146067, 0.84269663, 0.83146067,\n",
      "       0.84269663, 0.84269663, 0.84269663, 0.83146067, 0.84269663,\n",
      "       0.83146067, 0.84269663, 0.84269663, 0.83146067, 0.83146067,\n",
      "       0.84269663, 0.83146067, 0.83146067, 0.83146067, 0.83146067,\n",
      "       0.84269663, 0.84269663, 0.84269663, 0.83146067, 0.83146067,\n",
      "       0.83146067, 0.83146067, 0.84269663, 0.84269663, 0.84269663,\n",
      "       0.83146067, 0.84269663, 0.84269663, 0.83146067, 0.87640449,\n",
      "       0.84269663, 0.83146067, 0.85393258, 0.84269663, 0.83146067,\n",
      "       0.85393258, 0.88764045, 0.87640449, 0.84269663, 0.88764045,\n",
      "       0.85393258, 0.84269663, 0.85393258, 0.85393258, 0.84269663,\n",
      "       0.84269663, 0.85393258, 0.85393258, 0.84269663, 0.84269663,\n",
      "       0.85393258, 0.85393258, 0.84269663, 0.85393258, 0.85393258,\n",
      "       0.85393258, 0.86516854, 0.86516854, 0.85393258, 0.85393258,\n",
      "       0.85393258, 0.86516854, 0.86516854, 0.85393258, 0.86516854,\n",
      "       0.85393258, 0.86516854, 0.85393258, 0.86516854, 0.85393258,\n",
      "       0.85393258, 0.85393258, 0.85393258, 0.85393258, 0.86516854,\n",
      "       0.86516854, 0.86516854, 0.86516854, 0.86516854, 0.86516854,\n",
      "       0.86516854, 0.85393258, 0.86516854, 0.85393258, 0.86516854,\n",
      "       0.85393258, 0.86516854, 0.85393258, 0.85393258, 0.86516854,\n",
      "       0.85393258, 0.86516854, 0.85393258, 0.85393258, 0.84269663,\n",
      "       0.86516854, 0.85393258, 0.84269663, 0.85393258, 0.85393258,\n",
      "       0.84269663, 0.85393258, 0.86516854, 0.86516854, 0.85393258,\n",
      "       0.85393258, 0.85393258, 0.86516854, 0.85393258, 0.85393258,\n",
      "       0.85393258, 0.86516854, 0.85393258, 0.85393258, 0.85393258,\n",
      "       0.85393258, 0.86516854, 0.85393258, 0.85393258, 0.86516854,\n",
      "       0.85393258, 0.85393258, 0.86516854, 0.86516854, 0.86516854,\n",
      "       0.85393258, 0.85393258, 0.86516854, 0.86516854, 0.86516854,\n",
      "       0.85393258, 0.86516854, 0.85393258, 0.85393258, 0.86516854,\n",
      "       0.85393258, 0.86516854, 0.85393258, 0.85393258, 0.86516854,\n",
      "       0.85393258, 0.85393258, 0.84269663, 0.86516854, 0.86516854,\n",
      "       0.84269663, 0.85393258, 0.85393258, 0.85393258, 0.86516854,\n",
      "       0.86516854, 0.85393258, 0.85393258, 0.86516854, 0.86516854,\n",
      "       0.85393258, 0.86516854, 0.86516854, 0.85393258, 0.86516854,\n",
      "       0.86516854, 0.85393258, 0.85393258, 0.85393258, 0.86516854,\n",
      "       0.85393258, 0.86516854, 0.85393258, 0.86516854, 0.85393258,\n",
      "       0.85393258, 0.86516854, 0.85393258, 0.83146067, 0.85393258,\n",
      "       0.84269663, 0.84269663, 0.86516854, 0.85393258, 0.83146067,\n",
      "       0.86516854, 0.85393258, 0.84269663, 0.86516854, 0.85393258,\n",
      "       0.84269663, 0.85393258, 0.85393258, 0.84269663, 0.85393258,\n",
      "       0.85393258, 0.84269663, 0.86516854, 0.86516854, 0.83146067,\n",
      "       0.86516854, 0.84269663, 0.84269663, 0.85393258, 0.85393258,\n",
      "       0.84269663, 0.85393258, 0.84269663, 0.83146067, 0.85393258,\n",
      "       0.84269663, 0.84269663, 0.84269663, 0.82022472, 0.83146067,\n",
      "       0.85393258, 0.82022472, 0.84269663, 0.85393258, 0.84269663,\n",
      "       0.84269663, 0.85393258, 0.83146067, 0.84269663, 0.84269663,\n",
      "       0.82022472, 0.84269663, 0.84269663, 0.82022472, 0.84269663,\n",
      "       0.84269663, 0.83146067, 0.83146067, 0.84269663, 0.82022472,\n",
      "       0.84269663, 0.84269663, 0.83146067, 0.83146067, 0.84269663,\n",
      "       0.83146067, 0.83146067]), 'mean_test_score': array([       nan,        nan,        nan, 0.78228464, 0.78228464,\n",
      "       0.78228464, 0.79129838, 0.79129838, 0.79129838, 0.81817728,\n",
      "       0.81817728, 0.81817728, 0.81593009, 0.81593009, 0.81593009,\n",
      "       0.81593009, 0.81593009, 0.81593009, 0.82602996, 0.82602996,\n",
      "       0.82602996, 0.82827715, 0.82827715, 0.82827715, 0.82940075,\n",
      "       0.82940075, 0.82940075, 0.82605493, 0.82605493, 0.82605493,\n",
      "       0.83277154, 0.83277154, 0.83277154, 0.83164794, 0.83164794,\n",
      "       0.83164794, 0.82714107, 0.82601748, 0.82601748, 0.82714107,\n",
      "       0.82826467, 0.82826467, 0.82715356, 0.82827715, 0.82827715,\n",
      "       0.82715356, 0.82827715, 0.82715356, 0.83277154, 0.83277154,\n",
      "       0.83389513, 0.83389513, 0.83501873, 0.83614232, 0.83614232,\n",
      "       0.83726592, 0.83726592, 0.83169788, 0.83506866, 0.83394507,\n",
      "       0.83282147, 0.83506866, 0.83282147, 0.83616729, 0.8350437 ,\n",
      "       0.83729089, 0.83729089, 0.83729089, 0.83729089, 0.8350437 ,\n",
      "       0.83616729, 0.8350437 , 0.8327965 , 0.8339201 , 0.83167291,\n",
      "       0.8339201 , 0.8339201 , 0.83167291, 0.82830212, 0.82830212,\n",
      "       0.82605493, 0.82830212, 0.83278402, 0.83277154, 0.83167291,\n",
      "       0.83054931, 0.83277154, 0.83166042, 0.82942572, 0.8339201 ,\n",
      "       0.82942572, 0.82717853, 0.82941323, 0.82828964, 0.82382022,\n",
      "       0.82828964, 0.82946317, 0.82721598, 0.8249563 , 0.82610487,\n",
      "       0.82384519, 0.82273408, 0.82273408, 0.82384519, 0.82162297,\n",
      "       0.8227216 , 0.8227216 , 0.821598  , 0.82162297, 0.821598  ,\n",
      "       0.821598  , 0.8193633 , 0.81935081, 0.8182397 , 0.81601748,\n",
      "       0.81822722, 0.8182397 , 0.8182397 , 0.8193633 , 0.81485643,\n",
      "       0.81825218, 0.821598  , 0.8193633 , 0.81825218, 0.82048689,\n",
      "       0.81935081, 0.81712859, 0.81598002, 0.81599251, 0.8137578 ,\n",
      "       0.81599251, 0.8137578 , 0.81377029, 0.81710362, 0.81486891,\n",
      "       0.81489388, 0.81822722, 0.8148814 , 0.81600499, 0.8182397 ,\n",
      "       0.81600499, 0.81599251, 0.81825218, 0.81600499, 0.81486891,\n",
      "       0.81822722, 0.81151061, 0.81264669, 0.8171161 , 0.81935081,\n",
      "       0.81486891, 0.81038702, 0.81263421, 0.81377029, 0.81486891,\n",
      "       0.8148814 , 0.81264669, 0.81037453, 0.81373283, 0.80816479,\n",
      "       0.81264669, 0.8115231 , 0.81600499, 0.81712859, 0.81377029,\n",
      "       0.8137578 , 0.81599251, 0.81601748, 0.8115231 , 0.81264669,\n",
      "       0.8115231 , 0.80930087, 0.81602996, 0.81153558, 0.81153558,\n",
      "       0.81600499, 0.80927591, 0.81265918, 0.81378277, 0.8070412 ,\n",
      "       0.81153558, 0.81712859, 0.81377029, 0.81602996, 0.81377029,\n",
      "       0.8115231 , 0.81374532, 0.81599251, 0.81374532, 0.81489388,\n",
      "       0.8182397 , 0.81260924, 0.80928839, 0.8137578 , 0.81263421,\n",
      "       0.8148814 , 0.81377029, 0.81262172, 0.81377029, 0.81489388,\n",
      "       0.81151061, 0.81264669, 0.81489388, 0.81262172, 0.81265918,\n",
      "       0.81710362, 0.81151061, 0.8137578 , 0.81489388, 0.8103995 ,\n",
      "       0.81601748, 0.8171161 , 0.81263421, 0.81712859, 0.81712859,\n",
      "       0.81038702, 0.81602996, 0.81599251, 0.81262172, 0.81712859,\n",
      "       0.81600499, 0.80815231, 0.81715356, 0.81490637, 0.8103995 ,\n",
      "       0.81602996, 0.8182397 , 0.8103995 , 0.81604245, 0.81490637,\n",
      "       0.80816479, 0.81265918, 0.81825218, 0.80926342, 0.81267166,\n",
      "       0.81601748, 0.80928839, 0.81267166, 0.82162297, 0.80590512,\n",
      "       0.81377029, 0.81940075, 0.81037453, 0.81154806, 0.81378277,\n",
      "       0.80927591, 0.81489388, 0.81601748, 0.81151061, 0.81489388,\n",
      "       0.81489388, 0.81151061, 0.81937578, 0.8148814 , 0.81038702,\n",
      "       0.81490637, 0.81489388, 0.80926342, 0.81379526, 0.81601748,\n",
      "       0.80815231, 0.81265918, 0.81714107, 0.80589263, 0.81043695,\n",
      "       0.81600499, 0.80816479, 0.80594257, 0.81263421, 0.80476904,\n",
      "       0.81153558, 0.8103995 , 0.80590512, 0.81153558, 0.80926342,\n",
      "       0.80590512, 0.81156055, 0.80705368, 0.8070412 , 0.80818976,\n",
      "       0.80816479, 0.80478152, 0.80816479, 0.80927591, 0.8036829 ,\n",
      "       0.80705368, 0.80705368, 0.80702871, 0.80257179, 0.8115231 ,\n",
      "       0.80365793, 0.80928839, 0.8103995 , 0.8025593 , 0.80593009,\n",
      "       0.8115231 , 0.79916355]), 'std_test_score': array([       nan,        nan,        nan, 0.03512064, 0.03512064,\n",
      "       0.03512064, 0.03730098, 0.03730098, 0.03730098, 0.02554779,\n",
      "       0.02554779, 0.02554779, 0.02719256, 0.02719256, 0.02719256,\n",
      "       0.02719256, 0.02719256, 0.02719256, 0.03493852, 0.03493852,\n",
      "       0.03493852, 0.03730354, 0.03730354, 0.03730354, 0.03547639,\n",
      "       0.03547639, 0.03547639, 0.03444245, 0.03444245, 0.03444245,\n",
      "       0.03604127, 0.03604127, 0.03604127, 0.03658593, 0.03658593,\n",
      "       0.03658593, 0.03234264, 0.03197581, 0.03197581, 0.03311412,\n",
      "       0.03343074, 0.03343074, 0.03381226, 0.03412199, 0.03412199,\n",
      "       0.03381226, 0.03412199, 0.03381226, 0.03273727, 0.03273727,\n",
      "       0.03399844, 0.03473316, 0.03481787, 0.03062528, 0.03062528,\n",
      "       0.03063902, 0.03063902, 0.03832617, 0.04148557, 0.04141585,\n",
      "       0.04007457, 0.04148557, 0.04310992, 0.03980851, 0.03814656,\n",
      "       0.04137329, 0.03981837, 0.03981837, 0.04137329, 0.03912682,\n",
      "       0.0391691 , 0.03912682, 0.04084371, 0.0412531 , 0.04008521,\n",
      "       0.04094592, 0.04094592, 0.03976902, 0.03948441, 0.03948441,\n",
      "       0.04292744, 0.03948441, 0.0352704 , 0.03874233, 0.03976902,\n",
      "       0.03960006, 0.03874233, 0.0388694 , 0.0390766 , 0.041558  ,\n",
      "       0.03939835, 0.03889453, 0.04164039, 0.04111186, 0.0394406 ,\n",
      "       0.04202301, 0.0457113 , 0.0463815 , 0.04278591, 0.04871565,\n",
      "       0.04412646, 0.04539414, 0.045947  , 0.044695  , 0.04740076,\n",
      "       0.04406125, 0.0449126 , 0.04425344, 0.04740076, 0.04425344,\n",
      "       0.04425344, 0.0461444 , 0.04426611, 0.04542009, 0.04781364,\n",
      "       0.04292599, 0.04514128, 0.04514128, 0.0461444 , 0.04726972,\n",
      "       0.04751337, 0.04593324, 0.04641719, 0.04616572, 0.04573954,\n",
      "       0.04281638, 0.04966332, 0.04449842, 0.04663968, 0.0468438 ,\n",
      "       0.04636821, 0.0468438 , 0.05014657, 0.04639511, 0.05030509,\n",
      "       0.05188488, 0.04819106, 0.04844051, 0.04656026, 0.04597263,\n",
      "       0.04919706, 0.04384936, 0.04804185, 0.04893978, 0.04528647,\n",
      "       0.04659272, 0.04808038, 0.04883943, 0.04766425, 0.04594546,\n",
      "       0.04719757, 0.05532615, 0.04653947, 0.05163501, 0.04825565,\n",
      "       0.04791643, 0.04909724, 0.05012743, 0.04247924, 0.05189065,\n",
      "       0.04883943, 0.04612081, 0.04945301, 0.05016915, 0.04594223,\n",
      "       0.04764545, 0.04609513, 0.04988124, 0.04929626, 0.0456322 ,\n",
      "       0.04612081, 0.05289558, 0.05202753, 0.05456372, 0.05146803,\n",
      "       0.04656026, 0.0506232 , 0.05152279, 0.04878492, 0.05550577,\n",
      "       0.05072682, 0.04428835, 0.04887158, 0.05030028, 0.0496405 ,\n",
      "       0.05227918, 0.04665231, 0.05053711, 0.04928419, 0.05212763,\n",
      "       0.04372057, 0.05181686, 0.05177455, 0.05072555, 0.0478766 ,\n",
      "       0.05147305, 0.04648857, 0.04634642, 0.05236337, 0.05188488,\n",
      "       0.05013699, 0.05086535, 0.0488779 , 0.04899473, 0.05461537,\n",
      "       0.04747108, 0.05013699, 0.05243879, 0.05188488, 0.05147012,\n",
      "       0.05424598, 0.04999125, 0.0478766 , 0.05042017, 0.04915228,\n",
      "       0.04584221, 0.05226962, 0.050035  , 0.04821552, 0.04915228,\n",
      "       0.05501214, 0.04712987, 0.0536577 , 0.05252902, 0.04997677,\n",
      "       0.05369925, 0.04941381, 0.0465772 , 0.05569359, 0.05510935,\n",
      "       0.05189065, 0.05249376, 0.0503514 , 0.04840719, 0.0533629 ,\n",
      "       0.05186649, 0.04978564, 0.0563546 , 0.04948562, 0.04398492,\n",
      "       0.05260391, 0.05420701, 0.0456456 , 0.05585455, 0.05252341,\n",
      "       0.04646201, 0.05236926, 0.05038489, 0.04620582, 0.04990036,\n",
      "       0.05015272, 0.04509967, 0.0527096 , 0.0529242 , 0.04444391,\n",
      "       0.05418527, 0.0528492 , 0.04654579, 0.05682803, 0.05424598,\n",
      "       0.04739699, 0.05438372, 0.05230869, 0.04947088, 0.0572612 ,\n",
      "       0.04945301, 0.04990636, 0.05517626, 0.04917738, 0.045807  ,\n",
      "       0.05244002, 0.04791328, 0.04649642, 0.05047733, 0.0507001 ,\n",
      "       0.04730396, 0.05711133, 0.05496853, 0.05149419, 0.05705309,\n",
      "       0.04939784, 0.04708342, 0.05285487, 0.0506232 , 0.05129343,\n",
      "       0.05473838, 0.05542597, 0.04828773, 0.05834283, 0.05080962,\n",
      "       0.04629263, 0.05225996, 0.05220078, 0.04824379, 0.05661535,\n",
      "       0.05080962, 0.04978836]), 'rank_test_score': array([297, 296, 295, 292, 292, 292, 289, 289, 289, 118, 118, 118, 158,\n",
      "       158, 158, 158, 158, 158,  76,  76,  76,  56,  56,  56,  48,  48,\n",
      "        48,  72,  72,  72,  28,  28,  28,  40,  40,  40,  69,  79,  79,\n",
      "        69,  62,  62,  66,  59,  59,  66,  59,  66,  28,  28,  23,  22,\n",
      "        16,   9,   9,   5,   5,  35,  11,  17,  24,  11,  24,   7,  15,\n",
      "         1,   1,   1,   1,  13,   7,  13,  26,  18,  36,  19,  19,  36,\n",
      "        51,  51,  72,  51,  27,  28,  38,  43,  28,  39,  45,  19,  45,\n",
      "        65,  47,  54,  84,  54,  44,  64,  81,  71,  82,  85,  85,  82,\n",
      "        89,  87,  87,  92,  89,  92,  92,  99, 102, 109, 138, 115, 109,\n",
      "       109,  99, 184, 106,  92,  99, 105,  96, 102, 123, 157, 151, 196,\n",
      "       151, 198, 188, 131, 180, 167, 117, 176, 144, 109, 144, 151, 106,\n",
      "       144, 180, 115, 236, 210, 129, 102, 180, 249, 215, 188, 183, 176,\n",
      "       212, 250, 203, 264, 212, 230, 147, 123, 188, 198, 151, 138, 230,\n",
      "       210, 230, 252, 134, 225, 227, 147, 256, 206, 186, 273, 225, 123,\n",
      "       188, 134, 188, 230, 202, 151, 201, 167, 109, 222, 253, 198, 216,\n",
      "       176, 188, 219, 188, 167, 236, 212, 167, 219, 206, 132, 236, 196,\n",
      "       167, 242, 138, 130, 216, 126, 126, 247, 134, 151, 219, 126, 147,\n",
      "       268, 121, 164, 242, 134, 114, 242, 133, 164, 264, 206, 106, 259,\n",
      "       204, 142, 253, 204,  89, 278, 188,  97, 250, 224, 186, 258, 167,\n",
      "       142, 240, 167, 167, 236,  98, 176, 247, 164, 167, 260, 185, 138,\n",
      "       268, 206, 122, 281, 241, 147, 264, 276, 216, 283, 227, 242, 279,\n",
      "       227, 260, 279, 223, 271, 273, 262, 263, 282, 264, 256, 284, 271,\n",
      "       270, 275, 286, 230, 285, 253, 242, 287, 277, 230, 288])}\n"
     ]
    }
   ],
   "source": [
    "print('Best accuracy: ', gs.best_score_)\n",
    "print('Best parameters: ', gs.best_params_)\n",
    "print('CV results: ', gs.cv_results_)"
   ]
  },
  {
   "cell_type": "code",
   "execution_count": 101,
   "metadata": {},
   "outputs": [],
   "source": [
    "# Best accuracy:  0.8384144818976278\n",
    "# Best parameters:  {'max_leaf_nodes': 22, 'min_samples_split': 2}"
   ]
  },
  {
   "cell_type": "markdown",
   "metadata": {},
   "source": [
    "### DT tuned model"
   ]
  },
  {
   "cell_type": "code",
   "execution_count": 102,
   "metadata": {},
   "outputs": [],
   "source": [
    "dt = DecisionTreeClassifier(max_leaf_nodes=22, min_samples_split=2)"
   ]
  },
  {
   "cell_type": "code",
   "execution_count": 103,
   "metadata": {},
   "outputs": [
    {
     "data": {
      "text/plain": [
       "DecisionTreeClassifier(ccp_alpha=0.0, class_weight=None, criterion='gini',\n",
       "                       max_depth=None, max_features=None, max_leaf_nodes=22,\n",
       "                       min_impurity_decrease=0.0, min_impurity_split=None,\n",
       "                       min_samples_leaf=1, min_samples_split=2,\n",
       "                       min_weight_fraction_leaf=0.0, presort='deprecated',\n",
       "                       random_state=None, splitter='best')"
      ]
     },
     "execution_count": 103,
     "metadata": {},
     "output_type": "execute_result"
    }
   ],
   "source": [
    "dt.fit(x_train, y_train)"
   ]
  },
  {
   "cell_type": "code",
   "execution_count": 104,
   "metadata": {},
   "outputs": [],
   "source": [
    "# Decision tree predictions for x_test\n",
    "y_dt_pred = dt.predict(x_test)"
   ]
  },
  {
   "cell_type": "code",
   "execution_count": 105,
   "metadata": {},
   "outputs": [
    {
     "name": "stdout",
     "output_type": "stream",
     "text": [
      "Decision Tree accuracy: 82.0627802690583\n"
     ]
    }
   ],
   "source": [
    "print(\"Decision Tree accuracy:\", metrics.accuracy_score(y_test, y_dt_pred)*100)"
   ]
  },
  {
   "cell_type": "code",
   "execution_count": 106,
   "metadata": {},
   "outputs": [
    {
     "data": {
      "image/png": "[encoded data removed]",
      "text/plain": [
       "<Figure size 576x432 with 1 Axes>"
      ]
     },
     "metadata": {},
     "output_type": "display_data"
    }
   ],
   "source": [
    "feature_imp = pd.Series(dt.feature_importances_, index=x_train.columns).sort_values(ascending=False)\n",
    "\n",
    "plt.figure(figsize=(8, 6))\n",
    "sns.barplot(x=feature_imp, y=feature_imp.index)\n",
    "\n",
    "plt.xlabel('Feature Importance Score')\n",
    "plt.ylabel('Features')\n",
    "plt.title(\"Important Features\")\n",
    "plt.tight_layout()"
   ]
  },
  {
   "cell_type": "markdown",
   "metadata": {},
   "source": [
    "## Confusion Matrix"
   ]
  },
  {
   "cell_type": "markdown",
   "metadata": {},
   "source": [
    "### For Decision Tree"
   ]
  },
  {
   "cell_type": "code",
   "execution_count": 107,
   "metadata": {},
   "outputs": [],
   "source": [
    "from sklearn.metrics import confusion_matrix, plot_confusion_matrix"
   ]
  },
  {
   "cell_type": "code",
   "execution_count": 108,
   "metadata": {},
   "outputs": [],
   "source": [
    "y_dt_pred_bool = (y_dt_pred > 0.5)"
   ]
  },
  {
   "cell_type": "code",
   "execution_count": 109,
   "metadata": {},
   "outputs": [
    {
     "name": "stdout",
     "output_type": "stream",
     "text": [
      "[[122   9]\n",
      " [ 31  61]]\n"
     ]
    }
   ],
   "source": [
    "c_matrix = confusion_matrix(y_test, y_dt_pred_bool)\n",
    "print(c_matrix)"
   ]
  },
  {
   "cell_type": "code",
   "execution_count": 110,
   "metadata": {},
   "outputs": [
    {
     "data": {
      "image/png": "[encoded data removed]",
      "text/plain": [
       "<Figure size 432x288 with 2 Axes>"
      ]
     },
     "metadata": {},
     "output_type": "display_data"
    }
   ],
   "source": [
    "# visualize it\n",
    "plot_confusion_matrix(\n",
    "    dt,\n",
    "    x_test,\n",
    "    y_test,\n",
    "    cmap=plt.cm.Reds,\n",
    "    values_format = '.0f')\n",
    "plt.show()"
   ]
  },
  {
   "cell_type": "markdown",
   "metadata": {},
   "source": [
    "### For GaussianNB "
   ]
  },
  {
   "cell_type": "code",
   "execution_count": 111,
   "metadata": {},
   "outputs": [],
   "source": [
    "y_gnb_pred_bool = (y_gnb_pred > 0.5)"
   ]
  },
  {
   "cell_type": "code",
   "execution_count": 112,
   "metadata": {},
   "outputs": [
    {
     "name": "stdout",
     "output_type": "stream",
     "text": [
      "[[108  23]\n",
      " [ 16  76]]\n"
     ]
    }
   ],
   "source": [
    "c_matrix = confusion_matrix(y_test, y_gnb_pred_bool)\n",
    "print(c_matrix)"
   ]
  },
  {
   "cell_type": "code",
   "execution_count": 113,
   "metadata": {},
   "outputs": [
    {
     "data": {
      "image/png": "[encoded data removed]",
      "text/plain": [
       "<Figure size 432x288 with 2 Axes>"
      ]
     },
     "metadata": {},
     "output_type": "display_data"
    }
   ],
   "source": [
    "# visualize it\n",
    "plot_confusion_matrix(\n",
    "    gnb,\n",
    "    x_test,\n",
    "    y_test,\n",
    "    cmap=plt.cm.Reds,\n",
    "    values_format = '.0f')\n",
    "plt.show()"
   ]
  },
  {
   "cell_type": "markdown",
   "metadata": {},
   "source": [
    "## Cross Validation (K-fold)"
   ]
  },
  {
   "cell_type": "markdown",
   "metadata": {},
   "source": [
    "### for Decision tree"
   ]
  },
  {
   "cell_type": "code",
   "execution_count": 114,
   "metadata": {},
   "outputs": [],
   "source": [
    "from sklearn.model_selection import cross_val_score"
   ]
  },
  {
   "cell_type": "code",
   "execution_count": 115,
   "metadata": {},
   "outputs": [],
   "source": [
    "k_fold = KFold(n_splits=10, shuffle=True, random_state=0)\n",
    "scoring = 'accuracy'"
   ]
  },
  {
   "cell_type": "code",
   "execution_count": 116,
   "metadata": {},
   "outputs": [
    {
     "name": "stdout",
     "output_type": "stream",
     "text": [
      "[0.83333333 0.84269663 0.79775281 0.79775281 0.86516854 0.79775281\n",
      " 0.82022472 0.83146067 0.83146067 0.78651685]\n"
     ]
    }
   ],
   "source": [
    "score = cross_val_score(dt, train_data, target, cv=k_fold, n_jobs=1, scoring=scoring)\n",
    "print(score)"
   ]
  },
  {
   "cell_type": "code",
   "execution_count": 117,
   "metadata": {},
   "outputs": [
    {
     "name": "stdout",
     "output_type": "stream",
     "text": [
      "K-Foldaccuracy:  82.04119850187264\n"
     ]
    }
   ],
   "source": [
    "print('K-Foldaccuracy: ', score.mean() * 100)"
   ]
  },
  {
   "cell_type": "markdown",
   "metadata": {},
   "source": [
    "### for GaussianNB"
   ]
  },
  {
   "cell_type": "code",
   "execution_count": 118,
   "metadata": {},
   "outputs": [
    {
     "name": "stdout",
     "output_type": "stream",
     "text": [
      "[0.83333333 0.7752809  0.73033708 0.75280899 0.74157303 0.84269663\n",
      " 0.76404494 0.78651685 0.84269663 0.79775281]\n"
     ]
    }
   ],
   "source": [
    "score = cross_val_score(gnb, train_data, target, cv=k_fold, n_jobs=1, scoring=scoring)\n",
    "print(score)"
   ]
  },
  {
   "cell_type": "code",
   "execution_count": 119,
   "metadata": {},
   "outputs": [
    {
     "name": "stdout",
     "output_type": "stream",
     "text": [
      "K-Fold accuracy:  78.67041198501873\n"
     ]
    }
   ],
   "source": [
    "print('K-Fold accuracy: ', score.mean() * 100)"
   ]
  },
  {
   "cell_type": "markdown",
   "metadata": {},
   "source": [
    "## Classification Report"
   ]
  },
  {
   "cell_type": "markdown",
   "metadata": {},
   "source": [
    "### for Decision Tree"
   ]
  },
  {
   "cell_type": "code",
   "execution_count": 120,
   "metadata": {},
   "outputs": [],
   "source": [
    "from sklearn.metrics import classification_report"
   ]
  },
  {
   "cell_type": "code",
   "execution_count": 121,
   "metadata": {},
   "outputs": [
    {
     "name": "stdout",
     "output_type": "stream",
     "text": [
      "              precision    recall  f1-score   support\n",
      "\n",
      "           0       0.80      0.93      0.86       131\n",
      "           1       0.87      0.66      0.75        92\n",
      "\n",
      "    accuracy                           0.82       223\n",
      "   macro avg       0.83      0.80      0.81       223\n",
      "weighted avg       0.83      0.82      0.82       223\n",
      "\n"
     ]
    }
   ],
   "source": [
    "print(classification_report(y_test,y_dt_pred))"
   ]
  },
  {
   "cell_type": "markdown",
   "metadata": {},
   "source": [
    "### for GaussianNB"
   ]
  },
  {
   "cell_type": "code",
   "execution_count": 122,
   "metadata": {},
   "outputs": [
    {
     "name": "stdout",
     "output_type": "stream",
     "text": [
      "              precision    recall  f1-score   support\n",
      "\n",
      "           0       0.87      0.82      0.85       131\n",
      "           1       0.77      0.83      0.80        92\n",
      "\n",
      "    accuracy                           0.83       223\n",
      "   macro avg       0.82      0.83      0.82       223\n",
      "weighted avg       0.83      0.83      0.83       223\n",
      "\n"
     ]
    }
   ],
   "source": [
    "print(classification_report(y_test,y_gnb_pred))"
   ]
  },
  {
   "cell_type": "markdown",
   "metadata": {},
   "source": [
    "## AUC ROC Curve"
   ]
  },
  {
   "cell_type": "markdown",
   "metadata": {},
   "source": [
    "### for Decision Tree"
   ]
  },
  {
   "cell_type": "code",
   "execution_count": 123,
   "metadata": {},
   "outputs": [
    {
     "data": {
      "image/png": "[encoded data removed]",
      "text/plain": [
       "<Figure size 432x288 with 1 Axes>"
      ]
     },
     "metadata": {},
     "output_type": "display_data"
    }
   ],
   "source": [
    "from sklearn.metrics import roc_curve, roc_auc_score, precision_recall_curve\n",
    "\n",
    "y_pred_dt_prb = dt.predict_proba(x_test)[:,1]\n",
    "\n",
    "fpr, tpr, thresholds = roc_curve(y_test, y_pred_dt_prb)\n",
    "\n",
    "plt.plot([0,1],[0,1],'k--')\n",
    "plt.plot(fpr,tpr, label='Knn')\n",
    "plt.xlabel('False Positive Rate')\n",
    "plt.ylabel('True Positive Rate')\n",
    "plt.title('Decision Tree ROC curve')\n",
    "plt.show()"
   ]
  },
  {
   "cell_type": "code",
   "execution_count": 124,
   "metadata": {},
   "outputs": [
    {
     "name": "stdout",
     "output_type": "stream",
     "text": [
      "ROC Score:  0.8745851310985728\n"
     ]
    }
   ],
   "source": [
    "from sklearn.metrics import roc_auc_score\n",
    "\n",
    "print('ROC Score: ', roc_auc_score(y_test,y_pred_dt_prb))"
   ]
  },
  {
   "cell_type": "markdown",
   "metadata": {},
   "source": [
    "### for GaussianNB"
   ]
  },
  {
   "cell_type": "code",
   "execution_count": 125,
   "metadata": {},
   "outputs": [
    {
     "data": {
      "image/png": "[encoded data removed]",
      "text/plain": [
       "<Figure size 432x288 with 1 Axes>"
      ]
     },
     "metadata": {},
     "output_type": "display_data"
    }
   ],
   "source": [
    "\n",
    "y_pred_gnb_prb = gnb.predict_proba(x_test)[:,1]\n",
    "\n",
    "fpr, tpr, thresholds = roc_curve(y_test, y_pred_gnb_prb)\n",
    "\n",
    "plt.plot([0,1],[0,1],'k--')\n",
    "plt.plot(fpr,tpr, label='Knn')\n",
    "plt.xlabel('False Positive Rate')\n",
    "plt.ylabel('True Positive Rate')\n",
    "plt.title('GaussianNB ROC curve')\n",
    "plt.show()"
   ]
  },
  {
   "cell_type": "code",
   "execution_count": 126,
   "metadata": {},
   "outputs": [
    {
     "name": "stdout",
     "output_type": "stream",
     "text": [
      "ROC Score:  0.8672004646531696\n"
     ]
    }
   ],
   "source": [
    "print('ROC Score: ', roc_auc_score(y_test,y_pred_gnb_prb))"
   ]
  },
  {
   "cell_type": "markdown",
   "metadata": {},
   "source": [
    "### ROC curve comparison of the two models"
   ]
  },
  {
   "cell_type": "code",
   "execution_count": 127,
   "metadata": {},
   "outputs": [],
   "source": [
    "from sklearn.metrics import plot_roc_curve"
   ]
  },
  {
   "cell_type": "code",
   "execution_count": 128,
   "metadata": {},
   "outputs": [
    {
     "data": {
      "image/png": "[encoded data removed]",
      "text/plain": [
       "<Figure size 432x288 with 1 Axes>"
      ]
     },
     "metadata": {},
     "output_type": "display_data"
    }
   ],
   "source": [
    "classifiers = [gnb, dt]\n",
    "ax = plt.gca()\n",
    "for i in classifiers:\n",
    "    plot_roc_curve(i, x_test, y_test, ax=ax)"
   ]
  },
  {
   "cell_type": "markdown",
   "metadata": {},
   "source": [
    "## Precision Recall"
   ]
  },
  {
   "cell_type": "markdown",
   "metadata": {},
   "source": [
    "### for Decision tree"
   ]
  },
  {
   "cell_type": "code",
   "execution_count": 129,
   "metadata": {},
   "outputs": [
    {
     "data": {
      "image/png": "[encoded data removed]",
      "text/plain": [
       "<Figure size 432x432 with 1 Axes>"
      ]
     },
     "metadata": {},
     "output_type": "display_data"
    }
   ],
   "source": [
    "def plot_pr_curve(precision, recall, threshold):\n",
    "    fig, ax = plt.subplots(figsize=(6,6))\n",
    "    ax.plot(recall, precision, label='Classifier')\n",
    "    baseline = len(y_test[y_test==1]) / len(y_test)\n",
    "    ax.set_xlabel('Recall')\n",
    "    ax.set_ylabel('Precision')\n",
    "    ax.legend(loc='center left');\n",
    "    plt.show()\n",
    "\n",
    "precision, recall, threshold = precision_recall_curve(y_test, y_pred_dt_prb)\n",
    "\n",
    "plot_pr_curve(precision, recall, threshold)"
   ]
  },
  {
   "cell_type": "markdown",
   "metadata": {},
   "source": [
    "### for GaussianNB"
   ]
  },
  {
   "cell_type": "code",
   "execution_count": 130,
   "metadata": {},
   "outputs": [
    {
     "data": {
      "image/png": "[encoded data removed]",
      "text/plain": [
       "<Figure size 432x432 with 1 Axes>"
      ]
     },
     "metadata": {},
     "output_type": "display_data"
    }
   ],
   "source": [
    "def plot_pr_curve(precision, recall, threshold):\n",
    "    fig, ax = plt.subplots(figsize=(6,6))\n",
    "    ax.plot(recall, precision, label='Classifier')\n",
    "    baseline = len(y_test[y_test==1]) / len(y_test)\n",
    "    ax.set_xlabel('Recall')\n",
    "    ax.set_ylabel('Precision')\n",
    "    ax.legend(loc='center left');\n",
    "    plt.show()\n",
    "\n",
    "precision, recall, threshold = precision_recall_curve(y_test, y_pred_gnb_prb)\n",
    "\n",
    "plot_pr_curve(precision, recall, threshold)"
   ]
  },
  {
   "cell_type": "markdown",
   "metadata": {},
   "source": [
    "# Test Set Predictions"
   ]
  },
  {
   "cell_type": "code",
   "execution_count": 131,
   "metadata": {},
   "outputs": [],
   "source": [
    "test_dt = test.copy()\n",
    "test_gnb = test.copy()"
   ]
  },
  {
   "cell_type": "markdown",
   "metadata": {},
   "source": [
    "### for Decision tree"
   ]
  },
  {
   "cell_type": "code",
   "execution_count": 132,
   "metadata": {},
   "outputs": [
    {
     "data": {
      "text/html": [
       "<div>\n",
       "<style scoped>\n",
       "    .dataframe tbody tr th:only-of-type {\n",
       "        vertical-align: middle;\n",
       "    }\n",
       "\n",
       "    .dataframe tbody tr th {\n",
       "        vertical-align: top;\n",
       "    }\n",
       "\n",
       "    .dataframe thead th {\n",
       "        text-align: right;\n",
       "    }\n",
       "</style>\n",
       "<table border=\"1\" class=\"dataframe\">\n",
       "  <thead>\n",
       "    <tr style=\"text-align: right;\">\n",
       "      <th></th>\n",
       "      <th>PassengerId</th>\n",
       "      <th>Pclass</th>\n",
       "      <th>Sex</th>\n",
       "      <th>Age</th>\n",
       "      <th>Fare</th>\n",
       "      <th>Cabin</th>\n",
       "      <th>Embarked</th>\n",
       "      <th>Title</th>\n",
       "      <th>FamilySize</th>\n",
       "    </tr>\n",
       "  </thead>\n",
       "  <tbody>\n",
       "    <tr>\n",
       "      <th>0</th>\n",
       "      <td>892</td>\n",
       "      <td>3</td>\n",
       "      <td>0</td>\n",
       "      <td>2.0</td>\n",
       "      <td>0.0</td>\n",
       "      <td>2.0</td>\n",
       "      <td>2</td>\n",
       "      <td>0</td>\n",
       "      <td>0.0</td>\n",
       "    </tr>\n",
       "    <tr>\n",
       "      <th>1</th>\n",
       "      <td>893</td>\n",
       "      <td>3</td>\n",
       "      <td>1</td>\n",
       "      <td>3.0</td>\n",
       "      <td>0.0</td>\n",
       "      <td>2.0</td>\n",
       "      <td>0</td>\n",
       "      <td>2</td>\n",
       "      <td>0.4</td>\n",
       "    </tr>\n",
       "    <tr>\n",
       "      <th>2</th>\n",
       "      <td>894</td>\n",
       "      <td>2</td>\n",
       "      <td>0</td>\n",
       "      <td>3.0</td>\n",
       "      <td>0.0</td>\n",
       "      <td>2.0</td>\n",
       "      <td>2</td>\n",
       "      <td>0</td>\n",
       "      <td>0.0</td>\n",
       "    </tr>\n",
       "    <tr>\n",
       "      <th>3</th>\n",
       "      <td>895</td>\n",
       "      <td>3</td>\n",
       "      <td>0</td>\n",
       "      <td>2.0</td>\n",
       "      <td>0.0</td>\n",
       "      <td>2.0</td>\n",
       "      <td>0</td>\n",
       "      <td>0</td>\n",
       "      <td>0.0</td>\n",
       "    </tr>\n",
       "    <tr>\n",
       "      <th>4</th>\n",
       "      <td>896</td>\n",
       "      <td>3</td>\n",
       "      <td>1</td>\n",
       "      <td>1.0</td>\n",
       "      <td>0.0</td>\n",
       "      <td>2.0</td>\n",
       "      <td>0</td>\n",
       "      <td>2</td>\n",
       "      <td>0.8</td>\n",
       "    </tr>\n",
       "  </tbody>\n",
       "</table>\n",
       "</div>"
      ],
      "text/plain": [
       "   PassengerId  Pclass  Sex  Age  Fare  Cabin  Embarked  Title  FamilySize\n",
       "0          892       3    0  2.0   0.0    2.0         2      0         0.0\n",
       "1          893       3    1  3.0   0.0    2.0         0      2         0.4\n",
       "2          894       2    0  3.0   0.0    2.0         2      0         0.0\n",
       "3          895       3    0  2.0   0.0    2.0         0      0         0.0\n",
       "4          896       3    1  1.0   0.0    2.0         0      2         0.8"
      ]
     },
     "execution_count": 132,
     "metadata": {},
     "output_type": "execute_result"
    }
   ],
   "source": [
    "test_dt.head()"
   ]
  },
  {
   "cell_type": "code",
   "execution_count": 133,
   "metadata": {},
   "outputs": [],
   "source": [
    "test_dt['Predictions'] = dt.predict(test_dt.loc[:, test.columns != 'PassengerId'])"
   ]
  },
  {
   "cell_type": "code",
   "execution_count": 134,
   "metadata": {},
   "outputs": [
    {
     "data": {
      "text/html": [
       "<div>\n",
       "<style scoped>\n",
       "    .dataframe tbody tr th:only-of-type {\n",
       "        vertical-align: middle;\n",
       "    }\n",
       "\n",
       "    .dataframe tbody tr th {\n",
       "        vertical-align: top;\n",
       "    }\n",
       "\n",
       "    .dataframe thead th {\n",
       "        text-align: right;\n",
       "    }\n",
       "</style>\n",
       "<table border=\"1\" class=\"dataframe\">\n",
       "  <thead>\n",
       "    <tr style=\"text-align: right;\">\n",
       "      <th></th>\n",
       "      <th>PassengerId</th>\n",
       "      <th>Pclass</th>\n",
       "      <th>Sex</th>\n",
       "      <th>Age</th>\n",
       "      <th>Fare</th>\n",
       "      <th>Cabin</th>\n",
       "      <th>Embarked</th>\n",
       "      <th>Title</th>\n",
       "      <th>FamilySize</th>\n",
       "      <th>Predictions</th>\n",
       "    </tr>\n",
       "  </thead>\n",
       "  <tbody>\n",
       "    <tr>\n",
       "      <th>0</th>\n",
       "      <td>892</td>\n",
       "      <td>3</td>\n",
       "      <td>0</td>\n",
       "      <td>2.0</td>\n",
       "      <td>0.0</td>\n",
       "      <td>2.0</td>\n",
       "      <td>2</td>\n",
       "      <td>0</td>\n",
       "      <td>0.0</td>\n",
       "      <td>0</td>\n",
       "    </tr>\n",
       "    <tr>\n",
       "      <th>1</th>\n",
       "      <td>893</td>\n",
       "      <td>3</td>\n",
       "      <td>1</td>\n",
       "      <td>3.0</td>\n",
       "      <td>0.0</td>\n",
       "      <td>2.0</td>\n",
       "      <td>0</td>\n",
       "      <td>2</td>\n",
       "      <td>0.4</td>\n",
       "      <td>0</td>\n",
       "    </tr>\n",
       "    <tr>\n",
       "      <th>2</th>\n",
       "      <td>894</td>\n",
       "      <td>2</td>\n",
       "      <td>0</td>\n",
       "      <td>3.0</td>\n",
       "      <td>0.0</td>\n",
       "      <td>2.0</td>\n",
       "      <td>2</td>\n",
       "      <td>0</td>\n",
       "      <td>0.0</td>\n",
       "      <td>0</td>\n",
       "    </tr>\n",
       "    <tr>\n",
       "      <th>3</th>\n",
       "      <td>895</td>\n",
       "      <td>3</td>\n",
       "      <td>0</td>\n",
       "      <td>2.0</td>\n",
       "      <td>0.0</td>\n",
       "      <td>2.0</td>\n",
       "      <td>0</td>\n",
       "      <td>0</td>\n",
       "      <td>0.0</td>\n",
       "      <td>0</td>\n",
       "    </tr>\n",
       "    <tr>\n",
       "      <th>4</th>\n",
       "      <td>896</td>\n",
       "      <td>3</td>\n",
       "      <td>1</td>\n",
       "      <td>1.0</td>\n",
       "      <td>0.0</td>\n",
       "      <td>2.0</td>\n",
       "      <td>0</td>\n",
       "      <td>2</td>\n",
       "      <td>0.8</td>\n",
       "      <td>0</td>\n",
       "    </tr>\n",
       "  </tbody>\n",
       "</table>\n",
       "</div>"
      ],
      "text/plain": [
       "   PassengerId  Pclass  Sex  Age  Fare  Cabin  Embarked  Title  FamilySize  \\\n",
       "0          892       3    0  2.0   0.0    2.0         2      0         0.0   \n",
       "1          893       3    1  3.0   0.0    2.0         0      2         0.4   \n",
       "2          894       2    0  3.0   0.0    2.0         2      0         0.0   \n",
       "3          895       3    0  2.0   0.0    2.0         0      0         0.0   \n",
       "4          896       3    1  1.0   0.0    2.0         0      2         0.8   \n",
       "\n",
       "   Predictions  \n",
       "0            0  \n",
       "1            0  \n",
       "2            0  \n",
       "3            0  \n",
       "4            0  "
      ]
     },
     "execution_count": 134,
     "metadata": {},
     "output_type": "execute_result"
    }
   ],
   "source": [
    "test_dt.head()"
   ]
  },
  {
   "cell_type": "code",
   "execution_count": 135,
   "metadata": {},
   "outputs": [],
   "source": [
    "test_predictions_dt = test_dt[['PassengerId','Predictions']]"
   ]
  },
  {
   "cell_type": "code",
   "execution_count": 136,
   "metadata": {},
   "outputs": [
    {
     "data": {
      "text/html": [
       "<div>\n",
       "<style scoped>\n",
       "    .dataframe tbody tr th:only-of-type {\n",
       "        vertical-align: middle;\n",
       "    }\n",
       "\n",
       "    .dataframe tbody tr th {\n",
       "        vertical-align: top;\n",
       "    }\n",
       "\n",
       "    .dataframe thead th {\n",
       "        text-align: right;\n",
       "    }\n",
       "</style>\n",
       "<table border=\"1\" class=\"dataframe\">\n",
       "  <thead>\n",
       "    <tr style=\"text-align: right;\">\n",
       "      <th></th>\n",
       "      <th>PassengerId</th>\n",
       "      <th>Predictions</th>\n",
       "    </tr>\n",
       "  </thead>\n",
       "  <tbody>\n",
       "    <tr>\n",
       "      <th>0</th>\n",
       "      <td>892</td>\n",
       "      <td>0</td>\n",
       "    </tr>\n",
       "    <tr>\n",
       "      <th>1</th>\n",
       "      <td>893</td>\n",
       "      <td>0</td>\n",
       "    </tr>\n",
       "    <tr>\n",
       "      <th>2</th>\n",
       "      <td>894</td>\n",
       "      <td>0</td>\n",
       "    </tr>\n",
       "    <tr>\n",
       "      <th>3</th>\n",
       "      <td>895</td>\n",
       "      <td>0</td>\n",
       "    </tr>\n",
       "    <tr>\n",
       "      <th>4</th>\n",
       "      <td>896</td>\n",
       "      <td>0</td>\n",
       "    </tr>\n",
       "  </tbody>\n",
       "</table>\n",
       "</div>"
      ],
      "text/plain": [
       "   PassengerId  Predictions\n",
       "0          892            0\n",
       "1          893            0\n",
       "2          894            0\n",
       "3          895            0\n",
       "4          896            0"
      ]
     },
     "execution_count": 136,
     "metadata": {},
     "output_type": "execute_result"
    }
   ],
   "source": [
    "test_predictions_dt.head()"
   ]
  },
  {
   "cell_type": "code",
   "execution_count": 137,
   "metadata": {},
   "outputs": [],
   "source": [
    "test_predictions_dt.to_csv(\"decision_tree_pred.csv\", index=False)"
   ]
  },
  {
   "cell_type": "markdown",
   "metadata": {},
   "source": [
    "### for  GaussianNB"
   ]
  },
  {
   "cell_type": "code",
   "execution_count": 138,
   "metadata": {},
   "outputs": [],
   "source": [
    "test_gnb['Predictions'] = gnb.predict(test_gnb.loc[:, test.columns != 'PassengerId'])"
   ]
  },
  {
   "cell_type": "code",
   "execution_count": 139,
   "metadata": {},
   "outputs": [
    {
     "data": {
      "text/html": [
       "<div>\n",
       "<style scoped>\n",
       "    .dataframe tbody tr th:only-of-type {\n",
       "        vertical-align: middle;\n",
       "    }\n",
       "\n",
       "    .dataframe tbody tr th {\n",
       "        vertical-align: top;\n",
       "    }\n",
       "\n",
       "    .dataframe thead th {\n",
       "        text-align: right;\n",
       "    }\n",
       "</style>\n",
       "<table border=\"1\" class=\"dataframe\">\n",
       "  <thead>\n",
       "    <tr style=\"text-align: right;\">\n",
       "      <th></th>\n",
       "      <th>PassengerId</th>\n",
       "      <th>Pclass</th>\n",
       "      <th>Sex</th>\n",
       "      <th>Age</th>\n",
       "      <th>Fare</th>\n",
       "      <th>Cabin</th>\n",
       "      <th>Embarked</th>\n",
       "      <th>Title</th>\n",
       "      <th>FamilySize</th>\n",
       "      <th>Predictions</th>\n",
       "    </tr>\n",
       "  </thead>\n",
       "  <tbody>\n",
       "    <tr>\n",
       "      <th>0</th>\n",
       "      <td>892</td>\n",
       "      <td>3</td>\n",
       "      <td>0</td>\n",
       "      <td>2.0</td>\n",
       "      <td>0.0</td>\n",
       "      <td>2.0</td>\n",
       "      <td>2</td>\n",
       "      <td>0</td>\n",
       "      <td>0.0</td>\n",
       "      <td>0</td>\n",
       "    </tr>\n",
       "    <tr>\n",
       "      <th>1</th>\n",
       "      <td>893</td>\n",
       "      <td>3</td>\n",
       "      <td>1</td>\n",
       "      <td>3.0</td>\n",
       "      <td>0.0</td>\n",
       "      <td>2.0</td>\n",
       "      <td>0</td>\n",
       "      <td>2</td>\n",
       "      <td>0.4</td>\n",
       "      <td>1</td>\n",
       "    </tr>\n",
       "    <tr>\n",
       "      <th>2</th>\n",
       "      <td>894</td>\n",
       "      <td>2</td>\n",
       "      <td>0</td>\n",
       "      <td>3.0</td>\n",
       "      <td>0.0</td>\n",
       "      <td>2.0</td>\n",
       "      <td>2</td>\n",
       "      <td>0</td>\n",
       "      <td>0.0</td>\n",
       "      <td>0</td>\n",
       "    </tr>\n",
       "    <tr>\n",
       "      <th>3</th>\n",
       "      <td>895</td>\n",
       "      <td>3</td>\n",
       "      <td>0</td>\n",
       "      <td>2.0</td>\n",
       "      <td>0.0</td>\n",
       "      <td>2.0</td>\n",
       "      <td>0</td>\n",
       "      <td>0</td>\n",
       "      <td>0.0</td>\n",
       "      <td>0</td>\n",
       "    </tr>\n",
       "    <tr>\n",
       "      <th>4</th>\n",
       "      <td>896</td>\n",
       "      <td>3</td>\n",
       "      <td>1</td>\n",
       "      <td>1.0</td>\n",
       "      <td>0.0</td>\n",
       "      <td>2.0</td>\n",
       "      <td>0</td>\n",
       "      <td>2</td>\n",
       "      <td>0.8</td>\n",
       "      <td>1</td>\n",
       "    </tr>\n",
       "  </tbody>\n",
       "</table>\n",
       "</div>"
      ],
      "text/plain": [
       "   PassengerId  Pclass  Sex  Age  Fare  Cabin  Embarked  Title  FamilySize  \\\n",
       "0          892       3    0  2.0   0.0    2.0         2      0         0.0   \n",
       "1          893       3    1  3.0   0.0    2.0         0      2         0.4   \n",
       "2          894       2    0  3.0   0.0    2.0         2      0         0.0   \n",
       "3          895       3    0  2.0   0.0    2.0         0      0         0.0   \n",
       "4          896       3    1  1.0   0.0    2.0         0      2         0.8   \n",
       "\n",
       "   Predictions  \n",
       "0            0  \n",
       "1            1  \n",
       "2            0  \n",
       "3            0  \n",
       "4            1  "
      ]
     },
     "execution_count": 139,
     "metadata": {},
     "output_type": "execute_result"
    }
   ],
   "source": [
    "test_gnb.head()"
   ]
  },
  {
   "cell_type": "code",
   "execution_count": 140,
   "metadata": {},
   "outputs": [],
   "source": [
    "test_predictions_gnb = test_gnb[['PassengerId','Predictions']]"
   ]
  },
  {
   "cell_type": "code",
   "execution_count": 141,
   "metadata": {},
   "outputs": [
    {
     "data": {
      "text/html": [
       "<div>\n",
       "<style scoped>\n",
       "    .dataframe tbody tr th:only-of-type {\n",
       "        vertical-align: middle;\n",
       "    }\n",
       "\n",
       "    .dataframe tbody tr th {\n",
       "        vertical-align: top;\n",
       "    }\n",
       "\n",
       "    .dataframe thead th {\n",
       "        text-align: right;\n",
       "    }\n",
       "</style>\n",
       "<table border=\"1\" class=\"dataframe\">\n",
       "  <thead>\n",
       "    <tr style=\"text-align: right;\">\n",
       "      <th></th>\n",
       "      <th>PassengerId</th>\n",
       "      <th>Predictions</th>\n",
       "    </tr>\n",
       "  </thead>\n",
       "  <tbody>\n",
       "    <tr>\n",
       "      <th>0</th>\n",
       "      <td>892</td>\n",
       "      <td>0</td>\n",
       "    </tr>\n",
       "    <tr>\n",
       "      <th>1</th>\n",
       "      <td>893</td>\n",
       "      <td>1</td>\n",
       "    </tr>\n",
       "    <tr>\n",
       "      <th>2</th>\n",
       "      <td>894</td>\n",
       "      <td>0</td>\n",
       "    </tr>\n",
       "    <tr>\n",
       "      <th>3</th>\n",
       "      <td>895</td>\n",
       "      <td>0</td>\n",
       "    </tr>\n",
       "    <tr>\n",
       "      <th>4</th>\n",
       "      <td>896</td>\n",
       "      <td>1</td>\n",
       "    </tr>\n",
       "  </tbody>\n",
       "</table>\n",
       "</div>"
      ],
      "text/plain": [
       "   PassengerId  Predictions\n",
       "0          892            0\n",
       "1          893            1\n",
       "2          894            0\n",
       "3          895            0\n",
       "4          896            1"
      ]
     },
     "execution_count": 141,
     "metadata": {},
     "output_type": "execute_result"
    }
   ],
   "source": [
    "test_predictions_gnb.head()"
   ]
  },
  {
   "cell_type": "code",
   "execution_count": 142,
   "metadata": {},
   "outputs": [],
   "source": [
    "test_predictions_gnb.to_csv(\"gaussiannb_pred.csv\", index=False)"
   ]
  },
  {
   "cell_type": "code",
   "execution_count": null,
   "metadata": {},
   "outputs": [],
   "source": []
  }
 ],
 "metadata": {
  "kernelspec": {
   "display_name": "Python 3",
   "language": "python",
   "name": "python3"
  },
  "language_info": {
   "codemirror_mode": {
    "name": "ipython",
    "version": 3
   },
   "file_extension": ".py",
   "mimetype": "text/x-python",
   "name": "python",
   "nbconvert_exporter": "python",
   "pygments_lexer": "ipython3",
   "version": "3.8.5"
  }
 },
 "nbformat": 4,
 "nbformat_minor": 5
}
